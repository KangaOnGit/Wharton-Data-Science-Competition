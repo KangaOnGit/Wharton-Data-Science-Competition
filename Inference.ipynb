{
 "cells": [
  {
   "cell_type": "markdown",
   "id": "cf12727c",
   "metadata": {
    "_cell_guid": "b1076dfc-b9ad-4769-8c92-a6c4dae69d19",
    "_uuid": "8f2839f25d086af736a60e9eeb907d3b93b6e0e5",
    "papermill": {
     "duration": 0.008813,
     "end_time": "2025-02-18T05:29:11.440202",
     "exception": false,
     "start_time": "2025-02-18T05:29:11.431389",
     "status": "completed"
    },
    "tags": []
   },
   "source": [
    "----------------\n",
    "# **Library**"
   ]
  },
  {
   "cell_type": "code",
   "execution_count": 1,
   "id": "72725612",
   "metadata": {
    "execution": {
     "iopub.execute_input": "2025-02-18T05:29:11.458136Z",
     "iopub.status.busy": "2025-02-18T05:29:11.457644Z",
     "iopub.status.idle": "2025-02-18T05:29:17.223257Z",
     "shell.execute_reply": "2025-02-18T05:29:17.221813Z"
    },
    "papermill": {
     "duration": 5.777445,
     "end_time": "2025-02-18T05:29:17.225922",
     "exception": false,
     "start_time": "2025-02-18T05:29:11.448477",
     "status": "completed"
    },
    "scrolled": true,
    "tags": []
   },
   "outputs": [
    {
     "name": "stdout",
     "output_type": "stream",
     "text": [
      "Requirement already satisfied: timm in /usr/local/lib/python3.10/dist-packages (1.0.12)\r\n",
      "Requirement already satisfied: torch in /usr/local/lib/python3.10/dist-packages (from timm) (2.5.1+cu121)\r\n",
      "Requirement already satisfied: torchvision in /usr/local/lib/python3.10/dist-packages (from timm) (0.20.1+cu121)\r\n",
      "Requirement already satisfied: pyyaml in /usr/local/lib/python3.10/dist-packages (from timm) (6.0.2)\r\n",
      "Requirement already satisfied: huggingface_hub in /usr/local/lib/python3.10/dist-packages (from timm) (0.28.1)\r\n",
      "Requirement already satisfied: safetensors in /usr/local/lib/python3.10/dist-packages (from timm) (0.4.5)\r\n",
      "Requirement already satisfied: filelock in /usr/local/lib/python3.10/dist-packages (from huggingface_hub->timm) (3.17.0)\r\n",
      "Requirement already satisfied: fsspec>=2023.5.0 in /usr/local/lib/python3.10/dist-packages (from huggingface_hub->timm) (2024.9.0)\r\n",
      "Requirement already satisfied: packaging>=20.9 in /usr/local/lib/python3.10/dist-packages (from huggingface_hub->timm) (24.2)\r\n",
      "Requirement already satisfied: requests in /usr/local/lib/python3.10/dist-packages (from huggingface_hub->timm) (2.32.3)\r\n",
      "Requirement already satisfied: tqdm>=4.42.1 in /usr/local/lib/python3.10/dist-packages (from huggingface_hub->timm) (4.67.1)\r\n",
      "Requirement already satisfied: typing-extensions>=3.7.4.3 in /usr/local/lib/python3.10/dist-packages (from huggingface_hub->timm) (4.12.2)\r\n",
      "Requirement already satisfied: networkx in /usr/local/lib/python3.10/dist-packages (from torch->timm) (3.4.2)\r\n",
      "Requirement already satisfied: jinja2 in /usr/local/lib/python3.10/dist-packages (from torch->timm) (3.1.4)\r\n",
      "Requirement already satisfied: sympy==1.13.1 in /usr/local/lib/python3.10/dist-packages (from torch->timm) (1.13.1)\r\n",
      "Requirement already satisfied: mpmath<1.4,>=1.1.0 in /usr/local/lib/python3.10/dist-packages (from sympy==1.13.1->torch->timm) (1.3.0)\r\n",
      "Requirement already satisfied: numpy in /usr/local/lib/python3.10/dist-packages (from torchvision->timm) (1.26.4)\r\n",
      "Requirement already satisfied: pillow!=8.3.*,>=5.3.0 in /usr/local/lib/python3.10/dist-packages (from torchvision->timm) (11.0.0)\r\n",
      "Requirement already satisfied: MarkupSafe>=2.0 in /usr/local/lib/python3.10/dist-packages (from jinja2->torch->timm) (3.0.2)\r\n",
      "Requirement already satisfied: mkl_fft in /usr/local/lib/python3.10/dist-packages (from numpy->torchvision->timm) (1.3.8)\r\n",
      "Requirement already satisfied: mkl_random in /usr/local/lib/python3.10/dist-packages (from numpy->torchvision->timm) (1.2.4)\r\n",
      "Requirement already satisfied: mkl_umath in /usr/local/lib/python3.10/dist-packages (from numpy->torchvision->timm) (0.1.1)\r\n",
      "Requirement already satisfied: mkl in /usr/local/lib/python3.10/dist-packages (from numpy->torchvision->timm) (2025.0.1)\r\n",
      "Requirement already satisfied: tbb4py in /usr/local/lib/python3.10/dist-packages (from numpy->torchvision->timm) (2022.0.0)\r\n",
      "Requirement already satisfied: mkl-service in /usr/local/lib/python3.10/dist-packages (from numpy->torchvision->timm) (2.4.1)\r\n",
      "Requirement already satisfied: charset-normalizer<4,>=2 in /usr/local/lib/python3.10/dist-packages (from requests->huggingface_hub->timm) (3.4.1)\r\n",
      "Requirement already satisfied: idna<4,>=2.5 in /usr/local/lib/python3.10/dist-packages (from requests->huggingface_hub->timm) (3.10)\r\n",
      "Requirement already satisfied: urllib3<3,>=1.21.1 in /usr/local/lib/python3.10/dist-packages (from requests->huggingface_hub->timm) (2.3.0)\r\n",
      "Requirement already satisfied: certifi>=2017.4.17 in /usr/local/lib/python3.10/dist-packages (from requests->huggingface_hub->timm) (2025.1.31)\r\n",
      "Requirement already satisfied: intel-openmp>=2024 in /usr/local/lib/python3.10/dist-packages (from mkl->numpy->torchvision->timm) (2024.2.0)\r\n",
      "Requirement already satisfied: tbb==2022.* in /usr/local/lib/python3.10/dist-packages (from mkl->numpy->torchvision->timm) (2022.0.0)\r\n",
      "Requirement already satisfied: tcmlib==1.* in /usr/local/lib/python3.10/dist-packages (from tbb==2022.*->mkl->numpy->torchvision->timm) (1.2.0)\r\n",
      "Requirement already satisfied: intel-cmplr-lib-rt in /usr/local/lib/python3.10/dist-packages (from mkl_umath->numpy->torchvision->timm) (2024.2.0)\r\n",
      "Requirement already satisfied: intel-cmplr-lib-ur==2024.2.0 in /usr/local/lib/python3.10/dist-packages (from intel-openmp>=2024->mkl->numpy->torchvision->timm) (2024.2.0)\r\n"
     ]
    }
   ],
   "source": [
    "!pip install timm"
   ]
  },
  {
   "cell_type": "code",
   "execution_count": 2,
   "id": "407b77ff",
   "metadata": {
    "execution": {
     "iopub.execute_input": "2025-02-18T05:29:17.244631Z",
     "iopub.status.busy": "2025-02-18T05:29:17.244232Z",
     "iopub.status.idle": "2025-02-18T05:29:34.419501Z",
     "shell.execute_reply": "2025-02-18T05:29:34.418301Z"
    },
    "papermill": {
     "duration": 17.186954,
     "end_time": "2025-02-18T05:29:34.421612",
     "exception": false,
     "start_time": "2025-02-18T05:29:17.234658",
     "status": "completed"
    },
    "tags": []
   },
   "outputs": [],
   "source": [
    "# Data Processing n' Visualization\n",
    "import matplotlib.pyplot as plt\n",
    "import pandas as pd\n",
    "import seaborn as sns\n",
    "\n",
    "# Compute\n",
    "import numpy as np\n",
    "import torch\n",
    "import torch.nn as nn\n",
    "import torch.optim as optim\n",
    "\n",
    "# Data\n",
    "from torch.utils.data import Dataset, DataLoader\n",
    "from sklearn.model_selection import train_test_split\n",
    "\n",
    "# Random\n",
    "import os\n",
    "import random as rand\n",
    "import timm"
   ]
  },
  {
   "cell_type": "code",
   "execution_count": 3,
   "id": "8491e684",
   "metadata": {
    "execution": {
     "iopub.execute_input": "2025-02-18T05:29:34.440200Z",
     "iopub.status.busy": "2025-02-18T05:29:34.439810Z",
     "iopub.status.idle": "2025-02-18T05:29:34.444285Z",
     "shell.execute_reply": "2025-02-18T05:29:34.443211Z"
    },
    "papermill": {
     "duration": 0.015709,
     "end_time": "2025-02-18T05:29:34.445950",
     "exception": false,
     "start_time": "2025-02-18T05:29:34.430241",
     "status": "completed"
    },
    "tags": []
   },
   "outputs": [],
   "source": [
    "torch.cuda.empty_cache()"
   ]
  },
  {
   "cell_type": "code",
   "execution_count": 4,
   "id": "dc788802",
   "metadata": {
    "execution": {
     "iopub.execute_input": "2025-02-18T05:29:34.464245Z",
     "iopub.status.busy": "2025-02-18T05:29:34.463833Z",
     "iopub.status.idle": "2025-02-18T05:29:34.471619Z",
     "shell.execute_reply": "2025-02-18T05:29:34.470570Z"
    },
    "papermill": {
     "duration": 0.018892,
     "end_time": "2025-02-18T05:29:34.473448",
     "exception": false,
     "start_time": "2025-02-18T05:29:34.454556",
     "status": "completed"
    },
    "tags": []
   },
   "outputs": [],
   "source": [
    "def set_seed(seed):\n",
    "  rand.seed(seed)\n",
    "  np.random.seed(seed)\n",
    "  torch.cuda.manual_seed(seed)\n",
    "  torch.cuda.manual_seed_all(seed)\n",
    "  torch.backends.cudnn.deterministic = True\n",
    "  torch.backends.cudnn.benchmark = False\n",
    "\n",
    "seed = 59\n",
    "set_seed(59)"
   ]
  },
  {
   "cell_type": "markdown",
   "id": "c03c7b2a",
   "metadata": {
    "papermill": {
     "duration": 0.008341,
     "end_time": "2025-02-18T05:29:34.490352",
     "exception": false,
     "start_time": "2025-02-18T05:29:34.482011",
     "status": "completed"
    },
    "tags": []
   },
   "source": [
    "-----------------\n",
    "# **Data Sample**"
   ]
  },
  {
   "cell_type": "code",
   "execution_count": 5,
   "id": "407b58bf",
   "metadata": {
    "execution": {
     "iopub.execute_input": "2025-02-18T05:29:34.508223Z",
     "iopub.status.busy": "2025-02-18T05:29:34.507817Z",
     "iopub.status.idle": "2025-02-18T05:29:34.512019Z",
     "shell.execute_reply": "2025-02-18T05:29:34.511125Z"
    },
    "papermill": {
     "duration": 0.015249,
     "end_time": "2025-02-18T05:29:34.513776",
     "exception": false,
     "start_time": "2025-02-18T05:29:34.498527",
     "status": "completed"
    },
    "tags": []
   },
   "outputs": [],
   "source": [
    "data_dir = '/kaggle/input/bkb-data/games_2022 (1).xlsx'\n",
    "infer_dir = '/kaggle/input/infer-wharton/inference.csv'"
   ]
  },
  {
   "cell_type": "code",
   "execution_count": 6,
   "id": "d49d999e",
   "metadata": {
    "execution": {
     "iopub.execute_input": "2025-02-18T05:29:34.537172Z",
     "iopub.status.busy": "2025-02-18T05:29:34.536686Z",
     "iopub.status.idle": "2025-02-18T05:29:41.677624Z",
     "shell.execute_reply": "2025-02-18T05:29:41.676347Z"
    },
    "papermill": {
     "duration": 7.157115,
     "end_time": "2025-02-18T05:29:41.679441",
     "exception": false,
     "start_time": "2025-02-18T05:29:34.522326",
     "status": "completed"
    },
    "tags": []
   },
   "outputs": [
    {
     "name": "stdout",
     "output_type": "stream",
     "text": [
      "Dataset Type: <class 'pandas.core.frame.DataFrame'>\n"
     ]
    }
   ],
   "source": [
    "df = pd.read_excel(data_dir)\n",
    "inf = pd.read_csv(infer_dir)\n",
    "print(f\"Dataset Type: {type(df)}\")"
   ]
  },
  {
   "cell_type": "code",
   "execution_count": 7,
   "id": "9140ce7e",
   "metadata": {
    "execution": {
     "iopub.execute_input": "2025-02-18T05:29:41.698132Z",
     "iopub.status.busy": "2025-02-18T05:29:41.697731Z",
     "iopub.status.idle": "2025-02-18T05:29:41.701731Z",
     "shell.execute_reply": "2025-02-18T05:29:41.700762Z"
    },
    "papermill": {
     "duration": 0.015189,
     "end_time": "2025-02-18T05:29:41.703240",
     "exception": false,
     "start_time": "2025-02-18T05:29:41.688051",
     "status": "completed"
    },
    "tags": []
   },
   "outputs": [],
   "source": [
    "df_ts = df"
   ]
  },
  {
   "cell_type": "code",
   "execution_count": 8,
   "id": "8d6956e0",
   "metadata": {
    "execution": {
     "iopub.execute_input": "2025-02-18T05:29:41.721687Z",
     "iopub.status.busy": "2025-02-18T05:29:41.721314Z",
     "iopub.status.idle": "2025-02-18T05:29:41.754585Z",
     "shell.execute_reply": "2025-02-18T05:29:41.753157Z"
    },
    "papermill": {
     "duration": 0.044554,
     "end_time": "2025-02-18T05:29:41.756445",
     "exception": false,
     "start_time": "2025-02-18T05:29:41.711891",
     "status": "completed"
    },
    "tags": []
   },
   "outputs": [
    {
     "name": "stderr",
     "output_type": "stream",
     "text": [
      "/usr/local/lib/python3.10/dist-packages/pandas/io/formats/format.py:1458: RuntimeWarning: invalid value encountered in greater\n",
      "  has_large_values = (abs_vals > 1e6).any()\n",
      "/usr/local/lib/python3.10/dist-packages/pandas/io/formats/format.py:1459: RuntimeWarning: invalid value encountered in less\n",
      "  has_small_values = ((abs_vals < 10 ** (-self.digits)) & (abs_vals > 0)).any()\n",
      "/usr/local/lib/python3.10/dist-packages/pandas/io/formats/format.py:1459: RuntimeWarning: invalid value encountered in greater\n",
      "  has_small_values = ((abs_vals < 10 ** (-self.digits)) & (abs_vals > 0)).any()\n"
     ]
    },
    {
     "data": {
      "text/html": [
       "<div>\n",
       "<style scoped>\n",
       "    .dataframe tbody tr th:only-of-type {\n",
       "        vertical-align: middle;\n",
       "    }\n",
       "\n",
       "    .dataframe tbody tr th {\n",
       "        vertical-align: top;\n",
       "    }\n",
       "\n",
       "    .dataframe thead th {\n",
       "        text-align: right;\n",
       "    }\n",
       "</style>\n",
       "<table border=\"1\" class=\"dataframe\">\n",
       "  <thead>\n",
       "    <tr style=\"text-align: right;\">\n",
       "      <th></th>\n",
       "      <th>game_id</th>\n",
       "      <th>description</th>\n",
       "      <th>team_home</th>\n",
       "      <th>team_away</th>\n",
       "      <th>seed_home</th>\n",
       "      <th>seed_away</th>\n",
       "      <th>home_away_NS</th>\n",
       "      <th>rest_days_Home</th>\n",
       "      <th>rest_days_Away</th>\n",
       "      <th>travel_dist_Home</th>\n",
       "      <th>travel_dist_Away</th>\n",
       "      <th>WINNING %</th>\n",
       "    </tr>\n",
       "  </thead>\n",
       "  <tbody>\n",
       "    <tr>\n",
       "      <th>0</th>\n",
       "      <td>G_East_1</td>\n",
       "      <td>play-in-game</td>\n",
       "      <td>rhode_island_rams</td>\n",
       "      <td>north_carolina_tar_heels</td>\n",
       "      <td>16</td>\n",
       "      <td>17</td>\n",
       "      <td>0</td>\n",
       "      <td>6</td>\n",
       "      <td>1</td>\n",
       "      <td>0</td>\n",
       "      <td>770</td>\n",
       "      <td>NaN</td>\n",
       "    </tr>\n",
       "    <tr>\n",
       "      <th>1</th>\n",
       "      <td>G_East_2</td>\n",
       "      <td>play-in team A v 1</td>\n",
       "      <td>nc_state_wolfpack</td>\n",
       "      <td>rhode_island_rams</td>\n",
       "      <td>1</td>\n",
       "      <td>16</td>\n",
       "      <td>0</td>\n",
       "      <td>7</td>\n",
       "      <td>1</td>\n",
       "      <td>1440</td>\n",
       "      <td>0</td>\n",
       "      <td>NaN</td>\n",
       "    </tr>\n",
       "    <tr>\n",
       "      <th>2</th>\n",
       "      <td>G_East_3</td>\n",
       "      <td>play-in team B v 1</td>\n",
       "      <td>nc_state_wolfpack</td>\n",
       "      <td>north_carolina_tar_heels</td>\n",
       "      <td>1</td>\n",
       "      <td>17</td>\n",
       "      <td>0</td>\n",
       "      <td>7</td>\n",
       "      <td>1</td>\n",
       "      <td>1440</td>\n",
       "      <td>770</td>\n",
       "      <td>NaN</td>\n",
       "    </tr>\n",
       "    <tr>\n",
       "      <th>3</th>\n",
       "      <td>G_East_4</td>\n",
       "      <td>2 v 15</td>\n",
       "      <td>liberty_flames</td>\n",
       "      <td>bucknell_bison</td>\n",
       "      <td>2</td>\n",
       "      <td>9</td>\n",
       "      <td>0</td>\n",
       "      <td>7</td>\n",
       "      <td>10</td>\n",
       "      <td>255</td>\n",
       "      <td>250</td>\n",
       "      <td>NaN</td>\n",
       "    </tr>\n",
       "    <tr>\n",
       "      <th>4</th>\n",
       "      <td>G_East_5</td>\n",
       "      <td>3 v 14</td>\n",
       "      <td>drexel_dragons</td>\n",
       "      <td>delaware_blue_hens</td>\n",
       "      <td>3</td>\n",
       "      <td>10</td>\n",
       "      <td>0</td>\n",
       "      <td>11</td>\n",
       "      <td>9</td>\n",
       "      <td>0</td>\n",
       "      <td>680</td>\n",
       "      <td>NaN</td>\n",
       "    </tr>\n",
       "  </tbody>\n",
       "</table>\n",
       "</div>"
      ],
      "text/plain": [
       "    game_id         description          team_home                 team_away  \\\n",
       "0  G_East_1        play-in-game  rhode_island_rams  north_carolina_tar_heels   \n",
       "1  G_East_2  play-in team A v 1  nc_state_wolfpack         rhode_island_rams   \n",
       "2  G_East_3  play-in team B v 1  nc_state_wolfpack  north_carolina_tar_heels   \n",
       "3  G_East_4              2 v 15     liberty_flames            bucknell_bison   \n",
       "4  G_East_5              3 v 14     drexel_dragons        delaware_blue_hens   \n",
       "\n",
       "   seed_home  seed_away  home_away_NS  rest_days_Home  rest_days_Away  \\\n",
       "0         16         17             0               6               1   \n",
       "1          1         16             0               7               1   \n",
       "2          1         17             0               7               1   \n",
       "3          2          9             0               7              10   \n",
       "4          3         10             0              11               9   \n",
       "\n",
       "   travel_dist_Home  travel_dist_Away  WINNING %  \n",
       "0                 0               770        NaN  \n",
       "1              1440                 0        NaN  \n",
       "2              1440               770        NaN  \n",
       "3               255               250        NaN  \n",
       "4                 0               680        NaN  "
      ]
     },
     "execution_count": 8,
     "metadata": {},
     "output_type": "execute_result"
    }
   ],
   "source": [
    "inf.head()"
   ]
  },
  {
   "cell_type": "code",
   "execution_count": 9,
   "id": "cd9f7b2c",
   "metadata": {
    "execution": {
     "iopub.execute_input": "2025-02-18T05:29:41.775657Z",
     "iopub.status.busy": "2025-02-18T05:29:41.775280Z",
     "iopub.status.idle": "2025-02-18T05:29:41.805865Z",
     "shell.execute_reply": "2025-02-18T05:29:41.804730Z"
    },
    "papermill": {
     "duration": 0.042137,
     "end_time": "2025-02-18T05:29:41.807624",
     "exception": false,
     "start_time": "2025-02-18T05:29:41.765487",
     "status": "completed"
    },
    "tags": []
   },
   "outputs": [
    {
     "name": "stderr",
     "output_type": "stream",
     "text": [
      "/usr/local/lib/python3.10/dist-packages/pandas/io/formats/format.py:1458: RuntimeWarning: invalid value encountered in greater\n",
      "  has_large_values = (abs_vals > 1e6).any()\n",
      "/usr/local/lib/python3.10/dist-packages/pandas/io/formats/format.py:1459: RuntimeWarning: invalid value encountered in less\n",
      "  has_small_values = ((abs_vals < 10 ** (-self.digits)) & (abs_vals > 0)).any()\n",
      "/usr/local/lib/python3.10/dist-packages/pandas/io/formats/format.py:1459: RuntimeWarning: invalid value encountered in greater\n",
      "  has_small_values = ((abs_vals < 10 ** (-self.digits)) & (abs_vals > 0)).any()\n",
      "/usr/local/lib/python3.10/dist-packages/pandas/io/formats/format.py:1458: RuntimeWarning: invalid value encountered in greater\n",
      "  has_large_values = (abs_vals > 1e6).any()\n",
      "/usr/local/lib/python3.10/dist-packages/pandas/io/formats/format.py:1459: RuntimeWarning: invalid value encountered in less\n",
      "  has_small_values = ((abs_vals < 10 ** (-self.digits)) & (abs_vals > 0)).any()\n",
      "/usr/local/lib/python3.10/dist-packages/pandas/io/formats/format.py:1459: RuntimeWarning: invalid value encountered in greater\n",
      "  has_small_values = ((abs_vals < 10 ** (-self.digits)) & (abs_vals > 0)).any()\n"
     ]
    },
    {
     "data": {
      "text/html": [
       "<div>\n",
       "<style scoped>\n",
       "    .dataframe tbody tr th:only-of-type {\n",
       "        vertical-align: middle;\n",
       "    }\n",
       "\n",
       "    .dataframe tbody tr th {\n",
       "        vertical-align: top;\n",
       "    }\n",
       "\n",
       "    .dataframe thead th {\n",
       "        text-align: right;\n",
       "    }\n",
       "</style>\n",
       "<table border=\"1\" class=\"dataframe\">\n",
       "  <thead>\n",
       "    <tr style=\"text-align: right;\">\n",
       "      <th></th>\n",
       "      <th>game_id</th>\n",
       "      <th>game_date</th>\n",
       "      <th>team</th>\n",
       "      <th>FGA_2</th>\n",
       "      <th>FGM_2</th>\n",
       "      <th>FGA_3</th>\n",
       "      <th>FGM_3</th>\n",
       "      <th>FTA</th>\n",
       "      <th>FTM</th>\n",
       "      <th>AST</th>\n",
       "      <th>...</th>\n",
       "      <th>largest_lead</th>\n",
       "      <th>notD1_incomplete</th>\n",
       "      <th>OT_length_min_tot</th>\n",
       "      <th>rest_days</th>\n",
       "      <th>attendance</th>\n",
       "      <th>tz_dif_H_E</th>\n",
       "      <th>prev_game_dist</th>\n",
       "      <th>home_away</th>\n",
       "      <th>home_away_NS</th>\n",
       "      <th>travel_dist</th>\n",
       "    </tr>\n",
       "  </thead>\n",
       "  <tbody>\n",
       "    <tr>\n",
       "      <th>0</th>\n",
       "      <td>game_2022_2011</td>\n",
       "      <td>2021-12-30</td>\n",
       "      <td>georgia_lady_bulldogs</td>\n",
       "      <td>50</td>\n",
       "      <td>22</td>\n",
       "      <td>11</td>\n",
       "      <td>5</td>\n",
       "      <td>6</td>\n",
       "      <td>3</td>\n",
       "      <td>14</td>\n",
       "      <td>...</td>\n",
       "      <td>1.0</td>\n",
       "      <td>False</td>\n",
       "      <td>NaN</td>\n",
       "      <td>9.0</td>\n",
       "      <td>3241.0</td>\n",
       "      <td>0.0</td>\n",
       "      <td>0.0</td>\n",
       "      <td>home</td>\n",
       "      <td>1</td>\n",
       "      <td>0.0</td>\n",
       "    </tr>\n",
       "    <tr>\n",
       "      <th>1</th>\n",
       "      <td>game_2022_2011</td>\n",
       "      <td>2021-12-30</td>\n",
       "      <td>lsu_tigers</td>\n",
       "      <td>50</td>\n",
       "      <td>24</td>\n",
       "      <td>11</td>\n",
       "      <td>4</td>\n",
       "      <td>15</td>\n",
       "      <td>8</td>\n",
       "      <td>15</td>\n",
       "      <td>...</td>\n",
       "      <td>14.0</td>\n",
       "      <td>False</td>\n",
       "      <td>NaN</td>\n",
       "      <td>3.0</td>\n",
       "      <td>3241.0</td>\n",
       "      <td>0.0</td>\n",
       "      <td>824.0</td>\n",
       "      <td>away</td>\n",
       "      <td>-1</td>\n",
       "      <td>824.0</td>\n",
       "    </tr>\n",
       "    <tr>\n",
       "      <th>2</th>\n",
       "      <td>game_2022_2012</td>\n",
       "      <td>2021-12-30</td>\n",
       "      <td>missouri_tigers</td>\n",
       "      <td>43</td>\n",
       "      <td>18</td>\n",
       "      <td>15</td>\n",
       "      <td>7</td>\n",
       "      <td>16</td>\n",
       "      <td>13</td>\n",
       "      <td>10</td>\n",
       "      <td>...</td>\n",
       "      <td>8.0</td>\n",
       "      <td>False</td>\n",
       "      <td>5.0</td>\n",
       "      <td>8.0</td>\n",
       "      <td>6139.0</td>\n",
       "      <td>0.0</td>\n",
       "      <td>371.0</td>\n",
       "      <td>home</td>\n",
       "      <td>1</td>\n",
       "      <td>0.0</td>\n",
       "    </tr>\n",
       "    <tr>\n",
       "      <th>3</th>\n",
       "      <td>game_2022_2012</td>\n",
       "      <td>2021-12-30</td>\n",
       "      <td>south_carolina_gamecocks</td>\n",
       "      <td>55</td>\n",
       "      <td>23</td>\n",
       "      <td>21</td>\n",
       "      <td>6</td>\n",
       "      <td>9</td>\n",
       "      <td>5</td>\n",
       "      <td>15</td>\n",
       "      <td>...</td>\n",
       "      <td>6.0</td>\n",
       "      <td>False</td>\n",
       "      <td>5.0</td>\n",
       "      <td>9.0</td>\n",
       "      <td>6139.0</td>\n",
       "      <td>0.0</td>\n",
       "      <td>1154.0</td>\n",
       "      <td>away</td>\n",
       "      <td>-1</td>\n",
       "      <td>1154.0</td>\n",
       "    </tr>\n",
       "    <tr>\n",
       "      <th>4</th>\n",
       "      <td>game_2022_2013</td>\n",
       "      <td>2021-12-30</td>\n",
       "      <td>tennessee_lady_volunteers</td>\n",
       "      <td>41</td>\n",
       "      <td>20</td>\n",
       "      <td>15</td>\n",
       "      <td>4</td>\n",
       "      <td>15</td>\n",
       "      <td>10</td>\n",
       "      <td>16</td>\n",
       "      <td>...</td>\n",
       "      <td>19.0</td>\n",
       "      <td>False</td>\n",
       "      <td>NaN</td>\n",
       "      <td>3.0</td>\n",
       "      <td>8124.0</td>\n",
       "      <td>0.0</td>\n",
       "      <td>0.0</td>\n",
       "      <td>home</td>\n",
       "      <td>1</td>\n",
       "      <td>0.0</td>\n",
       "    </tr>\n",
       "  </tbody>\n",
       "</table>\n",
       "<p>5 rows × 30 columns</p>\n",
       "</div>"
      ],
      "text/plain": [
       "          game_id  game_date                       team  FGA_2  FGM_2  FGA_3  \\\n",
       "0  game_2022_2011 2021-12-30      georgia_lady_bulldogs     50     22     11   \n",
       "1  game_2022_2011 2021-12-30                 lsu_tigers     50     24     11   \n",
       "2  game_2022_2012 2021-12-30            missouri_tigers     43     18     15   \n",
       "3  game_2022_2012 2021-12-30   south_carolina_gamecocks     55     23     21   \n",
       "4  game_2022_2013 2021-12-30  tennessee_lady_volunteers     41     20     15   \n",
       "\n",
       "   FGM_3  FTA  FTM  AST  ...  largest_lead  notD1_incomplete  \\\n",
       "0      5    6    3   14  ...           1.0             False   \n",
       "1      4   15    8   15  ...          14.0             False   \n",
       "2      7   16   13   10  ...           8.0             False   \n",
       "3      6    9    5   15  ...           6.0             False   \n",
       "4      4   15   10   16  ...          19.0             False   \n",
       "\n",
       "   OT_length_min_tot  rest_days  attendance  tz_dif_H_E  prev_game_dist  \\\n",
       "0                NaN        9.0      3241.0         0.0             0.0   \n",
       "1                NaN        3.0      3241.0         0.0           824.0   \n",
       "2                5.0        8.0      6139.0         0.0           371.0   \n",
       "3                5.0        9.0      6139.0         0.0          1154.0   \n",
       "4                NaN        3.0      8124.0         0.0             0.0   \n",
       "\n",
       "   home_away  home_away_NS  travel_dist  \n",
       "0       home             1          0.0  \n",
       "1       away            -1        824.0  \n",
       "2       home             1          0.0  \n",
       "3       away            -1       1154.0  \n",
       "4       home             1          0.0  \n",
       "\n",
       "[5 rows x 30 columns]"
      ]
     },
     "execution_count": 9,
     "metadata": {},
     "output_type": "execute_result"
    }
   ],
   "source": [
    "df_ts.head()"
   ]
  },
  {
   "cell_type": "markdown",
   "id": "d78069c4",
   "metadata": {
    "papermill": {
     "duration": 0.009052,
     "end_time": "2025-02-18T05:29:41.827201",
     "exception": false,
     "start_time": "2025-02-18T05:29:41.818149",
     "status": "completed"
    },
    "tags": []
   },
   "source": [
    "-------------------------\n",
    "# **Data Preprocessing**"
   ]
  },
  {
   "cell_type": "code",
   "execution_count": 10,
   "id": "b2648c0e",
   "metadata": {
    "execution": {
     "iopub.execute_input": "2025-02-18T05:29:41.846993Z",
     "iopub.status.busy": "2025-02-18T05:29:41.846646Z",
     "iopub.status.idle": "2025-02-18T05:29:41.860545Z",
     "shell.execute_reply": "2025-02-18T05:29:41.859538Z"
    },
    "papermill": {
     "duration": 0.026156,
     "end_time": "2025-02-18T05:29:41.862535",
     "exception": false,
     "start_time": "2025-02-18T05:29:41.836379",
     "status": "completed"
    },
    "tags": []
   },
   "outputs": [],
   "source": [
    "df_ts = df_ts.drop(columns = ['OT_length_min_tot', 'attendance', 'tz_dif_H_E', 'opponent_team_score', \n",
    "                        'team_score', 'home_away', 'notD1_incomplete', 'largest_lead'])\n",
    "df_ts = df_ts.dropna()\n",
    "df_ts['home_away_NS'] = df_ts['home_away_NS'].replace({\n",
    "    1: 1, -1: 0, 0: 2\n",
    "})\n",
    "\n",
    "inf = inf.drop(columns = ['game_id', 'seed_home', 'seed_away', 'WINNING %', 'description'])"
   ]
  },
  {
   "cell_type": "code",
   "execution_count": 11,
   "id": "04635bef",
   "metadata": {
    "execution": {
     "iopub.execute_input": "2025-02-18T05:29:41.883300Z",
     "iopub.status.busy": "2025-02-18T05:29:41.882908Z",
     "iopub.status.idle": "2025-02-18T05:29:41.907402Z",
     "shell.execute_reply": "2025-02-18T05:29:41.906340Z"
    },
    "papermill": {
     "duration": 0.036479,
     "end_time": "2025-02-18T05:29:41.909100",
     "exception": false,
     "start_time": "2025-02-18T05:29:41.872621",
     "status": "completed"
    },
    "tags": []
   },
   "outputs": [
    {
     "name": "stdout",
     "output_type": "stream",
     "text": [
      "(9126,)\n",
      "(9126,)\n"
     ]
    },
    {
     "data": {
      "text/html": [
       "<div>\n",
       "<style scoped>\n",
       "    .dataframe tbody tr th:only-of-type {\n",
       "        vertical-align: middle;\n",
       "    }\n",
       "\n",
       "    .dataframe tbody tr th {\n",
       "        vertical-align: top;\n",
       "    }\n",
       "\n",
       "    .dataframe thead th {\n",
       "        text-align: right;\n",
       "    }\n",
       "</style>\n",
       "<table border=\"1\" class=\"dataframe\">\n",
       "  <thead>\n",
       "    <tr style=\"text-align: right;\">\n",
       "      <th></th>\n",
       "      <th>team_home</th>\n",
       "      <th>team_away</th>\n",
       "      <th>home_away_NS</th>\n",
       "      <th>rest_days_Home</th>\n",
       "      <th>rest_days_Away</th>\n",
       "      <th>travel_dist_Home</th>\n",
       "      <th>travel_dist_Away</th>\n",
       "    </tr>\n",
       "  </thead>\n",
       "  <tbody>\n",
       "    <tr>\n",
       "      <th>0</th>\n",
       "      <td>rhode_island_rams</td>\n",
       "      <td>north_carolina_tar_heels</td>\n",
       "      <td>0</td>\n",
       "      <td>0.0</td>\n",
       "      <td>0.000000</td>\n",
       "      <td>0.000000</td>\n",
       "      <td>0.226471</td>\n",
       "    </tr>\n",
       "    <tr>\n",
       "      <th>1</th>\n",
       "      <td>nc_state_wolfpack</td>\n",
       "      <td>rhode_island_rams</td>\n",
       "      <td>0</td>\n",
       "      <td>0.2</td>\n",
       "      <td>0.000000</td>\n",
       "      <td>1.000000</td>\n",
       "      <td>0.000000</td>\n",
       "    </tr>\n",
       "    <tr>\n",
       "      <th>2</th>\n",
       "      <td>nc_state_wolfpack</td>\n",
       "      <td>north_carolina_tar_heels</td>\n",
       "      <td>0</td>\n",
       "      <td>0.2</td>\n",
       "      <td>0.000000</td>\n",
       "      <td>1.000000</td>\n",
       "      <td>0.226471</td>\n",
       "    </tr>\n",
       "    <tr>\n",
       "      <th>3</th>\n",
       "      <td>liberty_flames</td>\n",
       "      <td>bucknell_bison</td>\n",
       "      <td>0</td>\n",
       "      <td>0.2</td>\n",
       "      <td>1.000000</td>\n",
       "      <td>0.177083</td>\n",
       "      <td>0.073529</td>\n",
       "    </tr>\n",
       "    <tr>\n",
       "      <th>4</th>\n",
       "      <td>drexel_dragons</td>\n",
       "      <td>delaware_blue_hens</td>\n",
       "      <td>0</td>\n",
       "      <td>1.0</td>\n",
       "      <td>0.888889</td>\n",
       "      <td>0.000000</td>\n",
       "      <td>0.200000</td>\n",
       "    </tr>\n",
       "    <tr>\n",
       "      <th>5</th>\n",
       "      <td>massachusetts_minutewomen</td>\n",
       "      <td>princeton_tigers</td>\n",
       "      <td>0</td>\n",
       "      <td>0.6</td>\n",
       "      <td>0.666667</td>\n",
       "      <td>0.052083</td>\n",
       "      <td>0.010000</td>\n",
       "    </tr>\n",
       "    <tr>\n",
       "      <th>6</th>\n",
       "      <td>buffalo_bulls</td>\n",
       "      <td>stony_brook_seawolves</td>\n",
       "      <td>0</td>\n",
       "      <td>0.4</td>\n",
       "      <td>0.777778</td>\n",
       "      <td>0.041667</td>\n",
       "      <td>1.000000</td>\n",
       "    </tr>\n",
       "    <tr>\n",
       "      <th>7</th>\n",
       "      <td>fairfield_stags</td>\n",
       "      <td>towson_tigers</td>\n",
       "      <td>0</td>\n",
       "      <td>0.2</td>\n",
       "      <td>0.888889</td>\n",
       "      <td>0.013889</td>\n",
       "      <td>0.064706</td>\n",
       "    </tr>\n",
       "    <tr>\n",
       "      <th>8</th>\n",
       "      <td>uconn_huskies</td>\n",
       "      <td>campbell_fighting_camels</td>\n",
       "      <td>0</td>\n",
       "      <td>0.6</td>\n",
       "      <td>1.000000</td>\n",
       "      <td>0.010417</td>\n",
       "      <td>0.578235</td>\n",
       "    </tr>\n",
       "    <tr>\n",
       "      <th>9</th>\n",
       "      <td>american_university_eagles</td>\n",
       "      <td>columbia_lions</td>\n",
       "      <td>0</td>\n",
       "      <td>0.2</td>\n",
       "      <td>0.777778</td>\n",
       "      <td>0.243056</td>\n",
       "      <td>0.042647</td>\n",
       "    </tr>\n",
       "  </tbody>\n",
       "</table>\n",
       "</div>"
      ],
      "text/plain": [
       "                    team_home                 team_away  home_away_NS  \\\n",
       "0           rhode_island_rams  north_carolina_tar_heels             0   \n",
       "1           nc_state_wolfpack         rhode_island_rams             0   \n",
       "2           nc_state_wolfpack  north_carolina_tar_heels             0   \n",
       "3              liberty_flames            bucknell_bison             0   \n",
       "4              drexel_dragons        delaware_blue_hens             0   \n",
       "5   massachusetts_minutewomen          princeton_tigers             0   \n",
       "6               buffalo_bulls     stony_brook_seawolves             0   \n",
       "7             fairfield_stags             towson_tigers             0   \n",
       "8               uconn_huskies  campbell_fighting_camels             0   \n",
       "9  american_university_eagles            columbia_lions             0   \n",
       "\n",
       "   rest_days_Home  rest_days_Away  travel_dist_Home  travel_dist_Away  \n",
       "0             0.0        0.000000          0.000000          0.226471  \n",
       "1             0.2        0.000000          1.000000          0.000000  \n",
       "2             0.2        0.000000          1.000000          0.226471  \n",
       "3             0.2        1.000000          0.177083          0.073529  \n",
       "4             1.0        0.888889          0.000000          0.200000  \n",
       "5             0.6        0.666667          0.052083          0.010000  \n",
       "6             0.4        0.777778          0.041667          1.000000  \n",
       "7             0.2        0.888889          0.013889          0.064706  \n",
       "8             0.6        1.000000          0.010417          0.578235  \n",
       "9             0.2        0.777778          0.243056          0.042647  "
      ]
     },
     "metadata": {},
     "output_type": "display_data"
    }
   ],
   "source": [
    "import math\n",
    "from sklearn.preprocessing import MinMaxScaler\n",
    "\n",
    "print(df_ts['rest_days'].shape)\n",
    "print(df_ts['travel_dist'].shape)\n",
    "\n",
    "rest = df_ts['rest_days'].values\n",
    "travel_dist = df_ts['travel_dist'].values\n",
    "\n",
    "rest = rest.reshape(-1, 1)\n",
    "travel_dist = travel_dist.reshape(-1, 1)\n",
    "\n",
    "# List of columns to normalize\n",
    "stats1 = ['rest_days_Home', 'rest_days_Away']\n",
    "stats2 = ['travel_dist_Home', 'travel_dist_Away']\n",
    "\n",
    "# Initialize MinMaxScaler\n",
    "scaler_rest = MinMaxScaler(feature_range=(0,1))\n",
    "scaler_rest.fit(rest)\n",
    "\n",
    "scaler_trvdist = MinMaxScaler(feature_range=(0,1))\n",
    "scaler_trvdist.fit(travel_dist)\n",
    "\n",
    "inf[stats1] = scaler_trvdist.fit_transform(inf[stats1])\n",
    "inf[stats2] = scaler_rest.fit_transform(inf[stats2])\n",
    "\n",
    "display(inf)"
   ]
  },
  {
   "cell_type": "code",
   "execution_count": 12,
   "id": "c2ced965",
   "metadata": {
    "execution": {
     "iopub.execute_input": "2025-02-18T05:29:41.928979Z",
     "iopub.status.busy": "2025-02-18T05:29:41.928577Z",
     "iopub.status.idle": "2025-02-18T05:29:41.961888Z",
     "shell.execute_reply": "2025-02-18T05:29:41.960655Z"
    },
    "papermill": {
     "duration": 0.045414,
     "end_time": "2025-02-18T05:29:41.963784",
     "exception": false,
     "start_time": "2025-02-18T05:29:41.918370",
     "status": "completed"
    },
    "tags": []
   },
   "outputs": [
    {
     "name": "stdout",
     "output_type": "stream",
     "text": [
      "          game_id  game_date                       team     FGA_2     FGM_2  \\\n",
      "0  game_2022_2011 2021-12-30      georgia_lady_bulldogs  0.661290  0.513514   \n",
      "1  game_2022_2011 2021-12-30                 lsu_tigers  0.661290  0.567568   \n",
      "2  game_2022_2012 2021-12-30            missouri_tigers  0.548387  0.405405   \n",
      "3  game_2022_2012 2021-12-30   south_carolina_gamecocks  0.741935  0.540541   \n",
      "4  game_2022_2013 2021-12-30  tennessee_lady_volunteers  0.516129  0.459459   \n",
      "\n",
      "      FGA_3     FGM_3       FTA    FTM       AST  ...       TOV  TOV_team  \\\n",
      "0  0.196078  0.227273  0.125000  0.075  0.361111  ...  0.390244  0.000000   \n",
      "1  0.196078  0.181818  0.312500  0.200  0.388889  ...  0.292683  0.333333   \n",
      "2  0.274510  0.318182  0.333333  0.325  0.250000  ...  0.146341  0.166667   \n",
      "3  0.392157  0.272727  0.187500  0.125  0.388889  ...  0.146341  0.000000   \n",
      "4  0.274510  0.181818  0.312500  0.250  0.416667  ...  0.317073  0.166667   \n",
      "\n",
      "       DREB     OREB  F_tech  F_personal  rest_days  prev_game_dist  \\\n",
      "0  0.410256  0.34375     0.0    0.451613   0.210526        0.000000   \n",
      "1  0.410256  0.34375     0.0    0.096774   0.052632        0.105722   \n",
      "2  0.564103  0.18750     0.0    0.225806   0.184211        0.047601   \n",
      "3  0.461538  0.62500     0.0    0.354839   0.210526        0.148063   \n",
      "4  0.641026  0.37500     0.0    0.290323   0.052632        0.000000   \n",
      "\n",
      "   home_away_NS  travel_dist  \n",
      "0             1     0.000000  \n",
      "1             0     0.121105  \n",
      "2             1     0.000000  \n",
      "3             0     0.169606  \n",
      "4             1     0.000000  \n",
      "\n",
      "[5 rows x 22 columns]\n"
     ]
    }
   ],
   "source": [
    "# List of columns to normalize\n",
    "stats_to_normalize = ['FGA_2', 'FGM_2', 'FGA_3', 'FGM_3', \n",
    "                      'FTA', 'FTM', 'AST', 'BLK', 'STL', 'TOV', \n",
    "                      'TOV_team', 'DREB', 'OREB', 'F_tech', 'F_personal', \n",
    "                      'rest_days', 'prev_game_dist', 'travel_dist']\n",
    "\n",
    "# Initialize MinMaxScaler\n",
    "scaler = MinMaxScaler(feature_range=(0,1))\n",
    "\n",
    "# Apply MinMaxScaler only to the selected stats\n",
    "df_ts[stats_to_normalize] = scaler.fit_transform(df_ts[stats_to_normalize])\n",
    "\n",
    "print(df_ts.head())  # Check normalized values"
   ]
  },
  {
   "cell_type": "code",
   "execution_count": 13,
   "id": "fbfe9bdb",
   "metadata": {
    "execution": {
     "iopub.execute_input": "2025-02-18T05:29:41.984342Z",
     "iopub.status.busy": "2025-02-18T05:29:41.983931Z",
     "iopub.status.idle": "2025-02-18T05:29:41.993994Z",
     "shell.execute_reply": "2025-02-18T05:29:41.992821Z"
    },
    "papermill": {
     "duration": 0.02222,
     "end_time": "2025-02-18T05:29:41.995744",
     "exception": false,
     "start_time": "2025-02-18T05:29:41.973524",
     "status": "completed"
    },
    "tags": []
   },
   "outputs": [],
   "source": [
    "epsilon = 1e-8\n",
    "T = 5\n",
    "inf['travel_dist% (A/B)'] = np.tanh((inf['travel_dist_Home'] - inf['travel_dist_Away'] + epsilon) / T)"
   ]
  },
  {
   "cell_type": "code",
   "execution_count": 14,
   "id": "60bcf36c",
   "metadata": {
    "execution": {
     "iopub.execute_input": "2025-02-18T05:29:42.016613Z",
     "iopub.status.busy": "2025-02-18T05:29:42.016231Z",
     "iopub.status.idle": "2025-02-18T05:29:42.030872Z",
     "shell.execute_reply": "2025-02-18T05:29:42.029758Z"
    },
    "papermill": {
     "duration": 0.027151,
     "end_time": "2025-02-18T05:29:42.032581",
     "exception": false,
     "start_time": "2025-02-18T05:29:42.005430",
     "status": "completed"
    },
    "tags": []
   },
   "outputs": [
    {
     "data": {
      "text/html": [
       "<div>\n",
       "<style scoped>\n",
       "    .dataframe tbody tr th:only-of-type {\n",
       "        vertical-align: middle;\n",
       "    }\n",
       "\n",
       "    .dataframe tbody tr th {\n",
       "        vertical-align: top;\n",
       "    }\n",
       "\n",
       "    .dataframe thead th {\n",
       "        text-align: right;\n",
       "    }\n",
       "</style>\n",
       "<table border=\"1\" class=\"dataframe\">\n",
       "  <thead>\n",
       "    <tr style=\"text-align: right;\">\n",
       "      <th></th>\n",
       "      <th>team_home</th>\n",
       "      <th>team_away</th>\n",
       "      <th>home_away_NS</th>\n",
       "      <th>rest_days_Home</th>\n",
       "      <th>rest_days_Away</th>\n",
       "      <th>travel_dist_Home</th>\n",
       "      <th>travel_dist_Away</th>\n",
       "      <th>travel_dist% (A/B)</th>\n",
       "    </tr>\n",
       "  </thead>\n",
       "  <tbody>\n",
       "    <tr>\n",
       "      <th>0</th>\n",
       "      <td>rhode_island_rams</td>\n",
       "      <td>north_carolina_tar_heels</td>\n",
       "      <td>0</td>\n",
       "      <td>0.0</td>\n",
       "      <td>0.000000</td>\n",
       "      <td>0.000000</td>\n",
       "      <td>0.226471</td>\n",
       "      <td>-0.045263</td>\n",
       "    </tr>\n",
       "    <tr>\n",
       "      <th>1</th>\n",
       "      <td>nc_state_wolfpack</td>\n",
       "      <td>rhode_island_rams</td>\n",
       "      <td>0</td>\n",
       "      <td>0.2</td>\n",
       "      <td>0.000000</td>\n",
       "      <td>1.000000</td>\n",
       "      <td>0.000000</td>\n",
       "      <td>0.197375</td>\n",
       "    </tr>\n",
       "    <tr>\n",
       "      <th>2</th>\n",
       "      <td>nc_state_wolfpack</td>\n",
       "      <td>north_carolina_tar_heels</td>\n",
       "      <td>0</td>\n",
       "      <td>0.2</td>\n",
       "      <td>0.000000</td>\n",
       "      <td>1.000000</td>\n",
       "      <td>0.226471</td>\n",
       "      <td>0.153483</td>\n",
       "    </tr>\n",
       "    <tr>\n",
       "      <th>3</th>\n",
       "      <td>liberty_flames</td>\n",
       "      <td>bucknell_bison</td>\n",
       "      <td>0</td>\n",
       "      <td>0.2</td>\n",
       "      <td>1.000000</td>\n",
       "      <td>0.177083</td>\n",
       "      <td>0.073529</td>\n",
       "      <td>0.020708</td>\n",
       "    </tr>\n",
       "    <tr>\n",
       "      <th>4</th>\n",
       "      <td>drexel_dragons</td>\n",
       "      <td>delaware_blue_hens</td>\n",
       "      <td>0</td>\n",
       "      <td>1.0</td>\n",
       "      <td>0.888889</td>\n",
       "      <td>0.000000</td>\n",
       "      <td>0.200000</td>\n",
       "      <td>-0.039979</td>\n",
       "    </tr>\n",
       "    <tr>\n",
       "      <th>5</th>\n",
       "      <td>massachusetts_minutewomen</td>\n",
       "      <td>princeton_tigers</td>\n",
       "      <td>0</td>\n",
       "      <td>0.6</td>\n",
       "      <td>0.666667</td>\n",
       "      <td>0.052083</td>\n",
       "      <td>0.010000</td>\n",
       "      <td>0.008416</td>\n",
       "    </tr>\n",
       "    <tr>\n",
       "      <th>6</th>\n",
       "      <td>buffalo_bulls</td>\n",
       "      <td>stony_brook_seawolves</td>\n",
       "      <td>0</td>\n",
       "      <td>0.4</td>\n",
       "      <td>0.777778</td>\n",
       "      <td>0.041667</td>\n",
       "      <td>1.000000</td>\n",
       "      <td>-0.189354</td>\n",
       "    </tr>\n",
       "    <tr>\n",
       "      <th>7</th>\n",
       "      <td>fairfield_stags</td>\n",
       "      <td>towson_tigers</td>\n",
       "      <td>0</td>\n",
       "      <td>0.2</td>\n",
       "      <td>0.888889</td>\n",
       "      <td>0.013889</td>\n",
       "      <td>0.064706</td>\n",
       "      <td>-0.010163</td>\n",
       "    </tr>\n",
       "    <tr>\n",
       "      <th>8</th>\n",
       "      <td>uconn_huskies</td>\n",
       "      <td>campbell_fighting_camels</td>\n",
       "      <td>0</td>\n",
       "      <td>0.6</td>\n",
       "      <td>1.000000</td>\n",
       "      <td>0.010417</td>\n",
       "      <td>0.578235</td>\n",
       "      <td>-0.113078</td>\n",
       "    </tr>\n",
       "    <tr>\n",
       "      <th>9</th>\n",
       "      <td>american_university_eagles</td>\n",
       "      <td>columbia_lions</td>\n",
       "      <td>0</td>\n",
       "      <td>0.2</td>\n",
       "      <td>0.777778</td>\n",
       "      <td>0.243056</td>\n",
       "      <td>0.042647</td>\n",
       "      <td>0.040060</td>\n",
       "    </tr>\n",
       "  </tbody>\n",
       "</table>\n",
       "</div>"
      ],
      "text/plain": [
       "                    team_home                 team_away  home_away_NS  \\\n",
       "0           rhode_island_rams  north_carolina_tar_heels             0   \n",
       "1           nc_state_wolfpack         rhode_island_rams             0   \n",
       "2           nc_state_wolfpack  north_carolina_tar_heels             0   \n",
       "3              liberty_flames            bucknell_bison             0   \n",
       "4              drexel_dragons        delaware_blue_hens             0   \n",
       "5   massachusetts_minutewomen          princeton_tigers             0   \n",
       "6               buffalo_bulls     stony_brook_seawolves             0   \n",
       "7             fairfield_stags             towson_tigers             0   \n",
       "8               uconn_huskies  campbell_fighting_camels             0   \n",
       "9  american_university_eagles            columbia_lions             0   \n",
       "\n",
       "   rest_days_Home  rest_days_Away  travel_dist_Home  travel_dist_Away  \\\n",
       "0             0.0        0.000000          0.000000          0.226471   \n",
       "1             0.2        0.000000          1.000000          0.000000   \n",
       "2             0.2        0.000000          1.000000          0.226471   \n",
       "3             0.2        1.000000          0.177083          0.073529   \n",
       "4             1.0        0.888889          0.000000          0.200000   \n",
       "5             0.6        0.666667          0.052083          0.010000   \n",
       "6             0.4        0.777778          0.041667          1.000000   \n",
       "7             0.2        0.888889          0.013889          0.064706   \n",
       "8             0.6        1.000000          0.010417          0.578235   \n",
       "9             0.2        0.777778          0.243056          0.042647   \n",
       "\n",
       "   travel_dist% (A/B)  \n",
       "0           -0.045263  \n",
       "1            0.197375  \n",
       "2            0.153483  \n",
       "3            0.020708  \n",
       "4           -0.039979  \n",
       "5            0.008416  \n",
       "6           -0.189354  \n",
       "7           -0.010163  \n",
       "8           -0.113078  \n",
       "9            0.040060  "
      ]
     },
     "execution_count": 14,
     "metadata": {},
     "output_type": "execute_result"
    }
   ],
   "source": [
    "inf"
   ]
  },
  {
   "cell_type": "code",
   "execution_count": 15,
   "id": "d9043ce8",
   "metadata": {
    "execution": {
     "iopub.execute_input": "2025-02-18T05:29:42.053778Z",
     "iopub.status.busy": "2025-02-18T05:29:42.053398Z",
     "iopub.status.idle": "2025-02-18T05:29:42.126860Z",
     "shell.execute_reply": "2025-02-18T05:29:42.125715Z"
    },
    "papermill": {
     "duration": 0.086219,
     "end_time": "2025-02-18T05:29:42.128654",
     "exception": false,
     "start_time": "2025-02-18T05:29:42.042435",
     "status": "completed"
    },
    "tags": []
   },
   "outputs": [
    {
     "name": "stdout",
     "output_type": "stream",
     "text": [
      "[[0.467741935483871]\n",
      " [0.16216216216216217]\n",
      " [0.21568627450980393]\n",
      " [0.2727272727272727]\n",
      " [0.25]\n",
      " [0.25]\n",
      " [0.16666666666666663]\n",
      " [0.2777777777777778]\n",
      " [0.18518518518518517]\n",
      " [0.21951219512195125]\n",
      " [0.0]\n",
      " [0.3076923076923077]\n",
      " [0.3125]\n",
      " [0.0]\n",
      " [0.4193548387096774]\n",
      " [0.0]\n",
      " [0.15946502057613168]\n",
      " [1.0]\n",
      " [0.0]]\n",
      "19\n",
      "-----------------------------------------------------------\n",
      "[[0.5161290322580645]\n",
      " [0.5945945945945945]\n",
      " [0.25490196078431376]\n",
      " [0.045454545454545456]\n",
      " [0.4583333333333333]\n",
      " [0.375]\n",
      " [0.3055555555555555]\n",
      " [0.2222222222222222]\n",
      " [0.4444444444444444]\n",
      " [0.43902439024390244]\n",
      " [0.16666666666666666]\n",
      " [0.41025641025641024]\n",
      " [0.34375]\n",
      " [0.0]\n",
      " [0.4516129032258064]\n",
      " [0.0]\n",
      " [0.03542034097589653]\n",
      " [1.0]\n",
      " [0.2264705882352941]]\n",
      "19\n"
     ]
    }
   ],
   "source": [
    "past_stats_home = {}\n",
    "\n",
    "start_col = 'FGA_2'\n",
    "end_col = 'F_personal'\n",
    "\n",
    "for idx, team in enumerate(inf['team_home']):\n",
    "    team_i = df_ts[df_ts['team'] == team]\n",
    "    team_i = team_i.sort_values(by = 'game_date', ascending = False)\n",
    "    latest_game = team_i.iloc[0]\n",
    "    \n",
    "    st = latest_game.loc[start_col:end_col].values\n",
    "    st = st.reshape(-1, 1)\n",
    "    prev_game_dist = latest_game['travel_dist'].reshape(-1, 1)\n",
    "    \n",
    "    current_game = inf.loc[idx]\n",
    "    rest_days = current_game['rest_days_Home'].reshape(-1, 1)\n",
    "    travel_dist = current_game['travel_dist_Home'].reshape(-1, 1)\n",
    "    Home_HAN = np.array([1]).reshape(-1, 1)\n",
    "\n",
    "\n",
    "    rst_prv = np.concatenate((rest_days, prev_game_dist))\n",
    "    home_dist = np.concatenate((Home_HAN, travel_dist))\n",
    "    combine = np.concatenate((rst_prv, home_dist))\n",
    "\n",
    "    latest_stat = np.concatenate((st, combine))\n",
    "    if team in past_stats_home:\n",
    "        past_stats_home[f'{team}{idx}'] = latest_stat\n",
    "    else:\n",
    "        past_stats_home[team] = latest_stat\n",
    "        \n",
    "print(past_stats_home['rhode_island_rams'])\n",
    "print(len(past_stats_home['rhode_island_rams']))\n",
    "\n",
    "print(\"-\"*59)\n",
    "\n",
    "past_stats_away = {}\n",
    "\n",
    "start_col = 'FGA_2'\n",
    "end_col = 'F_personal'\n",
    "\n",
    "for idx, team in enumerate(inf['team_away']):\n",
    "    team_i = df_ts[df_ts['team'] == team]\n",
    "    team_i = team_i.sort_values(by = 'game_date', ascending = False)\n",
    "    latest_game = team_i.iloc[0]\n",
    "    \n",
    "    st = latest_game.loc[start_col:end_col].values\n",
    "    st = st.reshape(-1, 1)\n",
    "    prev_game_dist = latest_game['travel_dist'].reshape(-1, 1)\n",
    "\n",
    "    current_game = inf.loc[idx]\n",
    "    rest_days = current_game['rest_days_Away'].reshape(-1, 1)\n",
    "    travel_dist = current_game['travel_dist_Away'].reshape(-1, 1)\n",
    "    Away_HAN = np.array([0]).reshape(-1, 1)\n",
    "    \n",
    "    rst_prv = np.concatenate((rest_days, prev_game_dist))\n",
    "    home_dist = np.concatenate((Home_HAN, travel_dist))\n",
    "    combine = np.concatenate((rst_prv, home_dist))\n",
    "\n",
    "    latest_stat = np.concatenate((st, combine))\n",
    "    \n",
    "    if team in past_stats_away:\n",
    "        past_stats_away[f'{team}{idx}'] = latest_stat\n",
    "    else:\n",
    "        past_stats_away[team] = latest_stat\n",
    "        \n",
    "print(past_stats_away['north_carolina_tar_heels'])\n",
    "print(len(past_stats_away['north_carolina_tar_heels']))\n",
    "\n",
    "# [15 Features] + rest_days + prev_game_dist + home_away_NS + travel_dist"
   ]
  },
  {
   "cell_type": "markdown",
   "id": "337773b5",
   "metadata": {
    "papermill": {
     "duration": 0.009642,
     "end_time": "2025-02-18T05:29:42.148241",
     "exception": false,
     "start_time": "2025-02-18T05:29:42.138599",
     "status": "completed"
    },
    "tags": []
   },
   "source": [
    "---------------------\n",
    "# **Model**"
   ]
  },
  {
   "cell_type": "code",
   "execution_count": 16,
   "id": "a1a2c3ae",
   "metadata": {
    "execution": {
     "iopub.execute_input": "2025-02-18T05:29:42.169224Z",
     "iopub.status.busy": "2025-02-18T05:29:42.168750Z",
     "iopub.status.idle": "2025-02-18T05:29:42.374781Z",
     "shell.execute_reply": "2025-02-18T05:29:42.373742Z"
    },
    "papermill": {
     "duration": 0.218816,
     "end_time": "2025-02-18T05:29:42.376743",
     "exception": false,
     "start_time": "2025-02-18T05:29:42.157927",
     "status": "completed"
    },
    "tags": []
   },
   "outputs": [],
   "source": [
    "from huggingface_hub import login\n",
    "\n",
    "from kaggle_secrets import UserSecretsClient\n",
    "user_secrets = UserSecretsClient()\n",
    "HUGGINGFACE_TOKEN = user_secrets.get_secret(\"HF_TOKEN\")\n",
    "\n",
    "# Login to Hugging Face\n",
    "login(HUGGINGFACE_TOKEN)"
   ]
  },
  {
   "cell_type": "code",
   "execution_count": 17,
   "id": "10df3cf2",
   "metadata": {
    "execution": {
     "iopub.execute_input": "2025-02-18T05:29:42.398494Z",
     "iopub.status.busy": "2025-02-18T05:29:42.398052Z",
     "iopub.status.idle": "2025-02-18T05:29:42.414157Z",
     "shell.execute_reply": "2025-02-18T05:29:42.412990Z"
    },
    "papermill": {
     "duration": 0.028848,
     "end_time": "2025-02-18T05:29:42.415777",
     "exception": false,
     "start_time": "2025-02-18T05:29:42.386929",
     "status": "completed"
    },
    "tags": []
   },
   "outputs": [],
   "source": [
    "import torch.nn.functional as F\n",
    "\n",
    "class FeatureGrouping_cls(nn.Module):\n",
    "    def __init__(self, num_features=20, max_groups=3, embed_dim=4, output_dim=2, resnet_model=\"resnet50\", finetune = True):\n",
    "        super().__init__()\n",
    "        self.num_features = num_features\n",
    "        self.max_groups = max_groups\n",
    "        self.embed_dim = embed_dim\n",
    "        self.output_dim = output_dim\n",
    "\n",
    "        # Embedding for home_away (3 categories: Home, Away, Neutral)\n",
    "        self.home_away_embed = nn.Embedding(3, embed_dim)\n",
    "\n",
    "        # Adjust feature count after embedding replacement\n",
    "        self.adjusted_num_features = num_features - 2 + 2*embed_dim  # 20 - 2 + 2*4 = 26\n",
    "\n",
    "        # Calculate the maximum features per group to ensure consistent dimensions\n",
    "        self.max_features_per_group = self.adjusted_num_features\n",
    "\n",
    "        # Learnable logits for feature assignment\n",
    "        self.assignment_logits = nn.Parameter(torch.randn(self.adjusted_num_features, max_groups))\n",
    "\n",
    "        # Self-Attention layers for each possible number of groups\n",
    "        self.attention_layers = nn.ModuleDict({\n",
    "            f\"attn_{g}\": nn.MultiheadAttention(\n",
    "                embed_dim=self.max_features_per_group,\n",
    "                num_heads=1,\n",
    "                batch_first=True\n",
    "            )\n",
    "            for g in range(1, max_groups + 1)\n",
    "        })\n",
    "\n",
    "        # Reduce channels before ResNet\n",
    "        self.channel_reducer = nn.Conv2d(in_channels=max_groups, out_channels=3, kernel_size=1)\n",
    "\n",
    "        # Pretrained ResNet model\n",
    "        self.resnet = timm.create_model(resnet_model, pretrained=True)\n",
    "        in_features = self.resnet.get_classifier().in_features\n",
    "        self.resnet.reset_classifier(0)\n",
    "\n",
    "        # Final regression head\n",
    "        self.fc = nn.Linear(in_features, output_dim)\n",
    "        \n",
    "        if finetune:\n",
    "            for param in self.resnet.parameters():\n",
    "                param.requires_grad = True\n",
    "        else:\n",
    "            for param in self.resnet.parameters():\n",
    "                param.requires_grad = False\n",
    "                    \n",
    "    def forward(self, x):\n",
    "        batch_size = x.shape[0]\n",
    "\n",
    "        # Extract home_away index and convert to embeddings\n",
    "        A_home_away_idx = x[:, 17].long().clamp(0, 2)\n",
    "        B_home_away_idx = x[:, 18].long().clamp(0, 2)\n",
    "        \n",
    "        A_home_away_embed = self.home_away_embed(A_home_away_idx)\n",
    "        B_home_away_embed = self.home_away_embed(B_home_away_idx)\n",
    "        \n",
    "        x = torch.cat([x[:, :17], A_home_away_embed, B_home_away_embed, x[:, 19:]], dim=1)\n",
    "\n",
    "        # Hard feature assignment\n",
    "        assignment_hard = torch.nn.functional.gumbel_softmax(self.assignment_logits, tau=0.5, hard=True, dim=1)\n",
    "\n",
    "        all_group_outputs = []\n",
    "\n",
    "        # Process different group configurations\n",
    "        for num_groups in range(1, self.max_groups + 1):\n",
    "            # Split features into groups\n",
    "            groups = []\n",
    "            features_per_group = self.adjusted_num_features // num_groups\n",
    "            \n",
    "            for g in range(num_groups):\n",
    "                start_idx = g * features_per_group\n",
    "                end_idx = min(start_idx + features_per_group, self.adjusted_num_features)\n",
    "                group_features = x[:, start_idx:end_idx]\n",
    "                \n",
    "                # Pad to match max_features_per_group\n",
    "                if group_features.shape[1] < self.max_features_per_group:\n",
    "                    pad_size = self.max_features_per_group - group_features.shape[1]\n",
    "                    padding = torch.zeros(batch_size, pad_size, device=x.device)\n",
    "                    group_features = torch.cat([group_features, padding], dim=1)\n",
    "                \n",
    "                groups.append(group_features)\n",
    "\n",
    "            # Process each group with attention\n",
    "            processed_groups = []\n",
    "            for g in range(num_groups):\n",
    "                group_features = groups[g].unsqueeze(1)\n",
    "                attn_output, _ = self.attention_layers[f\"attn_{num_groups}\"](\n",
    "                    group_features, group_features, group_features)\n",
    "                processed_groups.append(attn_output)\n",
    "\n",
    "            # Combine processed groups\n",
    "            group_output = torch.cat(processed_groups, dim=1)\n",
    "            \n",
    "            # Pad to match max_groups if necessary\n",
    "            if num_groups < self.max_groups:\n",
    "                padding = torch.zeros(\n",
    "                    batch_size,\n",
    "                    self.max_groups - num_groups,\n",
    "                    self.max_features_per_group,\n",
    "                    device=x.device\n",
    "                )\n",
    "                group_output = torch.cat([group_output, padding], dim=1)\n",
    "            \n",
    "            all_group_outputs.append(group_output)\n",
    "\n",
    "        # Stack all configurations\n",
    "        x_final = torch.stack(all_group_outputs, dim=1)  # [B, max_groups, max_groups, Features]\n",
    "        \n",
    "        # Reshape for channel reducer\n",
    "        x_final = x_final.mean(dim=1)  # [B, max_groups, Features]\n",
    "        x_final = x_final.permute(0, 2, 1)  # [B, Features, max_groups]\n",
    "        x_final = x_final.mean(dim=1).unsqueeze(-1).unsqueeze(-1)  # [B, max_groups, 1, 1]\n",
    "        \n",
    "        # Apply channel reduction\n",
    "        x_final = self.channel_reducer(x_final)  # [B, 3, 1, 1]\n",
    "        \n",
    "        # Prepare for ResNet\n",
    "        x_final = x_final.expand(-1, -1, 224, 224)  # [B, 3, 224, 224]\n",
    "\n",
    "        # Process through ResNet and final layer\n",
    "        x_final = self.resnet(x_final)\n",
    "        output = self.fc(x_final)\n",
    "\n",
    "        return output"
   ]
  },
  {
   "cell_type": "code",
   "execution_count": 18,
   "id": "6613f54f",
   "metadata": {
    "execution": {
     "iopub.execute_input": "2025-02-18T05:29:42.437622Z",
     "iopub.status.busy": "2025-02-18T05:29:42.437241Z",
     "iopub.status.idle": "2025-02-18T05:29:59.622379Z",
     "shell.execute_reply": "2025-02-18T05:29:59.621190Z"
    },
    "papermill": {
     "duration": 17.198551,
     "end_time": "2025-02-18T05:29:59.624297",
     "exception": false,
     "start_time": "2025-02-18T05:29:42.425746",
     "status": "completed"
    },
    "tags": []
   },
   "outputs": [],
   "source": [
    "from transformers import PreTrainedModel, PretrainedConfig\n",
    "from transformers.modeling_outputs import SequenceClassifierOutput\n",
    "from sklearn.metrics import roc_auc_score, f1_score\n",
    "\n",
    "class FeatureGroupingConfig(PretrainedConfig):\n",
    "    model_type = \"feature_grouping\"\n",
    "\n",
    "    def __init__(self, num_features=20, output_dim=2, **kwargs):\n",
    "        super().__init__(**kwargs)\n",
    "        self.num_features = num_features\n",
    "        self.output_dim = output_dim\n",
    "\n",
    "class FeatureGroupingModel_cls(PreTrainedModel):\n",
    "    config_class = FeatureGroupingConfig\n",
    "\n",
    "    def __init__(self, config):\n",
    "        super().__init__(config)\n",
    "        self.model = FeatureGrouping_cls(  # Ensure this is defined somewhere\n",
    "            num_features=config.num_features, \n",
    "            output_dim=config.output_dim\n",
    "        )\n",
    "        self.loss_fn = nn.CrossEntropyLoss()\n",
    "\n",
    "    def forward(self, input_ids, labels=None):\n",
    "        logits = self.model(input_ids)  # Raw logits\n",
    "\n",
    "        loss = None\n",
    "        auc_roc = None\n",
    "        f1 = None\n",
    "\n",
    "        if labels is not None:\n",
    "            loss = self.loss_fn(logits, labels)  \n",
    "\n",
    "            # Convert logits to probabilities\n",
    "            probs = F.softmax(logits, dim=-1)[:, 1].detach().cpu().numpy()\n",
    "            labels_np = labels.detach().cpu().numpy()\n",
    "\n",
    "            # Compute AUC-ROC only if both classes exist\n",
    "            if len(set(labels_np)) > 1:\n",
    "                auc_roc = roc_auc_score(labels_np, probs)\n",
    "            else:\n",
    "                auc_roc = 0.0\n",
    "\n",
    "            # Compute F1-score\n",
    "            preds = torch.argmax(logits, dim=-1).detach().cpu().numpy()\n",
    "            f1 = f1_score(labels_np, preds, average=\"macro\")\n",
    "\n",
    "        return SequenceClassifierOutput(\n",
    "            loss=loss, \n",
    "            logits=logits,\n",
    "            hidden_states=None, \n",
    "            attentions=None\n",
    "        )"
   ]
  },
  {
   "cell_type": "code",
   "execution_count": 19,
   "id": "b5c9dde4",
   "metadata": {
    "execution": {
     "iopub.execute_input": "2025-02-18T05:29:59.646063Z",
     "iopub.status.busy": "2025-02-18T05:29:59.645273Z",
     "iopub.status.idle": "2025-02-18T05:30:03.551353Z",
     "shell.execute_reply": "2025-02-18T05:30:03.550151Z"
    },
    "papermill": {
     "duration": 3.9192,
     "end_time": "2025-02-18T05:30:03.553498",
     "exception": false,
     "start_time": "2025-02-18T05:29:59.634298",
     "status": "completed"
    },
    "tags": []
   },
   "outputs": [
    {
     "name": "stdout",
     "output_type": "stream",
     "text": [
      "Model downloaded successfully.\n"
     ]
    },
    {
     "data": {
      "application/vnd.jupyter.widget-view+json": {
       "model_id": "e3fa2b7099b044b099b66eac572518f3",
       "version_major": 2,
       "version_minor": 0
      },
      "text/plain": [
       "model.safetensors:   0%|          | 0.00/102M [00:00<?, ?B/s]"
      ]
     },
     "metadata": {},
     "output_type": "display_data"
    },
    {
     "name": "stdout",
     "output_type": "stream",
     "text": [
      "Model loaded and ready to use.\n"
     ]
    }
   ],
   "source": [
    "import requests\n",
    "from safetensors.torch import load_file\n",
    "\n",
    "# URL to the safetensors model file\n",
    "cls_url = \"https://huggingface.co/KanWasTaken/WhartonDS_ClsModel/resolve/main/CLSmodel.safetensors\"\n",
    "\n",
    "# Download the model file\n",
    "response = requests.get(cls_url)\n",
    "if response.status_code == 200:\n",
    "    with open('CLSmodel.safetensors', 'wb') as f:\n",
    "        f.write(response.content)\n",
    "    print(\"Model downloaded successfully.\")\n",
    "\n",
    "# Initialize your model\n",
    "cls_model = FeatureGroupingModel_cls(FeatureGroupingConfig())\n",
    "\n",
    "# Load the model weights from the downloaded file\n",
    "cls_weights = load_file('CLSmodel.safetensors')\n",
    "\n",
    "# Load the state_dict (weights) into the model\n",
    "cls_model.load_state_dict(cls_weights)\n",
    "\n",
    "# Set to evaluation mode\n",
    "cls_model.eval()\n",
    "\n",
    "print(\"Model loaded and ready to use.\")"
   ]
  },
  {
   "cell_type": "code",
   "execution_count": 20,
   "id": "74215fc2",
   "metadata": {
    "execution": {
     "iopub.execute_input": "2025-02-18T05:30:03.575529Z",
     "iopub.status.busy": "2025-02-18T05:30:03.575155Z",
     "iopub.status.idle": "2025-02-18T05:30:03.591171Z",
     "shell.execute_reply": "2025-02-18T05:30:03.589948Z"
    },
    "papermill": {
     "duration": 0.028914,
     "end_time": "2025-02-18T05:30:03.592992",
     "exception": false,
     "start_time": "2025-02-18T05:30:03.564078",
     "status": "completed"
    },
    "tags": []
   },
   "outputs": [],
   "source": [
    "class FeatureGrouping(nn.Module):\n",
    "    def __init__(self, num_features=19, max_groups=3, embed_dim=4, output_dim=15, resnet_model=\"resnet50\", finetune=True):\n",
    "        super().__init__()\n",
    "        self.num_features = num_features\n",
    "        self.max_groups = max_groups\n",
    "        self.embed_dim = embed_dim\n",
    "        self.output_dim = output_dim\n",
    "\n",
    "        # Embedding for home_away (3 categories: Home, Away, Neutral)\n",
    "        self.home_away_embed = nn.Embedding(3, embed_dim)\n",
    "\n",
    "        # Adjust feature count after embedding replacement\n",
    "        self.adjusted_num_features = num_features - 1 + embed_dim  # 22 total features\n",
    "\n",
    "        # Maximum features per group\n",
    "        self.max_features_per_group = self.adjusted_num_features\n",
    "\n",
    "        # Learnable logits for feature assignment\n",
    "        self.assignment_logits = nn.Parameter(torch.randn(self.adjusted_num_features, max_groups))\n",
    "\n",
    "        # Self-Attention layers for different group numbers\n",
    "        self.attention_layers = nn.ModuleDict({\n",
    "            f\"attn_{g}\": nn.MultiheadAttention(\n",
    "                embed_dim=self.max_features_per_group,\n",
    "                num_heads=1,\n",
    "                batch_first=True\n",
    "            )\n",
    "            for g in range(1, max_groups + 1)\n",
    "        })\n",
    "\n",
    "        # Reduce channels before ResNet\n",
    "        self.channel_reducer = nn.Conv2d(in_channels=max_groups, out_channels=3, kernel_size=1)\n",
    "\n",
    "        # Pretrained ResNet\n",
    "        self.resnet = timm.create_model(resnet_model, pretrained=True)\n",
    "        in_features = self.resnet.get_classifier().in_features\n",
    "        self.resnet.reset_classifier(0)\n",
    "\n",
    "        # Final regression head\n",
    "        self.fc = nn.Linear(in_features, output_dim)\n",
    "\n",
    "        # Fine-tuning control\n",
    "        if finetune:\n",
    "            for param in self.resnet.parameters():\n",
    "                param.requires_grad = True\n",
    "        else:\n",
    "            for param in self.resnet.parameters():\n",
    "                param.requires_grad = False\n",
    "\n",
    "    def forward(self, x):\n",
    "        batch_size = x.shape[0]\n",
    "\n",
    "        # Process home_away embedding\n",
    "        home_away_idx = x[:, 17].long().clamp(0, 2)\n",
    "        home_away_embed = self.home_away_embed(home_away_idx)\n",
    "        x = torch.cat([x[:, :17], home_away_embed, x[:, 18:]], dim=1)\n",
    "\n",
    "        # Hard feature assignment\n",
    "        assignment_hard = torch.nn.functional.gumbel_softmax(self.assignment_logits, tau=0.5, hard=True, dim=1)\n",
    "\n",
    "        all_group_outputs = []\n",
    "\n",
    "        # Process different group configurations\n",
    "        for num_groups in range(1, self.max_groups + 1):\n",
    "            groups = []\n",
    "            features_per_group = self.adjusted_num_features // num_groups\n",
    "\n",
    "            for g in range(num_groups):\n",
    "                start_idx = g * features_per_group\n",
    "                end_idx = min(start_idx + features_per_group, self.adjusted_num_features)\n",
    "                group_features = x[:, start_idx:end_idx]\n",
    "\n",
    "                # Pad to match max_features_per_group\n",
    "                if group_features.shape[1] < self.max_features_per_group:\n",
    "                    pad_size = self.max_features_per_group - group_features.shape[1]\n",
    "                    padding = torch.zeros(batch_size, pad_size, device=x.device)\n",
    "                    group_features = torch.cat([group_features, padding], dim=1)\n",
    "\n",
    "                groups.append(group_features)\n",
    "\n",
    "            # Apply attention to each group\n",
    "            processed_groups = []\n",
    "            for g in range(num_groups):\n",
    "                group_features = groups[g].unsqueeze(1)\n",
    "                attn_output, _ = self.attention_layers[f\"attn_{num_groups}\"](group_features, group_features, group_features)\n",
    "                processed_groups.append(attn_output)\n",
    "\n",
    "            # Concatenate processed groups\n",
    "            group_output = torch.cat(processed_groups, dim=1)\n",
    "\n",
    "            # Pad to match max_groups if necessary\n",
    "            if num_groups < self.max_groups:\n",
    "                padding = torch.zeros(batch_size, self.max_groups - num_groups, self.max_features_per_group, device=x.device)\n",
    "                group_output = torch.cat([group_output, padding], dim=1)\n",
    "\n",
    "            all_group_outputs.append(group_output)\n",
    "\n",
    "        # Stack different group configurations\n",
    "        x_final = torch.stack(all_group_outputs, dim=1)  # [B, max_groups, max_groups, Features]\n",
    "\n",
    "        # Reduce across different group choices\n",
    "        x_final = x_final.mean(dim=1)  # [B, max_groups, Features]\n",
    "        x_final = x_final.permute(0, 2, 1)  # [B, Features, max_groups]\n",
    "        x_final = x_final.mean(dim=1).unsqueeze(-1).unsqueeze(-1)  # [B, max_groups, 1, 1]\n",
    "\n",
    "        # Apply channel reduction\n",
    "        x_final = self.channel_reducer(x_final)  # [B, 3, 1, 1]\n",
    "\n",
    "        # Resize for ResNet\n",
    "        x_final = x_final.expand(-1, -1, 224, 224)  # [B, 3, 224, 224]\n",
    "\n",
    "        # Process through ResNet and final layer\n",
    "        x_final = self.resnet(x_final)\n",
    "        output = self.fc(x_final)\n",
    "\n",
    "        return output"
   ]
  },
  {
   "cell_type": "code",
   "execution_count": 21,
   "id": "56e20df7",
   "metadata": {
    "execution": {
     "iopub.execute_input": "2025-02-18T05:30:03.614797Z",
     "iopub.status.busy": "2025-02-18T05:30:03.614419Z",
     "iopub.status.idle": "2025-02-18T05:30:03.621278Z",
     "shell.execute_reply": "2025-02-18T05:30:03.620109Z"
    },
    "papermill": {
     "duration": 0.019666,
     "end_time": "2025-02-18T05:30:03.622949",
     "exception": false,
     "start_time": "2025-02-18T05:30:03.603283",
     "status": "completed"
    },
    "tags": []
   },
   "outputs": [],
   "source": [
    "from transformers import PreTrainedModel, PretrainedConfig\n",
    "\n",
    "class FeatureGroupingConfig(PretrainedConfig):\n",
    "    model_type = \"feature_grouping\"\n",
    "\n",
    "    def __init__(self, num_features=19, output_dim=15, **kwargs):\n",
    "        super().__init__(**kwargs)\n",
    "        self.num_features = num_features\n",
    "        self.output_dim = output_dim\n",
    "\n",
    "class FeatureGroupingModel(PreTrainedModel):\n",
    "    config_class = FeatureGroupingConfig\n",
    "\n",
    "    def __init__(self, config):\n",
    "        super().__init__(config)\n",
    "        self.model = FeatureGrouping(\n",
    "            num_features=config.num_features, \n",
    "            output_dim=config.output_dim\n",
    "        )\n",
    "\n",
    "    def forward(self, input_ids, labels=None):\n",
    "        output = self.model(input_ids)\n",
    "\n",
    "        loss = None\n",
    "        if labels is not None:\n",
    "            loss = F.smooth_l1_loss(output, labels)  # Mean Squared Error for regression\n",
    "\n",
    "        return {\"loss\": loss, \"logits\": output} if loss is not None else {\"logits\": output}"
   ]
  },
  {
   "cell_type": "code",
   "execution_count": 22,
   "id": "352196fe",
   "metadata": {
    "execution": {
     "iopub.execute_input": "2025-02-18T05:30:03.644260Z",
     "iopub.status.busy": "2025-02-18T05:30:03.643892Z",
     "iopub.status.idle": "2025-02-18T05:30:06.832534Z",
     "shell.execute_reply": "2025-02-18T05:30:06.831063Z"
    },
    "papermill": {
     "duration": 3.201219,
     "end_time": "2025-02-18T05:30:06.834355",
     "exception": false,
     "start_time": "2025-02-18T05:30:03.633136",
     "status": "completed"
    },
    "tags": []
   },
   "outputs": [
    {
     "name": "stdout",
     "output_type": "stream",
     "text": [
      "Model downloaded successfully.\n",
      "Model loaded and ready to use.\n"
     ]
    }
   ],
   "source": [
    "import requests\n",
    "from safetensors.torch import load_file\n",
    "\n",
    "# URL to the safetensors model file\n",
    "rg_url = \"https://huggingface.co/KanWasTaken/WhartonDS_RegressionModel/resolve/main/REGmodel.safetensors\"\n",
    "\n",
    "# Download the model file\n",
    "response = requests.get(rg_url)\n",
    "if response.status_code == 200:\n",
    "    with open('REGmodel.safetensors', 'wb') as f:\n",
    "        f.write(response.content)\n",
    "    print(\"Model downloaded successfully.\")\n",
    "\n",
    "# Initialize your model\n",
    "gen_model = FeatureGroupingModel(FeatureGroupingConfig())\n",
    "\n",
    "# Load the model weights from the downloaded file\n",
    "gen_weights = load_file('REGmodel.safetensors')\n",
    "\n",
    "# Load the state_dict (weights) into the model\n",
    "gen_model.load_state_dict(gen_weights)\n",
    "\n",
    "# Set to evaluation mode\n",
    "gen_model.eval()\n",
    "\n",
    "print(\"Model loaded and ready to use.\")"
   ]
  },
  {
   "cell_type": "markdown",
   "id": "950f25f1",
   "metadata": {
    "papermill": {
     "duration": 0.009719,
     "end_time": "2025-02-18T05:30:06.854706",
     "exception": false,
     "start_time": "2025-02-18T05:30:06.844987",
     "status": "completed"
    },
    "tags": []
   },
   "source": [
    "-------------------\n",
    "# **Check Weights**"
   ]
  },
  {
   "cell_type": "code",
   "execution_count": 23,
   "id": "4dee1b8b",
   "metadata": {
    "execution": {
     "iopub.execute_input": "2025-02-18T05:30:06.876115Z",
     "iopub.status.busy": "2025-02-18T05:30:06.875754Z",
     "iopub.status.idle": "2025-02-18T05:30:06.920989Z",
     "shell.execute_reply": "2025-02-18T05:30:06.919689Z"
    },
    "papermill": {
     "duration": 0.057962,
     "end_time": "2025-02-18T05:30:06.922746",
     "exception": false,
     "start_time": "2025-02-18T05:30:06.864784",
     "status": "completed"
    },
    "scrolled": true,
    "tags": []
   },
   "outputs": [
    {
     "name": "stdout",
     "output_type": "stream",
     "text": [
      "Check Done!\n"
     ]
    }
   ],
   "source": [
    "# Get the model parameters (weights)\n",
    "model_params = {name: param.detach().cpu().numpy() for name, param in cls_model.named_parameters()}\n",
    "\n",
    "# Compare the weights in the safetensor file and the model\n",
    "for name, param in cls_model.named_parameters():\n",
    "    if name in cls_weights:\n",
    "        param_safetensor = cls_weights[name].cpu().numpy()\n",
    "        param_model = param.detach().cpu().numpy()\n",
    "\n",
    "        # Check if the weights are the same\n",
    "        if not (param_safetensor == param_model).all():\n",
    "            print(f\"Mismatch in weights for layer: {name}\")\n",
    "\n",
    "print(f\"Check Done!\")"
   ]
  },
  {
   "cell_type": "code",
   "execution_count": 24,
   "id": "e3cc94ed",
   "metadata": {
    "execution": {
     "iopub.execute_input": "2025-02-18T05:30:06.944901Z",
     "iopub.status.busy": "2025-02-18T05:30:06.944510Z",
     "iopub.status.idle": "2025-02-18T05:30:06.988464Z",
     "shell.execute_reply": "2025-02-18T05:30:06.987293Z"
    },
    "papermill": {
     "duration": 0.056913,
     "end_time": "2025-02-18T05:30:06.990143",
     "exception": false,
     "start_time": "2025-02-18T05:30:06.933230",
     "status": "completed"
    },
    "scrolled": true,
    "tags": []
   },
   "outputs": [
    {
     "name": "stdout",
     "output_type": "stream",
     "text": [
      "Check Done!\n"
     ]
    }
   ],
   "source": [
    "# Get the model parameters (weights)\n",
    "model_params = {name: param.detach().cpu().numpy() for name, param in gen_model.named_parameters()}\n",
    "\n",
    "# Compare the weights in the safetensor file and the model\n",
    "for name, param in gen_model.named_parameters():\n",
    "    if name in gen_weights:\n",
    "        param_safetensor = gen_weights[name].cpu().numpy()\n",
    "        param_model = param.detach().cpu().numpy()\n",
    "\n",
    "        # Check if the weights are the same\n",
    "        if not (param_safetensor == param_model).all():\n",
    "            print(f\"Mismatch in weights for layer: {name}\")\n",
    "\n",
    "print(f\"Check Done!\")"
   ]
  },
  {
   "cell_type": "code",
   "execution_count": 25,
   "id": "3b8ea7ac",
   "metadata": {
    "execution": {
     "iopub.execute_input": "2025-02-18T05:30:07.012248Z",
     "iopub.status.busy": "2025-02-18T05:30:07.011819Z",
     "iopub.status.idle": "2025-02-18T05:30:07.420640Z",
     "shell.execute_reply": "2025-02-18T05:30:07.419462Z"
    },
    "papermill": {
     "duration": 0.421692,
     "end_time": "2025-02-18T05:30:07.422375",
     "exception": false,
     "start_time": "2025-02-18T05:30:07.000683",
     "status": "completed"
    },
    "tags": []
   },
   "outputs": [
    {
     "name": "stdout",
     "output_type": "stream",
     "text": [
      "tensor([[ 0.3749,  0.3245,  0.3885,  0.1536,  0.3028,  0.3498,  0.2218,  0.1198,\n",
      "          0.3545,  0.2470,  0.0938,  0.3464,  0.2882, -0.0197,  0.3166]],\n",
      "       grad_fn=<AddmmBackward0>)\n"
     ]
    }
   ],
   "source": [
    "gen_out = gen_model(torch.randn(1, 19))\n",
    "print(gen_out['logits'])"
   ]
  },
  {
   "cell_type": "code",
   "execution_count": 26,
   "id": "839011c6",
   "metadata": {
    "execution": {
     "iopub.execute_input": "2025-02-18T05:30:07.446720Z",
     "iopub.status.busy": "2025-02-18T05:30:07.446133Z",
     "iopub.status.idle": "2025-02-18T05:30:07.662593Z",
     "shell.execute_reply": "2025-02-18T05:30:07.661439Z"
    },
    "papermill": {
     "duration": 0.231549,
     "end_time": "2025-02-18T05:30:07.664438",
     "exception": false,
     "start_time": "2025-02-18T05:30:07.432889",
     "status": "completed"
    },
    "tags": []
   },
   "outputs": [
    {
     "name": "stdout",
     "output_type": "stream",
     "text": [
      "tensor([[-0.2552,  0.2330]], grad_fn=<AddmmBackward0>)\n",
      "tensor([[0.3803, 0.6197]], grad_fn=<SoftmaxBackward0>)\n"
     ]
    }
   ],
   "source": [
    "cls_out = cls_model(torch.randn(1, 20))\n",
    "print(cls_out['logits'])\n",
    "\n",
    "print(F.softmax(cls_out['logits'], dim = -1))"
   ]
  },
  {
   "cell_type": "markdown",
   "id": "4701e00c",
   "metadata": {
    "papermill": {
     "duration": 0.010017,
     "end_time": "2025-02-18T05:30:07.685331",
     "exception": false,
     "start_time": "2025-02-18T05:30:07.675314",
     "status": "completed"
    },
    "tags": []
   },
   "source": [
    "--------------\n",
    "# **Data Generation**"
   ]
  },
  {
   "cell_type": "code",
   "execution_count": 27,
   "id": "e5004243",
   "metadata": {
    "execution": {
     "iopub.execute_input": "2025-02-18T05:30:07.707302Z",
     "iopub.status.busy": "2025-02-18T05:30:07.706907Z",
     "iopub.status.idle": "2025-02-18T05:30:11.358748Z",
     "shell.execute_reply": "2025-02-18T05:30:11.357165Z"
    },
    "papermill": {
     "duration": 3.664963,
     "end_time": "2025-02-18T05:30:11.360607",
     "exception": false,
     "start_time": "2025-02-18T05:30:07.695644",
     "status": "completed"
    },
    "tags": []
   },
   "outputs": [
    {
     "name": "stdout",
     "output_type": "stream",
     "text": [
      "tensor([[-0.0059, -0.0011,  0.0098,  0.0052, -0.0006,  0.0028,  0.0151, -0.0064,\n",
      "          0.0024,  0.0021,  0.0024, -0.0074,  0.0042, -0.0050,  0.0043]],\n",
      "       grad_fn=<TanhBackward0>)\n",
      "10\n"
     ]
    }
   ],
   "source": [
    "X_Home = []\n",
    "for idx, team in enumerate(past_stats_home):\n",
    "    \n",
    "    X = past_stats_home[team]\n",
    "    X = np.array(X, dtype=np.float32)\n",
    "    X = torch.tensor(X, dtype=torch.float32)\n",
    "    X = torch.reshape(X, (1, -1))\n",
    "    \n",
    "    out = gen_model(X)\n",
    "    logits = out['logits']\n",
    "    X_Home.append(logits)\n",
    "\n",
    "X_Away = []\n",
    "for idx, team in enumerate(past_stats_away):\n",
    "    \n",
    "    X = past_stats_away[team]\n",
    "    X = np.array(X, dtype=np.float32)\n",
    "    X = torch.tensor(X, dtype=torch.float32)\n",
    "    X = torch.reshape(X, (1, -1))\n",
    "    \n",
    "    out = gen_model(X)\n",
    "    logits = out['logits']\n",
    "    X_Away.append(logits)\n",
    "\n",
    "Normalized_X = []\n",
    "for i in range(len(X_Home)):\n",
    "    Normalized_X.append(F.tanh((X_Home[i] - X_Away[i] + epsilon) / T))\n",
    "\n",
    "print(Normalized_X[0]) # X -> lst | X[0] -> lst | X[0][0] -> lst\n",
    "print(len(Normalized_X))"
   ]
  },
  {
   "cell_type": "code",
   "execution_count": 28,
   "id": "11f6c657",
   "metadata": {
    "execution": {
     "iopub.execute_input": "2025-02-18T05:30:11.385559Z",
     "iopub.status.busy": "2025-02-18T05:30:11.384669Z",
     "iopub.status.idle": "2025-02-18T05:30:11.393019Z",
     "shell.execute_reply": "2025-02-18T05:30:11.391820Z"
    },
    "papermill": {
     "duration": 0.023245,
     "end_time": "2025-02-18T05:30:11.394902",
     "exception": false,
     "start_time": "2025-02-18T05:30:11.371657",
     "status": "completed"
    },
    "tags": []
   },
   "outputs": [],
   "source": [
    "inf['rest_days% (A/B)'] = np.tanh((inf['rest_days_Home'] - inf['rest_days_Away'] + epsilon) / T)\n",
    "inf = inf.drop(columns = ['rest_days_Home', 'rest_days_Away', 'travel_dist_Home', 'travel_dist_Away'])"
   ]
  },
  {
   "cell_type": "code",
   "execution_count": 29,
   "id": "075675ee",
   "metadata": {
    "execution": {
     "iopub.execute_input": "2025-02-18T05:30:11.420962Z",
     "iopub.status.busy": "2025-02-18T05:30:11.420599Z",
     "iopub.status.idle": "2025-02-18T05:30:11.494527Z",
     "shell.execute_reply": "2025-02-18T05:30:11.493171Z"
    },
    "papermill": {
     "duration": 0.090694,
     "end_time": "2025-02-18T05:30:11.497949",
     "exception": false,
     "start_time": "2025-02-18T05:30:11.407255",
     "status": "completed"
    },
    "tags": []
   },
   "outputs": [
    {
     "name": "stdout",
     "output_type": "stream",
     "text": [
      "tensor(0.0248, dtype=torch.float64)\n"
     ]
    },
    {
     "name": "stderr",
     "output_type": "stream",
     "text": [
      "<ipython-input-29-4211773da8a0>:12: FutureWarning: Series.__getitem__ treating keys as positions is deprecated. In a future version, integer keys will always be treated as labels (consistent with DataFrame behavior). To access a value by position, use `ser.iloc[pos]`\n",
      "  team_home = df_ts[df_ts['team'] == i[1][0]]\n",
      "<ipython-input-29-4211773da8a0>:16: FutureWarning: Series.__getitem__ treating keys as positions is deprecated. In a future version, integer keys will always be treated as labels (consistent with DataFrame behavior). To access a value by position, use `ser.iloc[pos]`\n",
      "  team_away = df_ts[df_ts['team'] == i[1][1]]\n"
     ]
    }
   ],
   "source": [
    "# [15 Features] -> F_Personal + rest_diff + prev game dist_diff + HAN_A + HAN_B + travel_dist_diff\n",
    "# Total = 20\n",
    "HAN_Home = torch.tensor(1)\n",
    "HAN_Away = torch.tensor(0)\n",
    "\n",
    "prev_trv_dist_diff_list = []\n",
    "for i in inf.iterrows():\n",
    "    # i -> Tuple\n",
    "    # i[0] = Row Index\n",
    "    # i[1] = Rest\n",
    "    # i[1] -> List\n",
    "    team_home = df_ts[df_ts['team'] == i[1][0]]\n",
    "    team_home = team_home.sort_values(by = 'game_date', ascending = False)\n",
    "    team_home = team_home.iloc[0]\n",
    "\n",
    "    team_away = df_ts[df_ts['team'] == i[1][1]]\n",
    "    team_away = team_away.sort_values(by = 'game_date', ascending = False)\n",
    "    team_away = team_away.iloc[0]\n",
    "\n",
    "    prev_travel_dist_home = team_home['travel_dist']\n",
    "    prev_travel_dist_away = team_away['travel_dist']\n",
    "    prev_travel_dist_diff = torch.tensor(np.tanh((prev_travel_dist_home - prev_travel_dist_away + epsilon) / T)) # type: np.float64\n",
    "    prev_trv_dist_diff_list.append(prev_travel_dist_diff)\n",
    "\n",
    "print(prev_trv_dist_diff_list[0])"
   ]
  },
  {
   "cell_type": "code",
   "execution_count": 30,
   "id": "cac02954",
   "metadata": {
    "execution": {
     "iopub.execute_input": "2025-02-18T05:30:11.525025Z",
     "iopub.status.busy": "2025-02-18T05:30:11.524622Z",
     "iopub.status.idle": "2025-02-18T05:30:11.537541Z",
     "shell.execute_reply": "2025-02-18T05:30:11.536184Z"
    },
    "papermill": {
     "duration": 0.028754,
     "end_time": "2025-02-18T05:30:11.539318",
     "exception": false,
     "start_time": "2025-02-18T05:30:11.510564",
     "status": "completed"
    },
    "tags": []
   },
   "outputs": [
    {
     "data": {
      "text/html": [
       "<div>\n",
       "<style scoped>\n",
       "    .dataframe tbody tr th:only-of-type {\n",
       "        vertical-align: middle;\n",
       "    }\n",
       "\n",
       "    .dataframe tbody tr th {\n",
       "        vertical-align: top;\n",
       "    }\n",
       "\n",
       "    .dataframe thead th {\n",
       "        text-align: right;\n",
       "    }\n",
       "</style>\n",
       "<table border=\"1\" class=\"dataframe\">\n",
       "  <thead>\n",
       "    <tr style=\"text-align: right;\">\n",
       "      <th></th>\n",
       "      <th>team_home</th>\n",
       "      <th>team_away</th>\n",
       "      <th>home_away_NS</th>\n",
       "      <th>travel_dist% (A/B)</th>\n",
       "      <th>rest_days% (A/B)</th>\n",
       "    </tr>\n",
       "  </thead>\n",
       "  <tbody>\n",
       "    <tr>\n",
       "      <th>0</th>\n",
       "      <td>rhode_island_rams</td>\n",
       "      <td>north_carolina_tar_heels</td>\n",
       "      <td>0</td>\n",
       "      <td>-0.045263</td>\n",
       "      <td>2.000000e-09</td>\n",
       "    </tr>\n",
       "    <tr>\n",
       "      <th>1</th>\n",
       "      <td>nc_state_wolfpack</td>\n",
       "      <td>rhode_island_rams</td>\n",
       "      <td>0</td>\n",
       "      <td>0.197375</td>\n",
       "      <td>3.997868e-02</td>\n",
       "    </tr>\n",
       "    <tr>\n",
       "      <th>2</th>\n",
       "      <td>nc_state_wolfpack</td>\n",
       "      <td>north_carolina_tar_heels</td>\n",
       "      <td>0</td>\n",
       "      <td>0.153483</td>\n",
       "      <td>3.997868e-02</td>\n",
       "    </tr>\n",
       "    <tr>\n",
       "      <th>3</th>\n",
       "      <td>liberty_flames</td>\n",
       "      <td>bucknell_bison</td>\n",
       "      <td>0</td>\n",
       "      <td>0.020708</td>\n",
       "      <td>-1.586485e-01</td>\n",
       "    </tr>\n",
       "    <tr>\n",
       "      <th>4</th>\n",
       "      <td>drexel_dragons</td>\n",
       "      <td>delaware_blue_hens</td>\n",
       "      <td>0</td>\n",
       "      <td>-0.039979</td>\n",
       "      <td>2.221857e-02</td>\n",
       "    </tr>\n",
       "    <tr>\n",
       "      <th>5</th>\n",
       "      <td>massachusetts_minutewomen</td>\n",
       "      <td>princeton_tigers</td>\n",
       "      <td>0</td>\n",
       "      <td>0.008416</td>\n",
       "      <td>-1.333254e-02</td>\n",
       "    </tr>\n",
       "    <tr>\n",
       "      <th>6</th>\n",
       "      <td>buffalo_bulls</td>\n",
       "      <td>stony_brook_seawolves</td>\n",
       "      <td>0</td>\n",
       "      <td>-0.189354</td>\n",
       "      <td>-7.541211e-02</td>\n",
       "    </tr>\n",
       "    <tr>\n",
       "      <th>7</th>\n",
       "      <td>fairfield_stags</td>\n",
       "      <td>towson_tigers</td>\n",
       "      <td>0</td>\n",
       "      <td>-0.010163</td>\n",
       "      <td>-1.369125e-01</td>\n",
       "    </tr>\n",
       "    <tr>\n",
       "      <th>8</th>\n",
       "      <td>uconn_huskies</td>\n",
       "      <td>campbell_fighting_camels</td>\n",
       "      <td>0</td>\n",
       "      <td>-0.113078</td>\n",
       "      <td>-7.982977e-02</td>\n",
       "    </tr>\n",
       "    <tr>\n",
       "      <th>9</th>\n",
       "      <td>american_university_eagles</td>\n",
       "      <td>columbia_lions</td>\n",
       "      <td>0</td>\n",
       "      <td>0.040060</td>\n",
       "      <td>-1.150439e-01</td>\n",
       "    </tr>\n",
       "  </tbody>\n",
       "</table>\n",
       "</div>"
      ],
      "text/plain": [
       "                    team_home                 team_away  home_away_NS  \\\n",
       "0           rhode_island_rams  north_carolina_tar_heels             0   \n",
       "1           nc_state_wolfpack         rhode_island_rams             0   \n",
       "2           nc_state_wolfpack  north_carolina_tar_heels             0   \n",
       "3              liberty_flames            bucknell_bison             0   \n",
       "4              drexel_dragons        delaware_blue_hens             0   \n",
       "5   massachusetts_minutewomen          princeton_tigers             0   \n",
       "6               buffalo_bulls     stony_brook_seawolves             0   \n",
       "7             fairfield_stags             towson_tigers             0   \n",
       "8               uconn_huskies  campbell_fighting_camels             0   \n",
       "9  american_university_eagles            columbia_lions             0   \n",
       "\n",
       "   travel_dist% (A/B)  rest_days% (A/B)  \n",
       "0           -0.045263      2.000000e-09  \n",
       "1            0.197375      3.997868e-02  \n",
       "2            0.153483      3.997868e-02  \n",
       "3            0.020708     -1.586485e-01  \n",
       "4           -0.039979      2.221857e-02  \n",
       "5            0.008416     -1.333254e-02  \n",
       "6           -0.189354     -7.541211e-02  \n",
       "7           -0.010163     -1.369125e-01  \n",
       "8           -0.113078     -7.982977e-02  \n",
       "9            0.040060     -1.150439e-01  "
      ]
     },
     "execution_count": 30,
     "metadata": {},
     "output_type": "execute_result"
    }
   ],
   "source": [
    "inf"
   ]
  },
  {
   "cell_type": "code",
   "execution_count": 31,
   "id": "338dfad3",
   "metadata": {
    "execution": {
     "iopub.execute_input": "2025-02-18T05:30:11.563626Z",
     "iopub.status.busy": "2025-02-18T05:30:11.563207Z",
     "iopub.status.idle": "2025-02-18T05:30:11.575576Z",
     "shell.execute_reply": "2025-02-18T05:30:11.574319Z"
    },
    "papermill": {
     "duration": 0.026946,
     "end_time": "2025-02-18T05:30:11.577523",
     "exception": false,
     "start_time": "2025-02-18T05:30:11.550577",
     "status": "completed"
    },
    "tags": []
   },
   "outputs": [
    {
     "data": {
      "text/plain": [
       "[tensor([[-0.0059, -0.0011,  0.0098,  0.0052, -0.0006,  0.0028,  0.0151, -0.0064,\n",
       "           0.0024,  0.0021,  0.0024, -0.0074,  0.0042, -0.0050,  0.0043]],\n",
       "        grad_fn=<TanhBackward0>),\n",
       " tensor([[ 0.0188,  0.0107,  0.0013,  0.0032, -0.0027,  0.0033, -0.0073,  0.0123,\n",
       "           0.0083, -0.0083, -0.0028,  0.0077, -0.0089, -0.0003, -0.0050]],\n",
       "        grad_fn=<TanhBackward0>),\n",
       " tensor([[ 0.0129,  0.0096,  0.0111,  0.0084, -0.0033,  0.0061,  0.0078,  0.0059,\n",
       "           0.0106, -0.0063, -0.0003,  0.0003, -0.0047, -0.0053, -0.0007]],\n",
       "        grad_fn=<TanhBackward0>),\n",
       " tensor([[ 0.0007,  0.0010,  0.0115,  0.0228,  0.0050,  0.0138,  0.0051,  0.0003,\n",
       "          -0.0025,  0.0117, -0.0010,  0.0246,  0.0122, -0.0027, -0.0018]],\n",
       "        grad_fn=<TanhBackward0>),\n",
       " tensor([[-2.4251e-03, -9.5064e-04, -2.6397e-03,  4.0531e-03, -4.1369e-03,\n",
       "           8.7680e-03,  1.8272e-02, -4.6592e-04, -1.6911e-03, -1.2699e-03,\n",
       "          -1.9338e-02,  4.9190e-03,  5.1918e-05, -5.4430e-03,  5.9254e-04]],\n",
       "        grad_fn=<TanhBackward0>),\n",
       " tensor([[ 0.0194,  0.0090, -0.0051,  0.0136,  0.0155, -0.0032,  0.0156,  0.0142,\n",
       "           0.0036,  0.0159, -0.0025,  0.0064,  0.0147,  0.0009, -0.0064]],\n",
       "        grad_fn=<TanhBackward0>),\n",
       " tensor([[-0.0154,  0.0027, -0.0067, -0.0050,  0.0078,  0.0077,  0.0006,  0.0026,\n",
       "          -0.0205, -0.0096, -0.0005, -0.0096, -0.0109, -0.0002, -0.0016]],\n",
       "        grad_fn=<TanhBackward0>),\n",
       " tensor([[-0.0034, -0.0102,  0.0139,  0.0109,  0.0078,  0.0126, -0.0024, -0.0012,\n",
       "           0.0113,  0.0173, -0.0014,  0.0055,  0.0063,  0.0068,  0.0060]],\n",
       "        grad_fn=<TanhBackward0>),\n",
       " tensor([[-0.0315, -0.0270, -0.0316, -0.0258, -0.0336, -0.0181, -0.0226, -0.0054,\n",
       "           0.0041, -0.0352, -0.0098, -0.0125, -0.0360,  0.0095, -0.0224]],\n",
       "        grad_fn=<TanhBackward0>),\n",
       " tensor([[ 0.0117,  0.0039,  0.0077, -0.0024,  0.0057, -0.0021, -0.0074, -0.0022,\n",
       "           0.0052,  0.0033,  0.0108, -0.0072, -0.0112, -0.0008, -0.0098]],\n",
       "        grad_fn=<TanhBackward0>)]"
      ]
     },
     "execution_count": 31,
     "metadata": {},
     "output_type": "execute_result"
    }
   ],
   "source": [
    "Normalized_X"
   ]
  },
  {
   "cell_type": "code",
   "execution_count": 32,
   "id": "f41b2d76",
   "metadata": {
    "execution": {
     "iopub.execute_input": "2025-02-18T05:30:11.601354Z",
     "iopub.status.busy": "2025-02-18T05:30:11.600941Z",
     "iopub.status.idle": "2025-02-18T05:30:11.609712Z",
     "shell.execute_reply": "2025-02-18T05:30:11.608674Z"
    },
    "papermill": {
     "duration": 0.022413,
     "end_time": "2025-02-18T05:30:11.611483",
     "exception": false,
     "start_time": "2025-02-18T05:30:11.589070",
     "status": "completed"
    },
    "tags": []
   },
   "outputs": [],
   "source": [
    "Ft = []\n",
    "for i in range(len(Normalized_X)):\n",
    "    Ft.append(Normalized_X[i][0])\n",
    "\n",
    "FF = []\n",
    "for i in range(len(Ft)):\n",
    "    Stat = Ft[i]\n",
    "\n",
    "    rest_diff = torch.tensor(inf['rest_days% (A/B)'][i])\n",
    "    travel_diff = torch.tensor(inf['travel_dist% (A/B)'][i])\n",
    "\n",
    "    comb1 = torch.stack((rest_diff, prev_trv_dist_diff_list[i]))\n",
    "\n",
    "    HAN = torch.stack((HAN_Home, HAN_Away))\n",
    "\n",
    "    comb2 = torch.stack((comb1, HAN)).reshape(1, -1)\n",
    "    \n",
    "    comb3 = torch.hstack((comb2, travel_diff.reshape(1, 1)))\n",
    "    final_feature = torch.hstack((Stat.reshape(1, -1), comb3))\n",
    "    FF.append(final_feature)"
   ]
  },
  {
   "cell_type": "code",
   "execution_count": 33,
   "id": "28397d99",
   "metadata": {
    "execution": {
     "iopub.execute_input": "2025-02-18T05:30:11.635289Z",
     "iopub.status.busy": "2025-02-18T05:30:11.634876Z",
     "iopub.status.idle": "2025-02-18T05:30:11.643745Z",
     "shell.execute_reply": "2025-02-18T05:30:11.642359Z"
    },
    "papermill": {
     "duration": 0.022858,
     "end_time": "2025-02-18T05:30:11.645584",
     "exception": false,
     "start_time": "2025-02-18T05:30:11.622726",
     "status": "completed"
    },
    "tags": []
   },
   "outputs": [
    {
     "name": "stdout",
     "output_type": "stream",
     "text": [
      "tensor([[-5.9330e-03, -1.1484e-03,  9.7819e-03,  5.1622e-03, -6.0143e-04,\n",
      "          2.8063e-03,  1.5135e-02, -6.4062e-03,  2.3529e-03,  2.0561e-03,\n",
      "          2.4422e-03, -7.3865e-03,  4.2125e-03, -4.9841e-03,  4.3132e-03,\n",
      "          2.0000e-09,  2.4804e-02,  1.0000e+00,  0.0000e+00, -4.5263e-02]],\n",
      "       dtype=torch.float64, grad_fn=<CatBackward0>)\n",
      " \n",
      "tensor([-5.9330e-03, -1.1484e-03,  9.7819e-03,  5.1622e-03, -6.0143e-04,\n",
      "         2.8063e-03,  1.5135e-02, -6.4062e-03,  2.3529e-03,  2.0561e-03,\n",
      "         2.4422e-03, -7.3865e-03,  4.2125e-03, -4.9841e-03,  4.3132e-03,\n",
      "         2.0000e-09,  2.4804e-02,  1.0000e+00,  0.0000e+00, -4.5263e-02],\n",
      "       dtype=torch.float64, grad_fn=<SelectBackward0>)\n"
     ]
    }
   ],
   "source": [
    "print(FF[0])\n",
    "print(\" \")\n",
    "print(FF[0][0])"
   ]
  },
  {
   "cell_type": "code",
   "execution_count": 34,
   "id": "7278cf0a",
   "metadata": {
    "execution": {
     "iopub.execute_input": "2025-02-18T05:30:11.670696Z",
     "iopub.status.busy": "2025-02-18T05:30:11.670275Z",
     "iopub.status.idle": "2025-02-18T05:30:11.681527Z",
     "shell.execute_reply": "2025-02-18T05:30:11.680319Z"
    },
    "papermill": {
     "duration": 0.026493,
     "end_time": "2025-02-18T05:30:11.683753",
     "exception": false,
     "start_time": "2025-02-18T05:30:11.657260",
     "status": "completed"
    },
    "tags": []
   },
   "outputs": [
    {
     "name": "stdout",
     "output_type": "stream",
     "text": [
      "<class 'torch.Tensor'>\n",
      "<class 'torch.Tensor'>\n",
      "<class 'torch.Tensor'>\n",
      "<class 'torch.Tensor'>\n",
      "<class 'torch.Tensor'>\n",
      "<class 'torch.Tensor'>\n",
      "<class 'torch.Tensor'>\n",
      "<class 'torch.Tensor'>\n",
      "<class 'torch.Tensor'>\n",
      "<class 'torch.Tensor'>\n",
      "<class 'torch.Tensor'>\n",
      "<class 'torch.Tensor'>\n",
      "<class 'torch.Tensor'>\n",
      "<class 'torch.Tensor'>\n",
      "<class 'torch.Tensor'>\n",
      "<class 'torch.Tensor'>\n",
      "<class 'torch.Tensor'>\n",
      "<class 'torch.Tensor'>\n",
      "<class 'torch.Tensor'>\n",
      "<class 'torch.Tensor'>\n"
     ]
    }
   ],
   "source": [
    "for i in FF[0][0]:\n",
    "    print(type(i))"
   ]
  },
  {
   "cell_type": "code",
   "execution_count": 35,
   "id": "0b0c280e",
   "metadata": {
    "execution": {
     "iopub.execute_input": "2025-02-18T05:30:11.708069Z",
     "iopub.status.busy": "2025-02-18T05:30:11.707697Z",
     "iopub.status.idle": "2025-02-18T05:30:13.569695Z",
     "shell.execute_reply": "2025-02-18T05:30:13.568443Z"
    },
    "papermill": {
     "duration": 1.875918,
     "end_time": "2025-02-18T05:30:13.571506",
     "exception": false,
     "start_time": "2025-02-18T05:30:11.695588",
     "status": "completed"
    },
    "tags": []
   },
   "outputs": [
    {
     "name": "stdout",
     "output_type": "stream",
     "text": [
      "tensor(0.3612, grad_fn=<SelectBackward0>)\n",
      "tensor(0.9687, grad_fn=<SelectBackward0>)\n",
      "tensor(0.9149, grad_fn=<SelectBackward0>)\n",
      "tensor(0.8501, grad_fn=<SelectBackward0>)\n",
      "tensor(0.6700, grad_fn=<SelectBackward0>)\n",
      "tensor(0.8254, grad_fn=<SelectBackward0>)\n",
      "tensor(0.0894, grad_fn=<SelectBackward0>)\n",
      "tensor(0.5877, grad_fn=<SelectBackward0>)\n",
      "tensor(0.0778, grad_fn=<SelectBackward0>)\n",
      "tensor(0.6437, grad_fn=<SelectBackward0>)\n"
     ]
    }
   ],
   "source": [
    "Winning_pctg = []\n",
    "\n",
    "for i in range(len(FF)):\n",
    "    Features = FF[i][0]\n",
    "    Features = Features.reshape(1, -1)\n",
    "    Features = Features.float()\n",
    "    \n",
    "    Pred = cls_model(Features)\n",
    "    prob = F.softmax(Pred['logits'], dim = -1)\n",
    "\n",
    "    # Take Index 1 because Lose = 0 | Win = 1\n",
    "    print(prob[0][1])\n",
    "    Winning_pctg.append(prob[0][1])"
   ]
  },
  {
   "cell_type": "code",
   "execution_count": 36,
   "id": "1a24cec8",
   "metadata": {
    "execution": {
     "iopub.execute_input": "2025-02-18T05:30:13.599230Z",
     "iopub.status.busy": "2025-02-18T05:30:13.598747Z",
     "iopub.status.idle": "2025-02-18T05:30:13.608446Z",
     "shell.execute_reply": "2025-02-18T05:30:13.607308Z"
    },
    "papermill": {
     "duration": 0.0245,
     "end_time": "2025-02-18T05:30:13.610593",
     "exception": false,
     "start_time": "2025-02-18T05:30:13.586093",
     "status": "completed"
    },
    "tags": []
   },
   "outputs": [
    {
     "data": {
      "text/plain": [
       "[tensor(0.3612, grad_fn=<SelectBackward0>),\n",
       " tensor(0.9687, grad_fn=<SelectBackward0>),\n",
       " tensor(0.9149, grad_fn=<SelectBackward0>),\n",
       " tensor(0.8501, grad_fn=<SelectBackward0>),\n",
       " tensor(0.6700, grad_fn=<SelectBackward0>),\n",
       " tensor(0.8254, grad_fn=<SelectBackward0>),\n",
       " tensor(0.0894, grad_fn=<SelectBackward0>),\n",
       " tensor(0.5877, grad_fn=<SelectBackward0>),\n",
       " tensor(0.0778, grad_fn=<SelectBackward0>),\n",
       " tensor(0.6437, grad_fn=<SelectBackward0>)]"
      ]
     },
     "execution_count": 36,
     "metadata": {},
     "output_type": "execute_result"
    }
   ],
   "source": [
    "Winning_pctg"
   ]
  }
 ],
 "metadata": {
  "kaggle": {
   "accelerator": "none",
   "dataSources": [
    {
     "datasetId": 6678396,
     "sourceId": 10765933,
     "sourceType": "datasetVersion"
    },
    {
     "datasetId": 6680976,
     "sourceId": 10769690,
     "sourceType": "datasetVersion"
    }
   ],
   "dockerImageVersionId": 30886,
   "isGpuEnabled": false,
   "isInternetEnabled": true,
   "language": "python",
   "sourceType": "notebook"
  },
  "kernelspec": {
   "display_name": "Python 3",
   "language": "python",
   "name": "python3"
  },
  "language_info": {
   "codemirror_mode": {
    "name": "ipython",
    "version": 3
   },
   "file_extension": ".py",
   "mimetype": "text/x-python",
   "name": "python",
   "nbconvert_exporter": "python",
   "pygments_lexer": "ipython3",
   "version": "3.10.12"
  },
  "papermill": {
   "default_parameters": {},
   "duration": 68.659013,
   "end_time": "2025-02-18T05:30:17.144983",
   "environment_variables": {},
   "exception": null,
   "input_path": "__notebook__.ipynb",
   "output_path": "__notebook__.ipynb",
   "parameters": {},
   "start_time": "2025-02-18T05:29:08.485970",
   "version": "2.6.0"
  },
  "widgets": {
   "application/vnd.jupyter.widget-state+json": {
    "state": {
     "0592c1e80e93421d94a6507445a3b346": {
      "model_module": "@jupyter-widgets/controls",
      "model_module_version": "2.0.0",
      "model_name": "ProgressStyleModel",
      "state": {
       "_model_module": "@jupyter-widgets/controls",
       "_model_module_version": "2.0.0",
       "_model_name": "ProgressStyleModel",
       "_view_count": null,
       "_view_module": "@jupyter-widgets/base",
       "_view_module_version": "2.0.0",
       "_view_name": "StyleView",
       "bar_color": null,
       "description_width": ""
      }
     },
     "1e09b3309a2c4d0dbd967f2852543022": {
      "model_module": "@jupyter-widgets/controls",
      "model_module_version": "2.0.0",
      "model_name": "FloatProgressModel",
      "state": {
       "_dom_classes": [],
       "_model_module": "@jupyter-widgets/controls",
       "_model_module_version": "2.0.0",
       "_model_name": "FloatProgressModel",
       "_view_count": null,
       "_view_module": "@jupyter-widgets/controls",
       "_view_module_version": "2.0.0",
       "_view_name": "ProgressView",
       "bar_style": "success",
       "description": "",
       "description_allow_html": false,
       "layout": "IPY_MODEL_68b0275094f34f7294039138684975de",
       "max": 102469840.0,
       "min": 0.0,
       "orientation": "horizontal",
       "style": "IPY_MODEL_0592c1e80e93421d94a6507445a3b346",
       "tabbable": null,
       "tooltip": null,
       "value": 102469840.0
      }
     },
     "375d7af578a4411a89a7acba413747b3": {
      "model_module": "@jupyter-widgets/base",
      "model_module_version": "2.0.0",
      "model_name": "LayoutModel",
      "state": {
       "_model_module": "@jupyter-widgets/base",
       "_model_module_version": "2.0.0",
       "_model_name": "LayoutModel",
       "_view_count": null,
       "_view_module": "@jupyter-widgets/base",
       "_view_module_version": "2.0.0",
       "_view_name": "LayoutView",
       "align_content": null,
       "align_items": null,
       "align_self": null,
       "border_bottom": null,
       "border_left": null,
       "border_right": null,
       "border_top": null,
       "bottom": null,
       "display": null,
       "flex": null,
       "flex_flow": null,
       "grid_area": null,
       "grid_auto_columns": null,
       "grid_auto_flow": null,
       "grid_auto_rows": null,
       "grid_column": null,
       "grid_gap": null,
       "grid_row": null,
       "grid_template_areas": null,
       "grid_template_columns": null,
       "grid_template_rows": null,
       "height": null,
       "justify_content": null,
       "justify_items": null,
       "left": null,
       "margin": null,
       "max_height": null,
       "max_width": null,
       "min_height": null,
       "min_width": null,
       "object_fit": null,
       "object_position": null,
       "order": null,
       "overflow": null,
       "padding": null,
       "right": null,
       "top": null,
       "visibility": null,
       "width": null
      }
     },
     "47265bccd1d44514b95f8390eb68eed9": {
      "model_module": "@jupyter-widgets/controls",
      "model_module_version": "2.0.0",
      "model_name": "HTMLStyleModel",
      "state": {
       "_model_module": "@jupyter-widgets/controls",
       "_model_module_version": "2.0.0",
       "_model_name": "HTMLStyleModel",
       "_view_count": null,
       "_view_module": "@jupyter-widgets/base",
       "_view_module_version": "2.0.0",
       "_view_name": "StyleView",
       "background": null,
       "description_width": "",
       "font_size": null,
       "text_color": null
      }
     },
     "5a3985a7905d48b487976e523c5eab7e": {
      "model_module": "@jupyter-widgets/base",
      "model_module_version": "2.0.0",
      "model_name": "LayoutModel",
      "state": {
       "_model_module": "@jupyter-widgets/base",
       "_model_module_version": "2.0.0",
       "_model_name": "LayoutModel",
       "_view_count": null,
       "_view_module": "@jupyter-widgets/base",
       "_view_module_version": "2.0.0",
       "_view_name": "LayoutView",
       "align_content": null,
       "align_items": null,
       "align_self": null,
       "border_bottom": null,
       "border_left": null,
       "border_right": null,
       "border_top": null,
       "bottom": null,
       "display": null,
       "flex": null,
       "flex_flow": null,
       "grid_area": null,
       "grid_auto_columns": null,
       "grid_auto_flow": null,
       "grid_auto_rows": null,
       "grid_column": null,
       "grid_gap": null,
       "grid_row": null,
       "grid_template_areas": null,
       "grid_template_columns": null,
       "grid_template_rows": null,
       "height": null,
       "justify_content": null,
       "justify_items": null,
       "left": null,
       "margin": null,
       "max_height": null,
       "max_width": null,
       "min_height": null,
       "min_width": null,
       "object_fit": null,
       "object_position": null,
       "order": null,
       "overflow": null,
       "padding": null,
       "right": null,
       "top": null,
       "visibility": null,
       "width": null
      }
     },
     "68b0275094f34f7294039138684975de": {
      "model_module": "@jupyter-widgets/base",
      "model_module_version": "2.0.0",
      "model_name": "LayoutModel",
      "state": {
       "_model_module": "@jupyter-widgets/base",
       "_model_module_version": "2.0.0",
       "_model_name": "LayoutModel",
       "_view_count": null,
       "_view_module": "@jupyter-widgets/base",
       "_view_module_version": "2.0.0",
       "_view_name": "LayoutView",
       "align_content": null,
       "align_items": null,
       "align_self": null,
       "border_bottom": null,
       "border_left": null,
       "border_right": null,
       "border_top": null,
       "bottom": null,
       "display": null,
       "flex": null,
       "flex_flow": null,
       "grid_area": null,
       "grid_auto_columns": null,
       "grid_auto_flow": null,
       "grid_auto_rows": null,
       "grid_column": null,
       "grid_gap": null,
       "grid_row": null,
       "grid_template_areas": null,
       "grid_template_columns": null,
       "grid_template_rows": null,
       "height": null,
       "justify_content": null,
       "justify_items": null,
       "left": null,
       "margin": null,
       "max_height": null,
       "max_width": null,
       "min_height": null,
       "min_width": null,
       "object_fit": null,
       "object_position": null,
       "order": null,
       "overflow": null,
       "padding": null,
       "right": null,
       "top": null,
       "visibility": null,
       "width": null
      }
     },
     "99013f45009f47b18f44599b7c8b4605": {
      "model_module": "@jupyter-widgets/controls",
      "model_module_version": "2.0.0",
      "model_name": "HTMLStyleModel",
      "state": {
       "_model_module": "@jupyter-widgets/controls",
       "_model_module_version": "2.0.0",
       "_model_name": "HTMLStyleModel",
       "_view_count": null,
       "_view_module": "@jupyter-widgets/base",
       "_view_module_version": "2.0.0",
       "_view_name": "StyleView",
       "background": null,
       "description_width": "",
       "font_size": null,
       "text_color": null
      }
     },
     "9d529c6ead1b4e1985e3bdd2864b9ad3": {
      "model_module": "@jupyter-widgets/controls",
      "model_module_version": "2.0.0",
      "model_name": "HTMLModel",
      "state": {
       "_dom_classes": [],
       "_model_module": "@jupyter-widgets/controls",
       "_model_module_version": "2.0.0",
       "_model_name": "HTMLModel",
       "_view_count": null,
       "_view_module": "@jupyter-widgets/controls",
       "_view_module_version": "2.0.0",
       "_view_name": "HTMLView",
       "description": "",
       "description_allow_html": false,
       "layout": "IPY_MODEL_5a3985a7905d48b487976e523c5eab7e",
       "placeholder": "​",
       "style": "IPY_MODEL_99013f45009f47b18f44599b7c8b4605",
       "tabbable": null,
       "tooltip": null,
       "value": " 102M/102M [00:00&lt;00:00, 206MB/s]"
      }
     },
     "b682abd5047a4c1caa77688d1fbc7c74": {
      "model_module": "@jupyter-widgets/base",
      "model_module_version": "2.0.0",
      "model_name": "LayoutModel",
      "state": {
       "_model_module": "@jupyter-widgets/base",
       "_model_module_version": "2.0.0",
       "_model_name": "LayoutModel",
       "_view_count": null,
       "_view_module": "@jupyter-widgets/base",
       "_view_module_version": "2.0.0",
       "_view_name": "LayoutView",
       "align_content": null,
       "align_items": null,
       "align_self": null,
       "border_bottom": null,
       "border_left": null,
       "border_right": null,
       "border_top": null,
       "bottom": null,
       "display": null,
       "flex": null,
       "flex_flow": null,
       "grid_area": null,
       "grid_auto_columns": null,
       "grid_auto_flow": null,
       "grid_auto_rows": null,
       "grid_column": null,
       "grid_gap": null,
       "grid_row": null,
       "grid_template_areas": null,
       "grid_template_columns": null,
       "grid_template_rows": null,
       "height": null,
       "justify_content": null,
       "justify_items": null,
       "left": null,
       "margin": null,
       "max_height": null,
       "max_width": null,
       "min_height": null,
       "min_width": null,
       "object_fit": null,
       "object_position": null,
       "order": null,
       "overflow": null,
       "padding": null,
       "right": null,
       "top": null,
       "visibility": null,
       "width": null
      }
     },
     "dc0f0c1b657644a08a1264e3cf1ea68c": {
      "model_module": "@jupyter-widgets/controls",
      "model_module_version": "2.0.0",
      "model_name": "HTMLModel",
      "state": {
       "_dom_classes": [],
       "_model_module": "@jupyter-widgets/controls",
       "_model_module_version": "2.0.0",
       "_model_name": "HTMLModel",
       "_view_count": null,
       "_view_module": "@jupyter-widgets/controls",
       "_view_module_version": "2.0.0",
       "_view_name": "HTMLView",
       "description": "",
       "description_allow_html": false,
       "layout": "IPY_MODEL_375d7af578a4411a89a7acba413747b3",
       "placeholder": "​",
       "style": "IPY_MODEL_47265bccd1d44514b95f8390eb68eed9",
       "tabbable": null,
       "tooltip": null,
       "value": "model.safetensors: 100%"
      }
     },
     "e3fa2b7099b044b099b66eac572518f3": {
      "model_module": "@jupyter-widgets/controls",
      "model_module_version": "2.0.0",
      "model_name": "HBoxModel",
      "state": {
       "_dom_classes": [],
       "_model_module": "@jupyter-widgets/controls",
       "_model_module_version": "2.0.0",
       "_model_name": "HBoxModel",
       "_view_count": null,
       "_view_module": "@jupyter-widgets/controls",
       "_view_module_version": "2.0.0",
       "_view_name": "HBoxView",
       "box_style": "",
       "children": [
        "IPY_MODEL_dc0f0c1b657644a08a1264e3cf1ea68c",
        "IPY_MODEL_1e09b3309a2c4d0dbd967f2852543022",
        "IPY_MODEL_9d529c6ead1b4e1985e3bdd2864b9ad3"
       ],
       "layout": "IPY_MODEL_b682abd5047a4c1caa77688d1fbc7c74",
       "tabbable": null,
       "tooltip": null
      }
     }
    },
    "version_major": 2,
    "version_minor": 0
   }
  }
 },
 "nbformat": 4,
 "nbformat_minor": 5
}
