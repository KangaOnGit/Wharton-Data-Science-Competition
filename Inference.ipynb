{
 "cells": [
  {
   "cell_type": "markdown",
   "id": "77001387",
   "metadata": {
    "_cell_guid": "b1076dfc-b9ad-4769-8c92-a6c4dae69d19",
    "_uuid": "8f2839f25d086af736a60e9eeb907d3b93b6e0e5",
    "papermill": {
     "duration": 0.008872,
     "end_time": "2025-02-18T05:26:07.289572",
     "exception": false,
     "start_time": "2025-02-18T05:26:07.280700",
     "status": "completed"
    },
    "tags": []
   },
   "source": [
    "----------------\n",
    "# **Library**"
   ]
  },
  {
   "cell_type": "code",
   "execution_count": 1,
   "id": "324fa7ec",
   "metadata": {
    "execution": {
     "iopub.execute_input": "2025-02-18T05:26:07.307039Z",
     "iopub.status.busy": "2025-02-18T05:26:07.306657Z",
     "iopub.status.idle": "2025-02-18T05:26:12.392126Z",
     "shell.execute_reply": "2025-02-18T05:26:12.390863Z"
    },
    "papermill": {
     "duration": 5.096314,
     "end_time": "2025-02-18T05:26:12.394121",
     "exception": false,
     "start_time": "2025-02-18T05:26:07.297807",
     "status": "completed"
    },
    "scrolled": true,
    "tags": []
   },
   "outputs": [
    {
     "name": "stdout",
     "output_type": "stream",
     "text": [
      "Requirement already satisfied: timm in /usr/local/lib/python3.10/dist-packages (1.0.12)\r\n",
      "Requirement already satisfied: torch in /usr/local/lib/python3.10/dist-packages (from timm) (2.5.1+cu121)\r\n",
      "Requirement already satisfied: torchvision in /usr/local/lib/python3.10/dist-packages (from timm) (0.20.1+cu121)\r\n",
      "Requirement already satisfied: pyyaml in /usr/local/lib/python3.10/dist-packages (from timm) (6.0.2)\r\n",
      "Requirement already satisfied: huggingface_hub in /usr/local/lib/python3.10/dist-packages (from timm) (0.28.1)\r\n",
      "Requirement already satisfied: safetensors in /usr/local/lib/python3.10/dist-packages (from timm) (0.4.5)\r\n",
      "Requirement already satisfied: filelock in /usr/local/lib/python3.10/dist-packages (from huggingface_hub->timm) (3.17.0)\r\n",
      "Requirement already satisfied: fsspec>=2023.5.0 in /usr/local/lib/python3.10/dist-packages (from huggingface_hub->timm) (2024.9.0)\r\n",
      "Requirement already satisfied: packaging>=20.9 in /usr/local/lib/python3.10/dist-packages (from huggingface_hub->timm) (24.2)\r\n",
      "Requirement already satisfied: requests in /usr/local/lib/python3.10/dist-packages (from huggingface_hub->timm) (2.32.3)\r\n",
      "Requirement already satisfied: tqdm>=4.42.1 in /usr/local/lib/python3.10/dist-packages (from huggingface_hub->timm) (4.67.1)\r\n",
      "Requirement already satisfied: typing-extensions>=3.7.4.3 in /usr/local/lib/python3.10/dist-packages (from huggingface_hub->timm) (4.12.2)\r\n",
      "Requirement already satisfied: networkx in /usr/local/lib/python3.10/dist-packages (from torch->timm) (3.4.2)\r\n",
      "Requirement already satisfied: jinja2 in /usr/local/lib/python3.10/dist-packages (from torch->timm) (3.1.4)\r\n",
      "Requirement already satisfied: sympy==1.13.1 in /usr/local/lib/python3.10/dist-packages (from torch->timm) (1.13.1)\r\n",
      "Requirement already satisfied: mpmath<1.4,>=1.1.0 in /usr/local/lib/python3.10/dist-packages (from sympy==1.13.1->torch->timm) (1.3.0)\r\n",
      "Requirement already satisfied: numpy in /usr/local/lib/python3.10/dist-packages (from torchvision->timm) (1.26.4)\r\n",
      "Requirement already satisfied: pillow!=8.3.*,>=5.3.0 in /usr/local/lib/python3.10/dist-packages (from torchvision->timm) (11.0.0)\r\n",
      "Requirement already satisfied: MarkupSafe>=2.0 in /usr/local/lib/python3.10/dist-packages (from jinja2->torch->timm) (3.0.2)\r\n",
      "Requirement already satisfied: mkl_fft in /usr/local/lib/python3.10/dist-packages (from numpy->torchvision->timm) (1.3.8)\r\n",
      "Requirement already satisfied: mkl_random in /usr/local/lib/python3.10/dist-packages (from numpy->torchvision->timm) (1.2.4)\r\n",
      "Requirement already satisfied: mkl_umath in /usr/local/lib/python3.10/dist-packages (from numpy->torchvision->timm) (0.1.1)\r\n",
      "Requirement already satisfied: mkl in /usr/local/lib/python3.10/dist-packages (from numpy->torchvision->timm) (2025.0.1)\r\n",
      "Requirement already satisfied: tbb4py in /usr/local/lib/python3.10/dist-packages (from numpy->torchvision->timm) (2022.0.0)\r\n",
      "Requirement already satisfied: mkl-service in /usr/local/lib/python3.10/dist-packages (from numpy->torchvision->timm) (2.4.1)\r\n",
      "Requirement already satisfied: charset-normalizer<4,>=2 in /usr/local/lib/python3.10/dist-packages (from requests->huggingface_hub->timm) (3.4.1)\r\n",
      "Requirement already satisfied: idna<4,>=2.5 in /usr/local/lib/python3.10/dist-packages (from requests->huggingface_hub->timm) (3.10)\r\n",
      "Requirement already satisfied: urllib3<3,>=1.21.1 in /usr/local/lib/python3.10/dist-packages (from requests->huggingface_hub->timm) (2.3.0)\r\n",
      "Requirement already satisfied: certifi>=2017.4.17 in /usr/local/lib/python3.10/dist-packages (from requests->huggingface_hub->timm) (2025.1.31)\r\n",
      "Requirement already satisfied: intel-openmp>=2024 in /usr/local/lib/python3.10/dist-packages (from mkl->numpy->torchvision->timm) (2024.2.0)\r\n",
      "Requirement already satisfied: tbb==2022.* in /usr/local/lib/python3.10/dist-packages (from mkl->numpy->torchvision->timm) (2022.0.0)\r\n",
      "Requirement already satisfied: tcmlib==1.* in /usr/local/lib/python3.10/dist-packages (from tbb==2022.*->mkl->numpy->torchvision->timm) (1.2.0)\r\n",
      "Requirement already satisfied: intel-cmplr-lib-rt in /usr/local/lib/python3.10/dist-packages (from mkl_umath->numpy->torchvision->timm) (2024.2.0)\r\n",
      "Requirement already satisfied: intel-cmplr-lib-ur==2024.2.0 in /usr/local/lib/python3.10/dist-packages (from intel-openmp>=2024->mkl->numpy->torchvision->timm) (2024.2.0)\r\n"
     ]
    }
   ],
   "source": [
    "!pip install timm"
   ]
  },
  {
   "cell_type": "code",
   "execution_count": 2,
   "id": "0f0d8edc",
   "metadata": {
    "execution": {
     "iopub.execute_input": "2025-02-18T05:26:12.413425Z",
     "iopub.status.busy": "2025-02-18T05:26:12.413067Z",
     "iopub.status.idle": "2025-02-18T05:26:27.155878Z",
     "shell.execute_reply": "2025-02-18T05:26:27.155115Z"
    },
    "papermill": {
     "duration": 14.754796,
     "end_time": "2025-02-18T05:26:27.157699",
     "exception": false,
     "start_time": "2025-02-18T05:26:12.402903",
     "status": "completed"
    },
    "tags": []
   },
   "outputs": [],
   "source": [
    "# Data Processing n' Visualization\n",
    "import matplotlib.pyplot as plt\n",
    "import pandas as pd\n",
    "import seaborn as sns\n",
    "\n",
    "# Compute\n",
    "import numpy as np\n",
    "import torch\n",
    "import torch.nn as nn\n",
    "import torch.optim as optim\n",
    "\n",
    "# Data\n",
    "from torch.utils.data import Dataset, DataLoader\n",
    "from sklearn.model_selection import train_test_split\n",
    "\n",
    "# Random\n",
    "import os\n",
    "import random as rand\n",
    "import timm"
   ]
  },
  {
   "cell_type": "code",
   "execution_count": 3,
   "id": "708ca9a8",
   "metadata": {
    "execution": {
     "iopub.execute_input": "2025-02-18T05:26:27.175457Z",
     "iopub.status.busy": "2025-02-18T05:26:27.175152Z",
     "iopub.status.idle": "2025-02-18T05:26:27.178796Z",
     "shell.execute_reply": "2025-02-18T05:26:27.178057Z"
    },
    "papermill": {
     "duration": 0.013922,
     "end_time": "2025-02-18T05:26:27.180185",
     "exception": false,
     "start_time": "2025-02-18T05:26:27.166263",
     "status": "completed"
    },
    "tags": []
   },
   "outputs": [],
   "source": [
    "torch.cuda.empty_cache()"
   ]
  },
  {
   "cell_type": "code",
   "execution_count": 4,
   "id": "4098dd79",
   "metadata": {
    "execution": {
     "iopub.execute_input": "2025-02-18T05:26:27.197148Z",
     "iopub.status.busy": "2025-02-18T05:26:27.196816Z",
     "iopub.status.idle": "2025-02-18T05:26:27.203166Z",
     "shell.execute_reply": "2025-02-18T05:26:27.202244Z"
    },
    "papermill": {
     "duration": 0.016418,
     "end_time": "2025-02-18T05:26:27.204662",
     "exception": false,
     "start_time": "2025-02-18T05:26:27.188244",
     "status": "completed"
    },
    "tags": []
   },
   "outputs": [],
   "source": [
    "def set_seed(seed):\n",
    "  rand.seed(seed)\n",
    "  np.random.seed(seed)\n",
    "  torch.cuda.manual_seed(seed)\n",
    "  torch.cuda.manual_seed_all(seed)\n",
    "  torch.backends.cudnn.deterministic = True\n",
    "  torch.backends.cudnn.benchmark = False\n",
    "\n",
    "seed = 59\n",
    "set_seed(59)"
   ]
  },
  {
   "cell_type": "markdown",
   "id": "d789008e",
   "metadata": {
    "papermill": {
     "duration": 0.008015,
     "end_time": "2025-02-18T05:26:27.220775",
     "exception": false,
     "start_time": "2025-02-18T05:26:27.212760",
     "status": "completed"
    },
    "tags": []
   },
   "source": [
    "-----------------\n",
    "# **Data Sample**"
   ]
  },
  {
   "cell_type": "code",
   "execution_count": 5,
   "id": "7290aebe",
   "metadata": {
    "execution": {
     "iopub.execute_input": "2025-02-18T05:26:27.238632Z",
     "iopub.status.busy": "2025-02-18T05:26:27.238312Z",
     "iopub.status.idle": "2025-02-18T05:26:27.242070Z",
     "shell.execute_reply": "2025-02-18T05:26:27.241165Z"
    },
    "papermill": {
     "duration": 0.014328,
     "end_time": "2025-02-18T05:26:27.243581",
     "exception": false,
     "start_time": "2025-02-18T05:26:27.229253",
     "status": "completed"
    },
    "tags": []
   },
   "outputs": [],
   "source": [
    "data_dir = '/kaggle/input/bkb-data/games_2022 (1).xlsx'\n",
    "infer_dir = '/kaggle/input/infer-wharton/inference.csv'"
   ]
  },
  {
   "cell_type": "code",
   "execution_count": 6,
   "id": "5c1440ca",
   "metadata": {
    "execution": {
     "iopub.execute_input": "2025-02-18T05:26:27.260901Z",
     "iopub.status.busy": "2025-02-18T05:26:27.260597Z",
     "iopub.status.idle": "2025-02-18T05:26:33.929659Z",
     "shell.execute_reply": "2025-02-18T05:26:33.928320Z"
    },
    "papermill": {
     "duration": 6.679324,
     "end_time": "2025-02-18T05:26:33.931341",
     "exception": false,
     "start_time": "2025-02-18T05:26:27.252017",
     "status": "completed"
    },
    "tags": []
   },
   "outputs": [
    {
     "name": "stdout",
     "output_type": "stream",
     "text": [
      "Dataset Type: <class 'pandas.core.frame.DataFrame'>\n"
     ]
    }
   ],
   "source": [
    "df = pd.read_excel(data_dir)\n",
    "inf = pd.read_csv(infer_dir)\n",
    "print(f\"Dataset Type: {type(df)}\")"
   ]
  },
  {
   "cell_type": "code",
   "execution_count": 7,
   "id": "a667594c",
   "metadata": {
    "execution": {
     "iopub.execute_input": "2025-02-18T05:26:33.949037Z",
     "iopub.status.busy": "2025-02-18T05:26:33.948664Z",
     "iopub.status.idle": "2025-02-18T05:26:33.952439Z",
     "shell.execute_reply": "2025-02-18T05:26:33.951520Z"
    },
    "papermill": {
     "duration": 0.014218,
     "end_time": "2025-02-18T05:26:33.953862",
     "exception": false,
     "start_time": "2025-02-18T05:26:33.939644",
     "status": "completed"
    },
    "tags": []
   },
   "outputs": [],
   "source": [
    "df_ts = df"
   ]
  },
  {
   "cell_type": "code",
   "execution_count": 8,
   "id": "f122ded6",
   "metadata": {
    "execution": {
     "iopub.execute_input": "2025-02-18T05:26:33.971574Z",
     "iopub.status.busy": "2025-02-18T05:26:33.971238Z",
     "iopub.status.idle": "2025-02-18T05:26:33.999878Z",
     "shell.execute_reply": "2025-02-18T05:26:33.998688Z"
    },
    "papermill": {
     "duration": 0.039374,
     "end_time": "2025-02-18T05:26:34.001624",
     "exception": false,
     "start_time": "2025-02-18T05:26:33.962250",
     "status": "completed"
    },
    "tags": []
   },
   "outputs": [
    {
     "name": "stderr",
     "output_type": "stream",
     "text": [
      "/usr/local/lib/python3.10/dist-packages/pandas/io/formats/format.py:1458: RuntimeWarning: invalid value encountered in greater\n",
      "  has_large_values = (abs_vals > 1e6).any()\n",
      "/usr/local/lib/python3.10/dist-packages/pandas/io/formats/format.py:1459: RuntimeWarning: invalid value encountered in less\n",
      "  has_small_values = ((abs_vals < 10 ** (-self.digits)) & (abs_vals > 0)).any()\n",
      "/usr/local/lib/python3.10/dist-packages/pandas/io/formats/format.py:1459: RuntimeWarning: invalid value encountered in greater\n",
      "  has_small_values = ((abs_vals < 10 ** (-self.digits)) & (abs_vals > 0)).any()\n"
     ]
    },
    {
     "data": {
      "text/html": [
       "<div>\n",
       "<style scoped>\n",
       "    .dataframe tbody tr th:only-of-type {\n",
       "        vertical-align: middle;\n",
       "    }\n",
       "\n",
       "    .dataframe tbody tr th {\n",
       "        vertical-align: top;\n",
       "    }\n",
       "\n",
       "    .dataframe thead th {\n",
       "        text-align: right;\n",
       "    }\n",
       "</style>\n",
       "<table border=\"1\" class=\"dataframe\">\n",
       "  <thead>\n",
       "    <tr style=\"text-align: right;\">\n",
       "      <th></th>\n",
       "      <th>game_id</th>\n",
       "      <th>description</th>\n",
       "      <th>team_home</th>\n",
       "      <th>team_away</th>\n",
       "      <th>seed_home</th>\n",
       "      <th>seed_away</th>\n",
       "      <th>home_away_NS</th>\n",
       "      <th>rest_days_Home</th>\n",
       "      <th>rest_days_Away</th>\n",
       "      <th>travel_dist_Home</th>\n",
       "      <th>travel_dist_Away</th>\n",
       "      <th>WINNING %</th>\n",
       "    </tr>\n",
       "  </thead>\n",
       "  <tbody>\n",
       "    <tr>\n",
       "      <th>0</th>\n",
       "      <td>G_East_1</td>\n",
       "      <td>play-in-game</td>\n",
       "      <td>rhode_island_rams</td>\n",
       "      <td>north_carolina_tar_heels</td>\n",
       "      <td>16</td>\n",
       "      <td>17</td>\n",
       "      <td>0</td>\n",
       "      <td>6</td>\n",
       "      <td>1</td>\n",
       "      <td>0</td>\n",
       "      <td>770</td>\n",
       "      <td>NaN</td>\n",
       "    </tr>\n",
       "    <tr>\n",
       "      <th>1</th>\n",
       "      <td>G_East_2</td>\n",
       "      <td>play-in team A v 1</td>\n",
       "      <td>nc_state_wolfpack</td>\n",
       "      <td>rhode_island_rams</td>\n",
       "      <td>1</td>\n",
       "      <td>16</td>\n",
       "      <td>0</td>\n",
       "      <td>7</td>\n",
       "      <td>1</td>\n",
       "      <td>1440</td>\n",
       "      <td>0</td>\n",
       "      <td>NaN</td>\n",
       "    </tr>\n",
       "    <tr>\n",
       "      <th>2</th>\n",
       "      <td>G_East_3</td>\n",
       "      <td>play-in team B v 1</td>\n",
       "      <td>nc_state_wolfpack</td>\n",
       "      <td>north_carolina_tar_heels</td>\n",
       "      <td>1</td>\n",
       "      <td>17</td>\n",
       "      <td>0</td>\n",
       "      <td>7</td>\n",
       "      <td>1</td>\n",
       "      <td>1440</td>\n",
       "      <td>770</td>\n",
       "      <td>NaN</td>\n",
       "    </tr>\n",
       "    <tr>\n",
       "      <th>3</th>\n",
       "      <td>G_East_4</td>\n",
       "      <td>2 v 15</td>\n",
       "      <td>liberty_flames</td>\n",
       "      <td>bucknell_bison</td>\n",
       "      <td>2</td>\n",
       "      <td>9</td>\n",
       "      <td>0</td>\n",
       "      <td>7</td>\n",
       "      <td>10</td>\n",
       "      <td>255</td>\n",
       "      <td>250</td>\n",
       "      <td>NaN</td>\n",
       "    </tr>\n",
       "    <tr>\n",
       "      <th>4</th>\n",
       "      <td>G_East_5</td>\n",
       "      <td>3 v 14</td>\n",
       "      <td>drexel_dragons</td>\n",
       "      <td>delaware_blue_hens</td>\n",
       "      <td>3</td>\n",
       "      <td>10</td>\n",
       "      <td>0</td>\n",
       "      <td>11</td>\n",
       "      <td>9</td>\n",
       "      <td>0</td>\n",
       "      <td>680</td>\n",
       "      <td>NaN</td>\n",
       "    </tr>\n",
       "  </tbody>\n",
       "</table>\n",
       "</div>"
      ],
      "text/plain": [
       "    game_id         description          team_home                 team_away  \\\n",
       "0  G_East_1        play-in-game  rhode_island_rams  north_carolina_tar_heels   \n",
       "1  G_East_2  play-in team A v 1  nc_state_wolfpack         rhode_island_rams   \n",
       "2  G_East_3  play-in team B v 1  nc_state_wolfpack  north_carolina_tar_heels   \n",
       "3  G_East_4              2 v 15     liberty_flames            bucknell_bison   \n",
       "4  G_East_5              3 v 14     drexel_dragons        delaware_blue_hens   \n",
       "\n",
       "   seed_home  seed_away  home_away_NS  rest_days_Home  rest_days_Away  \\\n",
       "0         16         17             0               6               1   \n",
       "1          1         16             0               7               1   \n",
       "2          1         17             0               7               1   \n",
       "3          2          9             0               7              10   \n",
       "4          3         10             0              11               9   \n",
       "\n",
       "   travel_dist_Home  travel_dist_Away  WINNING %  \n",
       "0                 0               770        NaN  \n",
       "1              1440                 0        NaN  \n",
       "2              1440               770        NaN  \n",
       "3               255               250        NaN  \n",
       "4                 0               680        NaN  "
      ]
     },
     "execution_count": 8,
     "metadata": {},
     "output_type": "execute_result"
    }
   ],
   "source": [
    "inf.head()"
   ]
  },
  {
   "cell_type": "code",
   "execution_count": 9,
   "id": "6c2dbe38",
   "metadata": {
    "execution": {
     "iopub.execute_input": "2025-02-18T05:26:34.020597Z",
     "iopub.status.busy": "2025-02-18T05:26:34.020248Z",
     "iopub.status.idle": "2025-02-18T05:26:34.046352Z",
     "shell.execute_reply": "2025-02-18T05:26:34.045319Z"
    },
    "papermill": {
     "duration": 0.037625,
     "end_time": "2025-02-18T05:26:34.047926",
     "exception": false,
     "start_time": "2025-02-18T05:26:34.010301",
     "status": "completed"
    },
    "tags": []
   },
   "outputs": [
    {
     "name": "stderr",
     "output_type": "stream",
     "text": [
      "/usr/local/lib/python3.10/dist-packages/pandas/io/formats/format.py:1458: RuntimeWarning: invalid value encountered in greater\n",
      "  has_large_values = (abs_vals > 1e6).any()\n",
      "/usr/local/lib/python3.10/dist-packages/pandas/io/formats/format.py:1459: RuntimeWarning: invalid value encountered in less\n",
      "  has_small_values = ((abs_vals < 10 ** (-self.digits)) & (abs_vals > 0)).any()\n",
      "/usr/local/lib/python3.10/dist-packages/pandas/io/formats/format.py:1459: RuntimeWarning: invalid value encountered in greater\n",
      "  has_small_values = ((abs_vals < 10 ** (-self.digits)) & (abs_vals > 0)).any()\n",
      "/usr/local/lib/python3.10/dist-packages/pandas/io/formats/format.py:1458: RuntimeWarning: invalid value encountered in greater\n",
      "  has_large_values = (abs_vals > 1e6).any()\n",
      "/usr/local/lib/python3.10/dist-packages/pandas/io/formats/format.py:1459: RuntimeWarning: invalid value encountered in less\n",
      "  has_small_values = ((abs_vals < 10 ** (-self.digits)) & (abs_vals > 0)).any()\n",
      "/usr/local/lib/python3.10/dist-packages/pandas/io/formats/format.py:1459: RuntimeWarning: invalid value encountered in greater\n",
      "  has_small_values = ((abs_vals < 10 ** (-self.digits)) & (abs_vals > 0)).any()\n"
     ]
    },
    {
     "data": {
      "text/html": [
       "<div>\n",
       "<style scoped>\n",
       "    .dataframe tbody tr th:only-of-type {\n",
       "        vertical-align: middle;\n",
       "    }\n",
       "\n",
       "    .dataframe tbody tr th {\n",
       "        vertical-align: top;\n",
       "    }\n",
       "\n",
       "    .dataframe thead th {\n",
       "        text-align: right;\n",
       "    }\n",
       "</style>\n",
       "<table border=\"1\" class=\"dataframe\">\n",
       "  <thead>\n",
       "    <tr style=\"text-align: right;\">\n",
       "      <th></th>\n",
       "      <th>game_id</th>\n",
       "      <th>game_date</th>\n",
       "      <th>team</th>\n",
       "      <th>FGA_2</th>\n",
       "      <th>FGM_2</th>\n",
       "      <th>FGA_3</th>\n",
       "      <th>FGM_3</th>\n",
       "      <th>FTA</th>\n",
       "      <th>FTM</th>\n",
       "      <th>AST</th>\n",
       "      <th>...</th>\n",
       "      <th>largest_lead</th>\n",
       "      <th>notD1_incomplete</th>\n",
       "      <th>OT_length_min_tot</th>\n",
       "      <th>rest_days</th>\n",
       "      <th>attendance</th>\n",
       "      <th>tz_dif_H_E</th>\n",
       "      <th>prev_game_dist</th>\n",
       "      <th>home_away</th>\n",
       "      <th>home_away_NS</th>\n",
       "      <th>travel_dist</th>\n",
       "    </tr>\n",
       "  </thead>\n",
       "  <tbody>\n",
       "    <tr>\n",
       "      <th>0</th>\n",
       "      <td>game_2022_2011</td>\n",
       "      <td>2021-12-30</td>\n",
       "      <td>georgia_lady_bulldogs</td>\n",
       "      <td>50</td>\n",
       "      <td>22</td>\n",
       "      <td>11</td>\n",
       "      <td>5</td>\n",
       "      <td>6</td>\n",
       "      <td>3</td>\n",
       "      <td>14</td>\n",
       "      <td>...</td>\n",
       "      <td>1.0</td>\n",
       "      <td>False</td>\n",
       "      <td>NaN</td>\n",
       "      <td>9.0</td>\n",
       "      <td>3241.0</td>\n",
       "      <td>0.0</td>\n",
       "      <td>0.0</td>\n",
       "      <td>home</td>\n",
       "      <td>1</td>\n",
       "      <td>0.0</td>\n",
       "    </tr>\n",
       "    <tr>\n",
       "      <th>1</th>\n",
       "      <td>game_2022_2011</td>\n",
       "      <td>2021-12-30</td>\n",
       "      <td>lsu_tigers</td>\n",
       "      <td>50</td>\n",
       "      <td>24</td>\n",
       "      <td>11</td>\n",
       "      <td>4</td>\n",
       "      <td>15</td>\n",
       "      <td>8</td>\n",
       "      <td>15</td>\n",
       "      <td>...</td>\n",
       "      <td>14.0</td>\n",
       "      <td>False</td>\n",
       "      <td>NaN</td>\n",
       "      <td>3.0</td>\n",
       "      <td>3241.0</td>\n",
       "      <td>0.0</td>\n",
       "      <td>824.0</td>\n",
       "      <td>away</td>\n",
       "      <td>-1</td>\n",
       "      <td>824.0</td>\n",
       "    </tr>\n",
       "    <tr>\n",
       "      <th>2</th>\n",
       "      <td>game_2022_2012</td>\n",
       "      <td>2021-12-30</td>\n",
       "      <td>missouri_tigers</td>\n",
       "      <td>43</td>\n",
       "      <td>18</td>\n",
       "      <td>15</td>\n",
       "      <td>7</td>\n",
       "      <td>16</td>\n",
       "      <td>13</td>\n",
       "      <td>10</td>\n",
       "      <td>...</td>\n",
       "      <td>8.0</td>\n",
       "      <td>False</td>\n",
       "      <td>5.0</td>\n",
       "      <td>8.0</td>\n",
       "      <td>6139.0</td>\n",
       "      <td>0.0</td>\n",
       "      <td>371.0</td>\n",
       "      <td>home</td>\n",
       "      <td>1</td>\n",
       "      <td>0.0</td>\n",
       "    </tr>\n",
       "    <tr>\n",
       "      <th>3</th>\n",
       "      <td>game_2022_2012</td>\n",
       "      <td>2021-12-30</td>\n",
       "      <td>south_carolina_gamecocks</td>\n",
       "      <td>55</td>\n",
       "      <td>23</td>\n",
       "      <td>21</td>\n",
       "      <td>6</td>\n",
       "      <td>9</td>\n",
       "      <td>5</td>\n",
       "      <td>15</td>\n",
       "      <td>...</td>\n",
       "      <td>6.0</td>\n",
       "      <td>False</td>\n",
       "      <td>5.0</td>\n",
       "      <td>9.0</td>\n",
       "      <td>6139.0</td>\n",
       "      <td>0.0</td>\n",
       "      <td>1154.0</td>\n",
       "      <td>away</td>\n",
       "      <td>-1</td>\n",
       "      <td>1154.0</td>\n",
       "    </tr>\n",
       "    <tr>\n",
       "      <th>4</th>\n",
       "      <td>game_2022_2013</td>\n",
       "      <td>2021-12-30</td>\n",
       "      <td>tennessee_lady_volunteers</td>\n",
       "      <td>41</td>\n",
       "      <td>20</td>\n",
       "      <td>15</td>\n",
       "      <td>4</td>\n",
       "      <td>15</td>\n",
       "      <td>10</td>\n",
       "      <td>16</td>\n",
       "      <td>...</td>\n",
       "      <td>19.0</td>\n",
       "      <td>False</td>\n",
       "      <td>NaN</td>\n",
       "      <td>3.0</td>\n",
       "      <td>8124.0</td>\n",
       "      <td>0.0</td>\n",
       "      <td>0.0</td>\n",
       "      <td>home</td>\n",
       "      <td>1</td>\n",
       "      <td>0.0</td>\n",
       "    </tr>\n",
       "  </tbody>\n",
       "</table>\n",
       "<p>5 rows × 30 columns</p>\n",
       "</div>"
      ],
      "text/plain": [
       "          game_id  game_date                       team  FGA_2  FGM_2  FGA_3  \\\n",
       "0  game_2022_2011 2021-12-30      georgia_lady_bulldogs     50     22     11   \n",
       "1  game_2022_2011 2021-12-30                 lsu_tigers     50     24     11   \n",
       "2  game_2022_2012 2021-12-30            missouri_tigers     43     18     15   \n",
       "3  game_2022_2012 2021-12-30   south_carolina_gamecocks     55     23     21   \n",
       "4  game_2022_2013 2021-12-30  tennessee_lady_volunteers     41     20     15   \n",
       "\n",
       "   FGM_3  FTA  FTM  AST  ...  largest_lead  notD1_incomplete  \\\n",
       "0      5    6    3   14  ...           1.0             False   \n",
       "1      4   15    8   15  ...          14.0             False   \n",
       "2      7   16   13   10  ...           8.0             False   \n",
       "3      6    9    5   15  ...           6.0             False   \n",
       "4      4   15   10   16  ...          19.0             False   \n",
       "\n",
       "   OT_length_min_tot  rest_days  attendance  tz_dif_H_E  prev_game_dist  \\\n",
       "0                NaN        9.0      3241.0         0.0             0.0   \n",
       "1                NaN        3.0      3241.0         0.0           824.0   \n",
       "2                5.0        8.0      6139.0         0.0           371.0   \n",
       "3                5.0        9.0      6139.0         0.0          1154.0   \n",
       "4                NaN        3.0      8124.0         0.0             0.0   \n",
       "\n",
       "   home_away  home_away_NS  travel_dist  \n",
       "0       home             1          0.0  \n",
       "1       away            -1        824.0  \n",
       "2       home             1          0.0  \n",
       "3       away            -1       1154.0  \n",
       "4       home             1          0.0  \n",
       "\n",
       "[5 rows x 30 columns]"
      ]
     },
     "execution_count": 9,
     "metadata": {},
     "output_type": "execute_result"
    }
   ],
   "source": [
    "df_ts.head()"
   ]
  },
  {
   "cell_type": "markdown",
   "id": "63e2832e",
   "metadata": {
    "papermill": {
     "duration": 0.008864,
     "end_time": "2025-02-18T05:26:34.066091",
     "exception": false,
     "start_time": "2025-02-18T05:26:34.057227",
     "status": "completed"
    },
    "tags": []
   },
   "source": [
    "-------------------------\n",
    "# **Data Preprocessing**"
   ]
  },
  {
   "cell_type": "code",
   "execution_count": 10,
   "id": "7aedb7bf",
   "metadata": {
    "execution": {
     "iopub.execute_input": "2025-02-18T05:26:34.085482Z",
     "iopub.status.busy": "2025-02-18T05:26:34.085122Z",
     "iopub.status.idle": "2025-02-18T05:26:34.097768Z",
     "shell.execute_reply": "2025-02-18T05:26:34.096745Z"
    },
    "papermill": {
     "duration": 0.024317,
     "end_time": "2025-02-18T05:26:34.099417",
     "exception": false,
     "start_time": "2025-02-18T05:26:34.075100",
     "status": "completed"
    },
    "tags": []
   },
   "outputs": [],
   "source": [
    "df_ts = df_ts.drop(columns = ['OT_length_min_tot', 'attendance', 'tz_dif_H_E', 'opponent_team_score', \n",
    "                        'team_score', 'home_away', 'notD1_incomplete', 'largest_lead'])\n",
    "df_ts = df_ts.dropna()\n",
    "df_ts['home_away_NS'] = df_ts['home_away_NS'].replace({\n",
    "    1: 1, -1: 0, 0: 2\n",
    "})\n",
    "\n",
    "inf = inf.drop(columns = ['game_id', 'seed_home', 'seed_away', 'WINNING %', 'description'])"
   ]
  },
  {
   "cell_type": "code",
   "execution_count": 11,
   "id": "78260a3b",
   "metadata": {
    "execution": {
     "iopub.execute_input": "2025-02-18T05:26:34.118459Z",
     "iopub.status.busy": "2025-02-18T05:26:34.118112Z",
     "iopub.status.idle": "2025-02-18T05:26:34.141677Z",
     "shell.execute_reply": "2025-02-18T05:26:34.140709Z"
    },
    "papermill": {
     "duration": 0.035037,
     "end_time": "2025-02-18T05:26:34.143423",
     "exception": false,
     "start_time": "2025-02-18T05:26:34.108386",
     "status": "completed"
    },
    "tags": []
   },
   "outputs": [
    {
     "name": "stdout",
     "output_type": "stream",
     "text": [
      "(9126,)\n",
      "(9126,)\n"
     ]
    },
    {
     "data": {
      "text/html": [
       "<div>\n",
       "<style scoped>\n",
       "    .dataframe tbody tr th:only-of-type {\n",
       "        vertical-align: middle;\n",
       "    }\n",
       "\n",
       "    .dataframe tbody tr th {\n",
       "        vertical-align: top;\n",
       "    }\n",
       "\n",
       "    .dataframe thead th {\n",
       "        text-align: right;\n",
       "    }\n",
       "</style>\n",
       "<table border=\"1\" class=\"dataframe\">\n",
       "  <thead>\n",
       "    <tr style=\"text-align: right;\">\n",
       "      <th></th>\n",
       "      <th>team_home</th>\n",
       "      <th>team_away</th>\n",
       "      <th>home_away_NS</th>\n",
       "      <th>rest_days_Home</th>\n",
       "      <th>rest_days_Away</th>\n",
       "      <th>travel_dist_Home</th>\n",
       "      <th>travel_dist_Away</th>\n",
       "    </tr>\n",
       "  </thead>\n",
       "  <tbody>\n",
       "    <tr>\n",
       "      <th>0</th>\n",
       "      <td>rhode_island_rams</td>\n",
       "      <td>north_carolina_tar_heels</td>\n",
       "      <td>0</td>\n",
       "      <td>0.0</td>\n",
       "      <td>0.000000</td>\n",
       "      <td>0.000000</td>\n",
       "      <td>0.226471</td>\n",
       "    </tr>\n",
       "    <tr>\n",
       "      <th>1</th>\n",
       "      <td>nc_state_wolfpack</td>\n",
       "      <td>rhode_island_rams</td>\n",
       "      <td>0</td>\n",
       "      <td>0.2</td>\n",
       "      <td>0.000000</td>\n",
       "      <td>1.000000</td>\n",
       "      <td>0.000000</td>\n",
       "    </tr>\n",
       "    <tr>\n",
       "      <th>2</th>\n",
       "      <td>nc_state_wolfpack</td>\n",
       "      <td>north_carolina_tar_heels</td>\n",
       "      <td>0</td>\n",
       "      <td>0.2</td>\n",
       "      <td>0.000000</td>\n",
       "      <td>1.000000</td>\n",
       "      <td>0.226471</td>\n",
       "    </tr>\n",
       "    <tr>\n",
       "      <th>3</th>\n",
       "      <td>liberty_flames</td>\n",
       "      <td>bucknell_bison</td>\n",
       "      <td>0</td>\n",
       "      <td>0.2</td>\n",
       "      <td>1.000000</td>\n",
       "      <td>0.177083</td>\n",
       "      <td>0.073529</td>\n",
       "    </tr>\n",
       "    <tr>\n",
       "      <th>4</th>\n",
       "      <td>drexel_dragons</td>\n",
       "      <td>delaware_blue_hens</td>\n",
       "      <td>0</td>\n",
       "      <td>1.0</td>\n",
       "      <td>0.888889</td>\n",
       "      <td>0.000000</td>\n",
       "      <td>0.200000</td>\n",
       "    </tr>\n",
       "    <tr>\n",
       "      <th>5</th>\n",
       "      <td>massachusetts_minutewomen</td>\n",
       "      <td>princeton_tigers</td>\n",
       "      <td>0</td>\n",
       "      <td>0.6</td>\n",
       "      <td>0.666667</td>\n",
       "      <td>0.052083</td>\n",
       "      <td>0.010000</td>\n",
       "    </tr>\n",
       "    <tr>\n",
       "      <th>6</th>\n",
       "      <td>buffalo_bulls</td>\n",
       "      <td>stony_brook_seawolves</td>\n",
       "      <td>0</td>\n",
       "      <td>0.4</td>\n",
       "      <td>0.777778</td>\n",
       "      <td>0.041667</td>\n",
       "      <td>1.000000</td>\n",
       "    </tr>\n",
       "    <tr>\n",
       "      <th>7</th>\n",
       "      <td>fairfield_stags</td>\n",
       "      <td>towson_tigers</td>\n",
       "      <td>0</td>\n",
       "      <td>0.2</td>\n",
       "      <td>0.888889</td>\n",
       "      <td>0.013889</td>\n",
       "      <td>0.064706</td>\n",
       "    </tr>\n",
       "    <tr>\n",
       "      <th>8</th>\n",
       "      <td>uconn_huskies</td>\n",
       "      <td>campbell_fighting_camels</td>\n",
       "      <td>0</td>\n",
       "      <td>0.6</td>\n",
       "      <td>1.000000</td>\n",
       "      <td>0.010417</td>\n",
       "      <td>0.578235</td>\n",
       "    </tr>\n",
       "    <tr>\n",
       "      <th>9</th>\n",
       "      <td>american_university_eagles</td>\n",
       "      <td>columbia_lions</td>\n",
       "      <td>0</td>\n",
       "      <td>0.2</td>\n",
       "      <td>0.777778</td>\n",
       "      <td>0.243056</td>\n",
       "      <td>0.042647</td>\n",
       "    </tr>\n",
       "  </tbody>\n",
       "</table>\n",
       "</div>"
      ],
      "text/plain": [
       "                    team_home                 team_away  home_away_NS  \\\n",
       "0           rhode_island_rams  north_carolina_tar_heels             0   \n",
       "1           nc_state_wolfpack         rhode_island_rams             0   \n",
       "2           nc_state_wolfpack  north_carolina_tar_heels             0   \n",
       "3              liberty_flames            bucknell_bison             0   \n",
       "4              drexel_dragons        delaware_blue_hens             0   \n",
       "5   massachusetts_minutewomen          princeton_tigers             0   \n",
       "6               buffalo_bulls     stony_brook_seawolves             0   \n",
       "7             fairfield_stags             towson_tigers             0   \n",
       "8               uconn_huskies  campbell_fighting_camels             0   \n",
       "9  american_university_eagles            columbia_lions             0   \n",
       "\n",
       "   rest_days_Home  rest_days_Away  travel_dist_Home  travel_dist_Away  \n",
       "0             0.0        0.000000          0.000000          0.226471  \n",
       "1             0.2        0.000000          1.000000          0.000000  \n",
       "2             0.2        0.000000          1.000000          0.226471  \n",
       "3             0.2        1.000000          0.177083          0.073529  \n",
       "4             1.0        0.888889          0.000000          0.200000  \n",
       "5             0.6        0.666667          0.052083          0.010000  \n",
       "6             0.4        0.777778          0.041667          1.000000  \n",
       "7             0.2        0.888889          0.013889          0.064706  \n",
       "8             0.6        1.000000          0.010417          0.578235  \n",
       "9             0.2        0.777778          0.243056          0.042647  "
      ]
     },
     "metadata": {},
     "output_type": "display_data"
    }
   ],
   "source": [
    "import math\n",
    "from sklearn.preprocessing import MinMaxScaler\n",
    "\n",
    "print(df_ts['rest_days'].shape)\n",
    "print(df_ts['travel_dist'].shape)\n",
    "\n",
    "rest = df_ts['rest_days'].values\n",
    "travel_dist = df_ts['travel_dist'].values\n",
    "\n",
    "rest = rest.reshape(-1, 1)\n",
    "travel_dist = travel_dist.reshape(-1, 1)\n",
    "\n",
    "# List of columns to normalize\n",
    "stats1 = ['rest_days_Home', 'rest_days_Away']\n",
    "stats2 = ['travel_dist_Home', 'travel_dist_Away']\n",
    "\n",
    "# Initialize MinMaxScaler\n",
    "scaler_rest = MinMaxScaler(feature_range=(0,1))\n",
    "scaler_rest.fit(rest)\n",
    "\n",
    "scaler_trvdist = MinMaxScaler(feature_range=(0,1))\n",
    "scaler_trvdist.fit(travel_dist)\n",
    "\n",
    "inf[stats1] = scaler_trvdist.fit_transform(inf[stats1])\n",
    "inf[stats2] = scaler_rest.fit_transform(inf[stats2])\n",
    "\n",
    "display(inf)"
   ]
  },
  {
   "cell_type": "code",
   "execution_count": 12,
   "id": "c25c3d99",
   "metadata": {
    "execution": {
     "iopub.execute_input": "2025-02-18T05:26:34.163685Z",
     "iopub.status.busy": "2025-02-18T05:26:34.163361Z",
     "iopub.status.idle": "2025-02-18T05:26:34.191944Z",
     "shell.execute_reply": "2025-02-18T05:26:34.190724Z"
    },
    "papermill": {
     "duration": 0.040801,
     "end_time": "2025-02-18T05:26:34.193745",
     "exception": false,
     "start_time": "2025-02-18T05:26:34.152944",
     "status": "completed"
    },
    "tags": []
   },
   "outputs": [
    {
     "name": "stdout",
     "output_type": "stream",
     "text": [
      "          game_id  game_date                       team     FGA_2     FGM_2  \\\n",
      "0  game_2022_2011 2021-12-30      georgia_lady_bulldogs  0.661290  0.513514   \n",
      "1  game_2022_2011 2021-12-30                 lsu_tigers  0.661290  0.567568   \n",
      "2  game_2022_2012 2021-12-30            missouri_tigers  0.548387  0.405405   \n",
      "3  game_2022_2012 2021-12-30   south_carolina_gamecocks  0.741935  0.540541   \n",
      "4  game_2022_2013 2021-12-30  tennessee_lady_volunteers  0.516129  0.459459   \n",
      "\n",
      "      FGA_3     FGM_3       FTA    FTM       AST  ...       TOV  TOV_team  \\\n",
      "0  0.196078  0.227273  0.125000  0.075  0.361111  ...  0.390244  0.000000   \n",
      "1  0.196078  0.181818  0.312500  0.200  0.388889  ...  0.292683  0.333333   \n",
      "2  0.274510  0.318182  0.333333  0.325  0.250000  ...  0.146341  0.166667   \n",
      "3  0.392157  0.272727  0.187500  0.125  0.388889  ...  0.146341  0.000000   \n",
      "4  0.274510  0.181818  0.312500  0.250  0.416667  ...  0.317073  0.166667   \n",
      "\n",
      "       DREB     OREB  F_tech  F_personal  rest_days  prev_game_dist  \\\n",
      "0  0.410256  0.34375     0.0    0.451613   0.210526        0.000000   \n",
      "1  0.410256  0.34375     0.0    0.096774   0.052632        0.105722   \n",
      "2  0.564103  0.18750     0.0    0.225806   0.184211        0.047601   \n",
      "3  0.461538  0.62500     0.0    0.354839   0.210526        0.148063   \n",
      "4  0.641026  0.37500     0.0    0.290323   0.052632        0.000000   \n",
      "\n",
      "   home_away_NS  travel_dist  \n",
      "0             1     0.000000  \n",
      "1             0     0.121105  \n",
      "2             1     0.000000  \n",
      "3             0     0.169606  \n",
      "4             1     0.000000  \n",
      "\n",
      "[5 rows x 22 columns]\n"
     ]
    }
   ],
   "source": [
    "# List of columns to normalize\n",
    "stats_to_normalize = ['FGA_2', 'FGM_2', 'FGA_3', 'FGM_3', \n",
    "                      'FTA', 'FTM', 'AST', 'BLK', 'STL', 'TOV', \n",
    "                      'TOV_team', 'DREB', 'OREB', 'F_tech', 'F_personal', \n",
    "                      'rest_days', 'prev_game_dist', 'travel_dist']\n",
    "\n",
    "# Initialize MinMaxScaler\n",
    "scaler = MinMaxScaler(feature_range=(0,1))\n",
    "\n",
    "# Apply MinMaxScaler only to the selected stats\n",
    "df_ts[stats_to_normalize] = scaler.fit_transform(df_ts[stats_to_normalize])\n",
    "\n",
    "print(df_ts.head())  # Check normalized values"
   ]
  },
  {
   "cell_type": "code",
   "execution_count": 13,
   "id": "4a8b3f56",
   "metadata": {
    "execution": {
     "iopub.execute_input": "2025-02-18T05:26:34.214068Z",
     "iopub.status.busy": "2025-02-18T05:26:34.213684Z",
     "iopub.status.idle": "2025-02-18T05:26:34.223487Z",
     "shell.execute_reply": "2025-02-18T05:26:34.222357Z"
    },
    "papermill": {
     "duration": 0.022067,
     "end_time": "2025-02-18T05:26:34.225343",
     "exception": false,
     "start_time": "2025-02-18T05:26:34.203276",
     "status": "completed"
    },
    "tags": []
   },
   "outputs": [],
   "source": [
    "epsilon = 1e-8\n",
    "T = 5\n",
    "inf['travel_dist% (A/B)'] = np.tanh((inf['travel_dist_Home'] - inf['travel_dist_Away'] + epsilon) / T)"
   ]
  },
  {
   "cell_type": "code",
   "execution_count": 14,
   "id": "d7e94609",
   "metadata": {
    "execution": {
     "iopub.execute_input": "2025-02-18T05:26:34.245742Z",
     "iopub.status.busy": "2025-02-18T05:26:34.245422Z",
     "iopub.status.idle": "2025-02-18T05:26:34.258787Z",
     "shell.execute_reply": "2025-02-18T05:26:34.257796Z"
    },
    "papermill": {
     "duration": 0.025284,
     "end_time": "2025-02-18T05:26:34.260327",
     "exception": false,
     "start_time": "2025-02-18T05:26:34.235043",
     "status": "completed"
    },
    "tags": []
   },
   "outputs": [
    {
     "data": {
      "text/html": [
       "<div>\n",
       "<style scoped>\n",
       "    .dataframe tbody tr th:only-of-type {\n",
       "        vertical-align: middle;\n",
       "    }\n",
       "\n",
       "    .dataframe tbody tr th {\n",
       "        vertical-align: top;\n",
       "    }\n",
       "\n",
       "    .dataframe thead th {\n",
       "        text-align: right;\n",
       "    }\n",
       "</style>\n",
       "<table border=\"1\" class=\"dataframe\">\n",
       "  <thead>\n",
       "    <tr style=\"text-align: right;\">\n",
       "      <th></th>\n",
       "      <th>team_home</th>\n",
       "      <th>team_away</th>\n",
       "      <th>home_away_NS</th>\n",
       "      <th>rest_days_Home</th>\n",
       "      <th>rest_days_Away</th>\n",
       "      <th>travel_dist_Home</th>\n",
       "      <th>travel_dist_Away</th>\n",
       "      <th>travel_dist% (A/B)</th>\n",
       "    </tr>\n",
       "  </thead>\n",
       "  <tbody>\n",
       "    <tr>\n",
       "      <th>0</th>\n",
       "      <td>rhode_island_rams</td>\n",
       "      <td>north_carolina_tar_heels</td>\n",
       "      <td>0</td>\n",
       "      <td>0.0</td>\n",
       "      <td>0.000000</td>\n",
       "      <td>0.000000</td>\n",
       "      <td>0.226471</td>\n",
       "      <td>-0.045263</td>\n",
       "    </tr>\n",
       "    <tr>\n",
       "      <th>1</th>\n",
       "      <td>nc_state_wolfpack</td>\n",
       "      <td>rhode_island_rams</td>\n",
       "      <td>0</td>\n",
       "      <td>0.2</td>\n",
       "      <td>0.000000</td>\n",
       "      <td>1.000000</td>\n",
       "      <td>0.000000</td>\n",
       "      <td>0.197375</td>\n",
       "    </tr>\n",
       "    <tr>\n",
       "      <th>2</th>\n",
       "      <td>nc_state_wolfpack</td>\n",
       "      <td>north_carolina_tar_heels</td>\n",
       "      <td>0</td>\n",
       "      <td>0.2</td>\n",
       "      <td>0.000000</td>\n",
       "      <td>1.000000</td>\n",
       "      <td>0.226471</td>\n",
       "      <td>0.153483</td>\n",
       "    </tr>\n",
       "    <tr>\n",
       "      <th>3</th>\n",
       "      <td>liberty_flames</td>\n",
       "      <td>bucknell_bison</td>\n",
       "      <td>0</td>\n",
       "      <td>0.2</td>\n",
       "      <td>1.000000</td>\n",
       "      <td>0.177083</td>\n",
       "      <td>0.073529</td>\n",
       "      <td>0.020708</td>\n",
       "    </tr>\n",
       "    <tr>\n",
       "      <th>4</th>\n",
       "      <td>drexel_dragons</td>\n",
       "      <td>delaware_blue_hens</td>\n",
       "      <td>0</td>\n",
       "      <td>1.0</td>\n",
       "      <td>0.888889</td>\n",
       "      <td>0.000000</td>\n",
       "      <td>0.200000</td>\n",
       "      <td>-0.039979</td>\n",
       "    </tr>\n",
       "    <tr>\n",
       "      <th>5</th>\n",
       "      <td>massachusetts_minutewomen</td>\n",
       "      <td>princeton_tigers</td>\n",
       "      <td>0</td>\n",
       "      <td>0.6</td>\n",
       "      <td>0.666667</td>\n",
       "      <td>0.052083</td>\n",
       "      <td>0.010000</td>\n",
       "      <td>0.008416</td>\n",
       "    </tr>\n",
       "    <tr>\n",
       "      <th>6</th>\n",
       "      <td>buffalo_bulls</td>\n",
       "      <td>stony_brook_seawolves</td>\n",
       "      <td>0</td>\n",
       "      <td>0.4</td>\n",
       "      <td>0.777778</td>\n",
       "      <td>0.041667</td>\n",
       "      <td>1.000000</td>\n",
       "      <td>-0.189354</td>\n",
       "    </tr>\n",
       "    <tr>\n",
       "      <th>7</th>\n",
       "      <td>fairfield_stags</td>\n",
       "      <td>towson_tigers</td>\n",
       "      <td>0</td>\n",
       "      <td>0.2</td>\n",
       "      <td>0.888889</td>\n",
       "      <td>0.013889</td>\n",
       "      <td>0.064706</td>\n",
       "      <td>-0.010163</td>\n",
       "    </tr>\n",
       "    <tr>\n",
       "      <th>8</th>\n",
       "      <td>uconn_huskies</td>\n",
       "      <td>campbell_fighting_camels</td>\n",
       "      <td>0</td>\n",
       "      <td>0.6</td>\n",
       "      <td>1.000000</td>\n",
       "      <td>0.010417</td>\n",
       "      <td>0.578235</td>\n",
       "      <td>-0.113078</td>\n",
       "    </tr>\n",
       "    <tr>\n",
       "      <th>9</th>\n",
       "      <td>american_university_eagles</td>\n",
       "      <td>columbia_lions</td>\n",
       "      <td>0</td>\n",
       "      <td>0.2</td>\n",
       "      <td>0.777778</td>\n",
       "      <td>0.243056</td>\n",
       "      <td>0.042647</td>\n",
       "      <td>0.040060</td>\n",
       "    </tr>\n",
       "  </tbody>\n",
       "</table>\n",
       "</div>"
      ],
      "text/plain": [
       "                    team_home                 team_away  home_away_NS  \\\n",
       "0           rhode_island_rams  north_carolina_tar_heels             0   \n",
       "1           nc_state_wolfpack         rhode_island_rams             0   \n",
       "2           nc_state_wolfpack  north_carolina_tar_heels             0   \n",
       "3              liberty_flames            bucknell_bison             0   \n",
       "4              drexel_dragons        delaware_blue_hens             0   \n",
       "5   massachusetts_minutewomen          princeton_tigers             0   \n",
       "6               buffalo_bulls     stony_brook_seawolves             0   \n",
       "7             fairfield_stags             towson_tigers             0   \n",
       "8               uconn_huskies  campbell_fighting_camels             0   \n",
       "9  american_university_eagles            columbia_lions             0   \n",
       "\n",
       "   rest_days_Home  rest_days_Away  travel_dist_Home  travel_dist_Away  \\\n",
       "0             0.0        0.000000          0.000000          0.226471   \n",
       "1             0.2        0.000000          1.000000          0.000000   \n",
       "2             0.2        0.000000          1.000000          0.226471   \n",
       "3             0.2        1.000000          0.177083          0.073529   \n",
       "4             1.0        0.888889          0.000000          0.200000   \n",
       "5             0.6        0.666667          0.052083          0.010000   \n",
       "6             0.4        0.777778          0.041667          1.000000   \n",
       "7             0.2        0.888889          0.013889          0.064706   \n",
       "8             0.6        1.000000          0.010417          0.578235   \n",
       "9             0.2        0.777778          0.243056          0.042647   \n",
       "\n",
       "   travel_dist% (A/B)  \n",
       "0           -0.045263  \n",
       "1            0.197375  \n",
       "2            0.153483  \n",
       "3            0.020708  \n",
       "4           -0.039979  \n",
       "5            0.008416  \n",
       "6           -0.189354  \n",
       "7           -0.010163  \n",
       "8           -0.113078  \n",
       "9            0.040060  "
      ]
     },
     "execution_count": 14,
     "metadata": {},
     "output_type": "execute_result"
    }
   ],
   "source": [
    "inf"
   ]
  },
  {
   "cell_type": "code",
   "execution_count": 15,
   "id": "a8391c7d",
   "metadata": {
    "execution": {
     "iopub.execute_input": "2025-02-18T05:26:34.281214Z",
     "iopub.status.busy": "2025-02-18T05:26:34.280857Z",
     "iopub.status.idle": "2025-02-18T05:26:34.354187Z",
     "shell.execute_reply": "2025-02-18T05:26:34.352892Z"
    },
    "papermill": {
     "duration": 0.085698,
     "end_time": "2025-02-18T05:26:34.355785",
     "exception": false,
     "start_time": "2025-02-18T05:26:34.270087",
     "status": "completed"
    },
    "tags": []
   },
   "outputs": [
    {
     "name": "stdout",
     "output_type": "stream",
     "text": [
      "[[0.467741935483871]\n",
      " [0.16216216216216217]\n",
      " [0.21568627450980393]\n",
      " [0.2727272727272727]\n",
      " [0.25]\n",
      " [0.25]\n",
      " [0.16666666666666663]\n",
      " [0.2777777777777778]\n",
      " [0.18518518518518517]\n",
      " [0.21951219512195125]\n",
      " [0.0]\n",
      " [0.3076923076923077]\n",
      " [0.3125]\n",
      " [0.0]\n",
      " [0.4193548387096774]\n",
      " [0.0]\n",
      " [0.15946502057613168]\n",
      " [1.0]\n",
      " [0.0]]\n",
      "19\n",
      "-----------------------------------------------------------\n",
      "[[0.5161290322580645]\n",
      " [0.5945945945945945]\n",
      " [0.25490196078431376]\n",
      " [0.045454545454545456]\n",
      " [0.4583333333333333]\n",
      " [0.375]\n",
      " [0.3055555555555555]\n",
      " [0.2222222222222222]\n",
      " [0.4444444444444444]\n",
      " [0.43902439024390244]\n",
      " [0.16666666666666666]\n",
      " [0.41025641025641024]\n",
      " [0.34375]\n",
      " [0.0]\n",
      " [0.4516129032258064]\n",
      " [0.0]\n",
      " [0.03542034097589653]\n",
      " [1.0]\n",
      " [0.2264705882352941]]\n",
      "19\n"
     ]
    }
   ],
   "source": [
    "past_stats_home = {}\n",
    "\n",
    "start_col = 'FGA_2'\n",
    "end_col = 'F_personal'\n",
    "\n",
    "for idx, team in enumerate(inf['team_home']):\n",
    "    team_i = df_ts[df_ts['team'] == team]\n",
    "    team_i = team_i.sort_values(by = 'game_date', ascending = False)\n",
    "    latest_game = team_i.iloc[0]\n",
    "    \n",
    "    st = latest_game.loc[start_col:end_col].values\n",
    "    st = st.reshape(-1, 1)\n",
    "    prev_game_dist = latest_game['travel_dist'].reshape(-1, 1)\n",
    "    \n",
    "    current_game = inf.loc[idx]\n",
    "    rest_days = current_game['rest_days_Home'].reshape(-1, 1)\n",
    "    travel_dist = current_game['travel_dist_Home'].reshape(-1, 1)\n",
    "    Home_HAN = np.array([1]).reshape(-1, 1)\n",
    "\n",
    "\n",
    "    rst_prv = np.concatenate((rest_days, prev_game_dist))\n",
    "    home_dist = np.concatenate((Home_HAN, travel_dist))\n",
    "    combine = np.concatenate((rst_prv, home_dist))\n",
    "\n",
    "    latest_stat = np.concatenate((st, combine))\n",
    "    if team in past_stats_home:\n",
    "        past_stats_home[f'{team}{idx}'] = latest_stat\n",
    "    else:\n",
    "        past_stats_home[team] = latest_stat\n",
    "        \n",
    "print(past_stats_home['rhode_island_rams'])\n",
    "print(len(past_stats_home['rhode_island_rams']))\n",
    "\n",
    "print(\"-\"*59)\n",
    "\n",
    "past_stats_away = {}\n",
    "\n",
    "start_col = 'FGA_2'\n",
    "end_col = 'F_personal'\n",
    "\n",
    "for idx, team in enumerate(inf['team_away']):\n",
    "    team_i = df_ts[df_ts['team'] == team]\n",
    "    team_i = team_i.sort_values(by = 'game_date', ascending = False)\n",
    "    latest_game = team_i.iloc[0]\n",
    "    \n",
    "    st = latest_game.loc[start_col:end_col].values\n",
    "    st = st.reshape(-1, 1)\n",
    "    prev_game_dist = latest_game['travel_dist'].reshape(-1, 1)\n",
    "\n",
    "    current_game = inf.loc[idx]\n",
    "    rest_days = current_game['rest_days_Away'].reshape(-1, 1)\n",
    "    travel_dist = current_game['travel_dist_Away'].reshape(-1, 1)\n",
    "    Away_HAN = np.array([0]).reshape(-1, 1)\n",
    "    \n",
    "    rst_prv = np.concatenate((rest_days, prev_game_dist))\n",
    "    home_dist = np.concatenate((Home_HAN, travel_dist))\n",
    "    combine = np.concatenate((rst_prv, home_dist))\n",
    "\n",
    "    latest_stat = np.concatenate((st, combine))\n",
    "    \n",
    "    if team in past_stats_away:\n",
    "        past_stats_away[f'{team}{idx}'] = latest_stat\n",
    "    else:\n",
    "        past_stats_away[team] = latest_stat\n",
    "        \n",
    "print(past_stats_away['north_carolina_tar_heels'])\n",
    "print(len(past_stats_away['north_carolina_tar_heels']))\n",
    "\n",
    "# [15 Features] + rest_days + prev_game_dist + home_away_NS + travel_dist"
   ]
  },
  {
   "cell_type": "markdown",
   "id": "8ac1c47b",
   "metadata": {
    "papermill": {
     "duration": 0.012899,
     "end_time": "2025-02-18T05:26:34.380425",
     "exception": false,
     "start_time": "2025-02-18T05:26:34.367526",
     "status": "completed"
    },
    "tags": []
   },
   "source": [
    "---------------------\n",
    "# **Model**"
   ]
  },
  {
   "cell_type": "code",
   "execution_count": 16,
   "id": "7b2d3974",
   "metadata": {
    "execution": {
     "iopub.execute_input": "2025-02-18T05:26:34.401745Z",
     "iopub.status.busy": "2025-02-18T05:26:34.401415Z",
     "iopub.status.idle": "2025-02-18T05:26:34.909965Z",
     "shell.execute_reply": "2025-02-18T05:26:34.908709Z"
    },
    "papermill": {
     "duration": 0.521437,
     "end_time": "2025-02-18T05:26:34.911822",
     "exception": false,
     "start_time": "2025-02-18T05:26:34.390385",
     "status": "completed"
    },
    "tags": []
   },
   "outputs": [],
   "source": [
    "from huggingface_hub import login\n",
    "\n",
    "from kaggle_secrets import UserSecretsClient\n",
    "user_secrets = UserSecretsClient()\n",
    "HUGGINGFACE_TOKEN = user_secrets.get_secret(\"HF_TOKEN\")\n",
    "\n",
    "# Login to Hugging Face\n",
    "login(HUGGINGFACE_TOKEN)"
   ]
  },
  {
   "cell_type": "code",
   "execution_count": 17,
   "id": "1942f00c",
   "metadata": {
    "execution": {
     "iopub.execute_input": "2025-02-18T05:26:34.933108Z",
     "iopub.status.busy": "2025-02-18T05:26:34.932727Z",
     "iopub.status.idle": "2025-02-18T05:26:34.947677Z",
     "shell.execute_reply": "2025-02-18T05:26:34.946747Z"
    },
    "papermill": {
     "duration": 0.027403,
     "end_time": "2025-02-18T05:26:34.949252",
     "exception": false,
     "start_time": "2025-02-18T05:26:34.921849",
     "status": "completed"
    },
    "tags": []
   },
   "outputs": [],
   "source": [
    "import torch.nn.functional as F\n",
    "\n",
    "class FeatureGrouping_cls(nn.Module):\n",
    "    def __init__(self, num_features=20, max_groups=3, embed_dim=4, output_dim=2, resnet_model=\"resnet50\", finetune = True):\n",
    "        super().__init__()\n",
    "        self.num_features = num_features\n",
    "        self.max_groups = max_groups\n",
    "        self.embed_dim = embed_dim\n",
    "        self.output_dim = output_dim\n",
    "\n",
    "        # Embedding for home_away (3 categories: Home, Away, Neutral)\n",
    "        self.home_away_embed = nn.Embedding(3, embed_dim)\n",
    "\n",
    "        # Adjust feature count after embedding replacement\n",
    "        self.adjusted_num_features = num_features - 2 + 2*embed_dim  # 20 - 2 + 2*4 = 26\n",
    "\n",
    "        # Calculate the maximum features per group to ensure consistent dimensions\n",
    "        self.max_features_per_group = self.adjusted_num_features\n",
    "\n",
    "        # Learnable logits for feature assignment\n",
    "        self.assignment_logits = nn.Parameter(torch.randn(self.adjusted_num_features, max_groups))\n",
    "\n",
    "        # Self-Attention layers for each possible number of groups\n",
    "        self.attention_layers = nn.ModuleDict({\n",
    "            f\"attn_{g}\": nn.MultiheadAttention(\n",
    "                embed_dim=self.max_features_per_group,\n",
    "                num_heads=1,\n",
    "                batch_first=True\n",
    "            )\n",
    "            for g in range(1, max_groups + 1)\n",
    "        })\n",
    "\n",
    "        # Reduce channels before ResNet\n",
    "        self.channel_reducer = nn.Conv2d(in_channels=max_groups, out_channels=3, kernel_size=1)\n",
    "\n",
    "        # Pretrained ResNet model\n",
    "        self.resnet = timm.create_model(resnet_model, pretrained=True)\n",
    "        in_features = self.resnet.get_classifier().in_features\n",
    "        self.resnet.reset_classifier(0)\n",
    "\n",
    "        # Final regression head\n",
    "        self.fc = nn.Linear(in_features, output_dim)\n",
    "        \n",
    "        if finetune:\n",
    "            for param in self.resnet.parameters():\n",
    "                param.requires_grad = True\n",
    "        else:\n",
    "            for param in self.resnet.parameters():\n",
    "                param.requires_grad = False\n",
    "                    \n",
    "    def forward(self, x):\n",
    "        batch_size = x.shape[0]\n",
    "\n",
    "        # Extract home_away index and convert to embeddings\n",
    "        A_home_away_idx = x[:, 17].long().clamp(0, 2)\n",
    "        B_home_away_idx = x[:, 18].long().clamp(0, 2)\n",
    "        \n",
    "        A_home_away_embed = self.home_away_embed(A_home_away_idx)\n",
    "        B_home_away_embed = self.home_away_embed(B_home_away_idx)\n",
    "        \n",
    "        x = torch.cat([x[:, :17], A_home_away_embed, B_home_away_embed, x[:, 19:]], dim=1)\n",
    "\n",
    "        # Hard feature assignment\n",
    "        assignment_hard = torch.nn.functional.gumbel_softmax(self.assignment_logits, tau=0.5, hard=True, dim=1)\n",
    "\n",
    "        all_group_outputs = []\n",
    "\n",
    "        # Process different group configurations\n",
    "        for num_groups in range(1, self.max_groups + 1):\n",
    "            # Split features into groups\n",
    "            groups = []\n",
    "            features_per_group = self.adjusted_num_features // num_groups\n",
    "            \n",
    "            for g in range(num_groups):\n",
    "                start_idx = g * features_per_group\n",
    "                end_idx = min(start_idx + features_per_group, self.adjusted_num_features)\n",
    "                group_features = x[:, start_idx:end_idx]\n",
    "                \n",
    "                # Pad to match max_features_per_group\n",
    "                if group_features.shape[1] < self.max_features_per_group:\n",
    "                    pad_size = self.max_features_per_group - group_features.shape[1]\n",
    "                    padding = torch.zeros(batch_size, pad_size, device=x.device)\n",
    "                    group_features = torch.cat([group_features, padding], dim=1)\n",
    "                \n",
    "                groups.append(group_features)\n",
    "\n",
    "            # Process each group with attention\n",
    "            processed_groups = []\n",
    "            for g in range(num_groups):\n",
    "                group_features = groups[g].unsqueeze(1)\n",
    "                attn_output, _ = self.attention_layers[f\"attn_{num_groups}\"](\n",
    "                    group_features, group_features, group_features)\n",
    "                processed_groups.append(attn_output)\n",
    "\n",
    "            # Combine processed groups\n",
    "            group_output = torch.cat(processed_groups, dim=1)\n",
    "            \n",
    "            # Pad to match max_groups if necessary\n",
    "            if num_groups < self.max_groups:\n",
    "                padding = torch.zeros(\n",
    "                    batch_size,\n",
    "                    self.max_groups - num_groups,\n",
    "                    self.max_features_per_group,\n",
    "                    device=x.device\n",
    "                )\n",
    "                group_output = torch.cat([group_output, padding], dim=1)\n",
    "            \n",
    "            all_group_outputs.append(group_output)\n",
    "\n",
    "        # Stack all configurations\n",
    "        x_final = torch.stack(all_group_outputs, dim=1)  # [B, max_groups, max_groups, Features]\n",
    "        \n",
    "        # Reshape for channel reducer\n",
    "        x_final = x_final.mean(dim=1)  # [B, max_groups, Features]\n",
    "        x_final = x_final.permute(0, 2, 1)  # [B, Features, max_groups]\n",
    "        x_final = x_final.mean(dim=1).unsqueeze(-1).unsqueeze(-1)  # [B, max_groups, 1, 1]\n",
    "        \n",
    "        # Apply channel reduction\n",
    "        x_final = self.channel_reducer(x_final)  # [B, 3, 1, 1]\n",
    "        \n",
    "        # Prepare for ResNet\n",
    "        x_final = x_final.expand(-1, -1, 224, 224)  # [B, 3, 224, 224]\n",
    "\n",
    "        # Process through ResNet and final layer\n",
    "        x_final = self.resnet(x_final)\n",
    "        output = self.fc(x_final)\n",
    "\n",
    "        return output"
   ]
  },
  {
   "cell_type": "code",
   "execution_count": 18,
   "id": "3d17ed86",
   "metadata": {
    "execution": {
     "iopub.execute_input": "2025-02-18T05:26:34.969849Z",
     "iopub.status.busy": "2025-02-18T05:26:34.969522Z",
     "iopub.status.idle": "2025-02-18T05:26:49.334543Z",
     "shell.execute_reply": "2025-02-18T05:26:49.333631Z"
    },
    "papermill": {
     "duration": 14.377292,
     "end_time": "2025-02-18T05:26:49.336278",
     "exception": false,
     "start_time": "2025-02-18T05:26:34.958986",
     "status": "completed"
    },
    "tags": []
   },
   "outputs": [],
   "source": [
    "from transformers import PreTrainedModel, PretrainedConfig\n",
    "from transformers.modeling_outputs import SequenceClassifierOutput\n",
    "from sklearn.metrics import roc_auc_score, f1_score\n",
    "\n",
    "class FeatureGroupingConfig(PretrainedConfig):\n",
    "    model_type = \"feature_grouping\"\n",
    "\n",
    "    def __init__(self, num_features=20, output_dim=2, **kwargs):\n",
    "        super().__init__(**kwargs)\n",
    "        self.num_features = num_features\n",
    "        self.output_dim = output_dim\n",
    "\n",
    "class FeatureGroupingModel_cls(PreTrainedModel):\n",
    "    config_class = FeatureGroupingConfig\n",
    "\n",
    "    def __init__(self, config):\n",
    "        super().__init__(config)\n",
    "        self.model = FeatureGrouping_cls(  # Ensure this is defined somewhere\n",
    "            num_features=config.num_features, \n",
    "            output_dim=config.output_dim\n",
    "        )\n",
    "        self.loss_fn = nn.CrossEntropyLoss()\n",
    "\n",
    "    def forward(self, input_ids, labels=None):\n",
    "        logits = self.model(input_ids)  # Raw logits\n",
    "\n",
    "        loss = None\n",
    "        auc_roc = None\n",
    "        f1 = None\n",
    "\n",
    "        if labels is not None:\n",
    "            loss = self.loss_fn(logits, labels)  \n",
    "\n",
    "            # Convert logits to probabilities\n",
    "            probs = F.softmax(logits, dim=-1)[:, 1].detach().cpu().numpy()\n",
    "            labels_np = labels.detach().cpu().numpy()\n",
    "\n",
    "            # Compute AUC-ROC only if both classes exist\n",
    "            if len(set(labels_np)) > 1:\n",
    "                auc_roc = roc_auc_score(labels_np, probs)\n",
    "            else:\n",
    "                auc_roc = 0.0\n",
    "\n",
    "            # Compute F1-score\n",
    "            preds = torch.argmax(logits, dim=-1).detach().cpu().numpy()\n",
    "            f1 = f1_score(labels_np, preds, average=\"macro\")\n",
    "\n",
    "        return SequenceClassifierOutput(\n",
    "            loss=loss, \n",
    "            logits=logits,\n",
    "            hidden_states=None, \n",
    "            attentions=None\n",
    "        )"
   ]
  },
  {
   "cell_type": "code",
   "execution_count": 19,
   "id": "6508ac5a",
   "metadata": {
    "execution": {
     "iopub.execute_input": "2025-02-18T05:26:49.357442Z",
     "iopub.status.busy": "2025-02-18T05:26:49.356742Z",
     "iopub.status.idle": "2025-02-18T05:26:54.996059Z",
     "shell.execute_reply": "2025-02-18T05:26:54.994920Z"
    },
    "papermill": {
     "duration": 5.651573,
     "end_time": "2025-02-18T05:26:54.997771",
     "exception": false,
     "start_time": "2025-02-18T05:26:49.346198",
     "status": "completed"
    },
    "tags": []
   },
   "outputs": [
    {
     "name": "stdout",
     "output_type": "stream",
     "text": [
      "Model downloaded successfully.\n"
     ]
    },
    {
     "data": {
      "application/vnd.jupyter.widget-view+json": {
       "model_id": "0c5d28a033e24185aa250381a861c261",
       "version_major": 2,
       "version_minor": 0
      },
      "text/plain": [
       "model.safetensors:   0%|          | 0.00/102M [00:00<?, ?B/s]"
      ]
     },
     "metadata": {},
     "output_type": "display_data"
    },
    {
     "name": "stdout",
     "output_type": "stream",
     "text": [
      "Model loaded and ready to use.\n"
     ]
    }
   ],
   "source": [
    "import requests\n",
    "from safetensors.torch import load_file\n",
    "\n",
    "# URL to the safetensors model file\n",
    "cls_url = \"https://huggingface.co/KanWasTaken/WhartonDS_ClsModel/resolve/main/CLSmodel.safetensors\"\n",
    "\n",
    "# Download the model file\n",
    "response = requests.get(cls_url)\n",
    "if response.status_code == 200:\n",
    "    with open('CLSmodel.safetensors', 'wb') as f:\n",
    "        f.write(response.content)\n",
    "    print(\"Model downloaded successfully.\")\n",
    "\n",
    "# Initialize your model\n",
    "cls_model = FeatureGroupingModel_cls(FeatureGroupingConfig())\n",
    "\n",
    "# Load the model weights from the downloaded file\n",
    "cls_weights = load_file('CLSmodel.safetensors')\n",
    "\n",
    "# Load the state_dict (weights) into the model\n",
    "cls_model.load_state_dict(cls_weights)\n",
    "\n",
    "# Set to evaluation mode\n",
    "cls_model.eval()\n",
    "\n",
    "print(\"Model loaded and ready to use.\")"
   ]
  },
  {
   "cell_type": "code",
   "execution_count": 20,
   "id": "8c806538",
   "metadata": {
    "execution": {
     "iopub.execute_input": "2025-02-18T05:26:55.018893Z",
     "iopub.status.busy": "2025-02-18T05:26:55.018589Z",
     "iopub.status.idle": "2025-02-18T05:26:55.032830Z",
     "shell.execute_reply": "2025-02-18T05:26:55.031986Z"
    },
    "papermill": {
     "duration": 0.026448,
     "end_time": "2025-02-18T05:26:55.034403",
     "exception": false,
     "start_time": "2025-02-18T05:26:55.007955",
     "status": "completed"
    },
    "tags": []
   },
   "outputs": [],
   "source": [
    "class FeatureGrouping(nn.Module):\n",
    "    def __init__(self, num_features=19, max_groups=3, embed_dim=4, output_dim=15, resnet_model=\"resnet50\", finetune=True):\n",
    "        super().__init__()\n",
    "        self.num_features = num_features\n",
    "        self.max_groups = max_groups\n",
    "        self.embed_dim = embed_dim\n",
    "        self.output_dim = output_dim\n",
    "\n",
    "        # Embedding for home_away (3 categories: Home, Away, Neutral)\n",
    "        self.home_away_embed = nn.Embedding(3, embed_dim)\n",
    "\n",
    "        # Adjust feature count after embedding replacement\n",
    "        self.adjusted_num_features = num_features - 1 + embed_dim  # 22 total features\n",
    "\n",
    "        # Maximum features per group\n",
    "        self.max_features_per_group = self.adjusted_num_features\n",
    "\n",
    "        # Learnable logits for feature assignment\n",
    "        self.assignment_logits = nn.Parameter(torch.randn(self.adjusted_num_features, max_groups))\n",
    "\n",
    "        # Self-Attention layers for different group numbers\n",
    "        self.attention_layers = nn.ModuleDict({\n",
    "            f\"attn_{g}\": nn.MultiheadAttention(\n",
    "                embed_dim=self.max_features_per_group,\n",
    "                num_heads=1,\n",
    "                batch_first=True\n",
    "            )\n",
    "            for g in range(1, max_groups + 1)\n",
    "        })\n",
    "\n",
    "        # Reduce channels before ResNet\n",
    "        self.channel_reducer = nn.Conv2d(in_channels=max_groups, out_channels=3, kernel_size=1)\n",
    "\n",
    "        # Pretrained ResNet\n",
    "        self.resnet = timm.create_model(resnet_model, pretrained=True)\n",
    "        in_features = self.resnet.get_classifier().in_features\n",
    "        self.resnet.reset_classifier(0)\n",
    "\n",
    "        # Final regression head\n",
    "        self.fc = nn.Linear(in_features, output_dim)\n",
    "\n",
    "        # Fine-tuning control\n",
    "        if finetune:\n",
    "            for param in self.resnet.parameters():\n",
    "                param.requires_grad = True\n",
    "        else:\n",
    "            for param in self.resnet.parameters():\n",
    "                param.requires_grad = False\n",
    "\n",
    "    def forward(self, x):\n",
    "        batch_size = x.shape[0]\n",
    "\n",
    "        # Process home_away embedding\n",
    "        home_away_idx = x[:, 17].long().clamp(0, 2)\n",
    "        home_away_embed = self.home_away_embed(home_away_idx)\n",
    "        x = torch.cat([x[:, :17], home_away_embed, x[:, 18:]], dim=1)\n",
    "\n",
    "        # Hard feature assignment\n",
    "        assignment_hard = torch.nn.functional.gumbel_softmax(self.assignment_logits, tau=0.5, hard=True, dim=1)\n",
    "\n",
    "        all_group_outputs = []\n",
    "\n",
    "        # Process different group configurations\n",
    "        for num_groups in range(1, self.max_groups + 1):\n",
    "            groups = []\n",
    "            features_per_group = self.adjusted_num_features // num_groups\n",
    "\n",
    "            for g in range(num_groups):\n",
    "                start_idx = g * features_per_group\n",
    "                end_idx = min(start_idx + features_per_group, self.adjusted_num_features)\n",
    "                group_features = x[:, start_idx:end_idx]\n",
    "\n",
    "                # Pad to match max_features_per_group\n",
    "                if group_features.shape[1] < self.max_features_per_group:\n",
    "                    pad_size = self.max_features_per_group - group_features.shape[1]\n",
    "                    padding = torch.zeros(batch_size, pad_size, device=x.device)\n",
    "                    group_features = torch.cat([group_features, padding], dim=1)\n",
    "\n",
    "                groups.append(group_features)\n",
    "\n",
    "            # Apply attention to each group\n",
    "            processed_groups = []\n",
    "            for g in range(num_groups):\n",
    "                group_features = groups[g].unsqueeze(1)\n",
    "                attn_output, _ = self.attention_layers[f\"attn_{num_groups}\"](group_features, group_features, group_features)\n",
    "                processed_groups.append(attn_output)\n",
    "\n",
    "            # Concatenate processed groups\n",
    "            group_output = torch.cat(processed_groups, dim=1)\n",
    "\n",
    "            # Pad to match max_groups if necessary\n",
    "            if num_groups < self.max_groups:\n",
    "                padding = torch.zeros(batch_size, self.max_groups - num_groups, self.max_features_per_group, device=x.device)\n",
    "                group_output = torch.cat([group_output, padding], dim=1)\n",
    "\n",
    "            all_group_outputs.append(group_output)\n",
    "\n",
    "        # Stack different group configurations\n",
    "        x_final = torch.stack(all_group_outputs, dim=1)  # [B, max_groups, max_groups, Features]\n",
    "\n",
    "        # Reduce across different group choices\n",
    "        x_final = x_final.mean(dim=1)  # [B, max_groups, Features]\n",
    "        x_final = x_final.permute(0, 2, 1)  # [B, Features, max_groups]\n",
    "        x_final = x_final.mean(dim=1).unsqueeze(-1).unsqueeze(-1)  # [B, max_groups, 1, 1]\n",
    "\n",
    "        # Apply channel reduction\n",
    "        x_final = self.channel_reducer(x_final)  # [B, 3, 1, 1]\n",
    "\n",
    "        # Resize for ResNet\n",
    "        x_final = x_final.expand(-1, -1, 224, 224)  # [B, 3, 224, 224]\n",
    "\n",
    "        # Process through ResNet and final layer\n",
    "        x_final = self.resnet(x_final)\n",
    "        output = self.fc(x_final)\n",
    "\n",
    "        return output"
   ]
  },
  {
   "cell_type": "code",
   "execution_count": 21,
   "id": "823a9956",
   "metadata": {
    "execution": {
     "iopub.execute_input": "2025-02-18T05:26:55.055487Z",
     "iopub.status.busy": "2025-02-18T05:26:55.055162Z",
     "iopub.status.idle": "2025-02-18T05:26:55.061241Z",
     "shell.execute_reply": "2025-02-18T05:26:55.060438Z"
    },
    "papermill": {
     "duration": 0.018166,
     "end_time": "2025-02-18T05:26:55.062670",
     "exception": false,
     "start_time": "2025-02-18T05:26:55.044504",
     "status": "completed"
    },
    "tags": []
   },
   "outputs": [],
   "source": [
    "from transformers import PreTrainedModel, PretrainedConfig\n",
    "\n",
    "class FeatureGroupingConfig(PretrainedConfig):\n",
    "    model_type = \"feature_grouping\"\n",
    "\n",
    "    def __init__(self, num_features=19, output_dim=15, **kwargs):\n",
    "        super().__init__(**kwargs)\n",
    "        self.num_features = num_features\n",
    "        self.output_dim = output_dim\n",
    "\n",
    "class FeatureGroupingModel(PreTrainedModel):\n",
    "    config_class = FeatureGroupingConfig\n",
    "\n",
    "    def __init__(self, config):\n",
    "        super().__init__(config)\n",
    "        self.model = FeatureGrouping(\n",
    "            num_features=config.num_features, \n",
    "            output_dim=config.output_dim\n",
    "        )\n",
    "\n",
    "    def forward(self, input_ids, labels=None):\n",
    "        output = self.model(input_ids)\n",
    "\n",
    "        loss = None\n",
    "        if labels is not None:\n",
    "            loss = F.smooth_l1_loss(output, labels)  # Mean Squared Error for regression\n",
    "\n",
    "        return {\"loss\": loss, \"logits\": output} if loss is not None else {\"logits\": output}"
   ]
  },
  {
   "cell_type": "code",
   "execution_count": 22,
   "id": "70e3dfc2",
   "metadata": {
    "execution": {
     "iopub.execute_input": "2025-02-18T05:26:55.084285Z",
     "iopub.status.busy": "2025-02-18T05:26:55.083913Z",
     "iopub.status.idle": "2025-02-18T05:27:00.039705Z",
     "shell.execute_reply": "2025-02-18T05:27:00.037852Z"
    },
    "papermill": {
     "duration": 4.968636,
     "end_time": "2025-02-18T05:27:00.041358",
     "exception": false,
     "start_time": "2025-02-18T05:26:55.072722",
     "status": "completed"
    },
    "tags": []
   },
   "outputs": [
    {
     "name": "stdout",
     "output_type": "stream",
     "text": [
      "Model downloaded successfully.\n",
      "Model loaded and ready to use.\n"
     ]
    }
   ],
   "source": [
    "import requests\n",
    "from safetensors.torch import load_file\n",
    "\n",
    "# URL to the safetensors model file\n",
    "rg_url = \"https://huggingface.co/KanWasTaken/WhartonDS_RegressionModel/resolve/main/REGmodel.safetensors\"\n",
    "\n",
    "# Download the model file\n",
    "response = requests.get(rg_url)\n",
    "if response.status_code == 200:\n",
    "    with open('REGmodel.safetensors', 'wb') as f:\n",
    "        f.write(response.content)\n",
    "    print(\"Model downloaded successfully.\")\n",
    "\n",
    "# Initialize your model\n",
    "gen_model = FeatureGroupingModel(FeatureGroupingConfig())\n",
    "\n",
    "# Load the model weights from the downloaded file\n",
    "gen_weights = load_file('REGmodel.safetensors')\n",
    "\n",
    "# Load the state_dict (weights) into the model\n",
    "gen_model.load_state_dict(gen_weights)\n",
    "\n",
    "# Set to evaluation mode\n",
    "gen_model.eval()\n",
    "\n",
    "print(\"Model loaded and ready to use.\")"
   ]
  },
  {
   "cell_type": "markdown",
   "id": "034928fa",
   "metadata": {
    "papermill": {
     "duration": 0.009899,
     "end_time": "2025-02-18T05:27:00.061677",
     "exception": false,
     "start_time": "2025-02-18T05:27:00.051778",
     "status": "completed"
    },
    "tags": []
   },
   "source": [
    "-------------------\n",
    "# **Check Weights**"
   ]
  },
  {
   "cell_type": "code",
   "execution_count": 23,
   "id": "9f56f98e",
   "metadata": {
    "execution": {
     "iopub.execute_input": "2025-02-18T05:27:00.083784Z",
     "iopub.status.busy": "2025-02-18T05:27:00.083456Z",
     "iopub.status.idle": "2025-02-18T05:27:00.126928Z",
     "shell.execute_reply": "2025-02-18T05:27:00.125898Z"
    },
    "papermill": {
     "duration": 0.056238,
     "end_time": "2025-02-18T05:27:00.128530",
     "exception": false,
     "start_time": "2025-02-18T05:27:00.072292",
     "status": "completed"
    },
    "scrolled": true,
    "tags": []
   },
   "outputs": [
    {
     "name": "stdout",
     "output_type": "stream",
     "text": [
      "Check Done!\n"
     ]
    }
   ],
   "source": [
    "# Get the model parameters (weights)\n",
    "model_params = {name: param.detach().cpu().numpy() for name, param in cls_model.named_parameters()}\n",
    "\n",
    "# Compare the weights in the safetensor file and the model\n",
    "for name, param in cls_model.named_parameters():\n",
    "    if name in cls_weights:\n",
    "        param_safetensor = cls_weights[name].cpu().numpy()\n",
    "        param_model = param.detach().cpu().numpy()\n",
    "\n",
    "        # Check if the weights are the same\n",
    "        if not (param_safetensor == param_model).all():\n",
    "            print(f\"Mismatch in weights for layer: {name}\")\n",
    "\n",
    "print(f\"Check Done!\")"
   ]
  },
  {
   "cell_type": "code",
   "execution_count": 24,
   "id": "913e01f2",
   "metadata": {
    "execution": {
     "iopub.execute_input": "2025-02-18T05:27:00.150407Z",
     "iopub.status.busy": "2025-02-18T05:27:00.150049Z",
     "iopub.status.idle": "2025-02-18T05:27:00.192330Z",
     "shell.execute_reply": "2025-02-18T05:27:00.191311Z"
    },
    "papermill": {
     "duration": 0.05498,
     "end_time": "2025-02-18T05:27:00.193894",
     "exception": false,
     "start_time": "2025-02-18T05:27:00.138914",
     "status": "completed"
    },
    "scrolled": true,
    "tags": []
   },
   "outputs": [
    {
     "name": "stdout",
     "output_type": "stream",
     "text": [
      "Check Done!\n"
     ]
    }
   ],
   "source": [
    "# Get the model parameters (weights)\n",
    "model_params = {name: param.detach().cpu().numpy() for name, param in gen_model.named_parameters()}\n",
    "\n",
    "# Compare the weights in the safetensor file and the model\n",
    "for name, param in gen_model.named_parameters():\n",
    "    if name in gen_weights:\n",
    "        param_safetensor = gen_weights[name].cpu().numpy()\n",
    "        param_model = param.detach().cpu().numpy()\n",
    "\n",
    "        # Check if the weights are the same\n",
    "        if not (param_safetensor == param_model).all():\n",
    "            print(f\"Mismatch in weights for layer: {name}\")\n",
    "\n",
    "print(f\"Check Done!\")"
   ]
  },
  {
   "cell_type": "code",
   "execution_count": 25,
   "id": "8b6d10f3",
   "metadata": {
    "execution": {
     "iopub.execute_input": "2025-02-18T05:27:00.215445Z",
     "iopub.status.busy": "2025-02-18T05:27:00.215110Z",
     "iopub.status.idle": "2025-02-18T05:27:00.565687Z",
     "shell.execute_reply": "2025-02-18T05:27:00.564489Z"
    },
    "papermill": {
     "duration": 0.363292,
     "end_time": "2025-02-18T05:27:00.567447",
     "exception": false,
     "start_time": "2025-02-18T05:27:00.204155",
     "status": "completed"
    },
    "tags": []
   },
   "outputs": [
    {
     "name": "stdout",
     "output_type": "stream",
     "text": [
      "tensor([[ 38.5485, 194.0829,  68.5496,  29.8556,  98.6914,  69.5574, -14.5581,\n",
      "         112.4964, -38.2804, 109.9091,  -6.9627, 192.0578, 134.5824, -59.1047,\n",
      "         154.3507]], grad_fn=<AddmmBackward0>)\n"
     ]
    }
   ],
   "source": [
    "gen_out = gen_model(torch.randn(1, 19))\n",
    "print(gen_out['logits'])"
   ]
  },
  {
   "cell_type": "code",
   "execution_count": 26,
   "id": "3b7ecc4f",
   "metadata": {
    "execution": {
     "iopub.execute_input": "2025-02-18T05:27:00.589765Z",
     "iopub.status.busy": "2025-02-18T05:27:00.589425Z",
     "iopub.status.idle": "2025-02-18T05:27:00.747696Z",
     "shell.execute_reply": "2025-02-18T05:27:00.746522Z"
    },
    "papermill": {
     "duration": 0.171203,
     "end_time": "2025-02-18T05:27:00.749344",
     "exception": false,
     "start_time": "2025-02-18T05:27:00.578141",
     "status": "completed"
    },
    "tags": []
   },
   "outputs": [
    {
     "name": "stdout",
     "output_type": "stream",
     "text": [
      "tensor([[0.9278, 0.0216]], grad_fn=<AddmmBackward0>)\n",
      "tensor([[0.7122, 0.2878]], grad_fn=<SoftmaxBackward0>)\n"
     ]
    }
   ],
   "source": [
    "cls_out = cls_model(torch.randn(1, 20))\n",
    "print(cls_out['logits'])\n",
    "\n",
    "print(F.softmax(cls_out['logits'], dim = -1))"
   ]
  },
  {
   "cell_type": "markdown",
   "id": "bfe0297d",
   "metadata": {
    "papermill": {
     "duration": 0.010308,
     "end_time": "2025-02-18T05:27:00.770096",
     "exception": false,
     "start_time": "2025-02-18T05:27:00.759788",
     "status": "completed"
    },
    "tags": []
   },
   "source": [
    "--------------\n",
    "# **Data Generation**"
   ]
  },
  {
   "cell_type": "code",
   "execution_count": 27,
   "id": "4388a90e",
   "metadata": {
    "execution": {
     "iopub.execute_input": "2025-02-18T05:27:00.792444Z",
     "iopub.status.busy": "2025-02-18T05:27:00.792100Z",
     "iopub.status.idle": "2025-02-18T05:27:03.844919Z",
     "shell.execute_reply": "2025-02-18T05:27:03.843534Z"
    },
    "papermill": {
     "duration": 3.06599,
     "end_time": "2025-02-18T05:27:03.846466",
     "exception": false,
     "start_time": "2025-02-18T05:27:00.780476",
     "status": "completed"
    },
    "tags": []
   },
   "outputs": [
    {
     "name": "stdout",
     "output_type": "stream",
     "text": [
      "tensor([[-0.0059, -0.0011,  0.0098,  0.0052, -0.0006,  0.0028,  0.0151, -0.0064,\n",
      "          0.0024,  0.0021,  0.0024, -0.0074,  0.0042, -0.0050,  0.0043]],\n",
      "       grad_fn=<TanhBackward0>)\n",
      "10\n"
     ]
    }
   ],
   "source": [
    "X_Home = []\n",
    "for idx, team in enumerate(past_stats_home):\n",
    "    \n",
    "    X = past_stats_home[team]\n",
    "    X = np.array(X, dtype=np.float32)\n",
    "    X = torch.tensor(X, dtype=torch.float32)\n",
    "    X = torch.reshape(X, (1, -1))\n",
    "    \n",
    "    out = gen_model(X)\n",
    "    logits = out['logits']\n",
    "    X_Home.append(logits)\n",
    "\n",
    "X_Away = []\n",
    "for idx, team in enumerate(past_stats_away):\n",
    "    \n",
    "    X = past_stats_away[team]\n",
    "    X = np.array(X, dtype=np.float32)\n",
    "    X = torch.tensor(X, dtype=torch.float32)\n",
    "    X = torch.reshape(X, (1, -1))\n",
    "    \n",
    "    out = gen_model(X)\n",
    "    logits = out['logits']\n",
    "    X_Away.append(logits)\n",
    "\n",
    "Normalized_X = []\n",
    "for i in range(len(X_Home)):\n",
    "    Normalized_X.append(F.tanh((X_Home[i] - X_Away[i] + epsilon) / T))\n",
    "\n",
    "print(Normalized_X[0]) # X -> lst | X[0] -> lst | X[0][0] -> lst\n",
    "print(len(Normalized_X))"
   ]
  },
  {
   "cell_type": "code",
   "execution_count": 28,
   "id": "f462af14",
   "metadata": {
    "execution": {
     "iopub.execute_input": "2025-02-18T05:27:03.868668Z",
     "iopub.status.busy": "2025-02-18T05:27:03.868347Z",
     "iopub.status.idle": "2025-02-18T05:27:03.874786Z",
     "shell.execute_reply": "2025-02-18T05:27:03.873993Z"
    },
    "papermill": {
     "duration": 0.018923,
     "end_time": "2025-02-18T05:27:03.876107",
     "exception": false,
     "start_time": "2025-02-18T05:27:03.857184",
     "status": "completed"
    },
    "tags": []
   },
   "outputs": [],
   "source": [
    "inf['rest_days% (A/B)'] = np.tanh((inf['rest_days_Home'] - inf['rest_days_Away'] + epsilon) / T)\n",
    "inf = inf.drop(columns = ['rest_days_Home', 'rest_days_Away', 'travel_dist_Home', 'travel_dist_Away'])"
   ]
  },
  {
   "cell_type": "code",
   "execution_count": 29,
   "id": "46536391",
   "metadata": {
    "execution": {
     "iopub.execute_input": "2025-02-18T05:27:03.897877Z",
     "iopub.status.busy": "2025-02-18T05:27:03.897547Z",
     "iopub.status.idle": "2025-02-18T05:27:03.962381Z",
     "shell.execute_reply": "2025-02-18T05:27:03.961063Z"
    },
    "papermill": {
     "duration": 0.077399,
     "end_time": "2025-02-18T05:27:03.963794",
     "exception": false,
     "start_time": "2025-02-18T05:27:03.886395",
     "status": "completed"
    },
    "tags": []
   },
   "outputs": [
    {
     "name": "stdout",
     "output_type": "stream",
     "text": [
      "tensor(0.0248, dtype=torch.float64)\n"
     ]
    },
    {
     "name": "stderr",
     "output_type": "stream",
     "text": [
      "<ipython-input-29-4211773da8a0>:12: FutureWarning: Series.__getitem__ treating keys as positions is deprecated. In a future version, integer keys will always be treated as labels (consistent with DataFrame behavior). To access a value by position, use `ser.iloc[pos]`\n",
      "  team_home = df_ts[df_ts['team'] == i[1][0]]\n",
      "<ipython-input-29-4211773da8a0>:16: FutureWarning: Series.__getitem__ treating keys as positions is deprecated. In a future version, integer keys will always be treated as labels (consistent with DataFrame behavior). To access a value by position, use `ser.iloc[pos]`\n",
      "  team_away = df_ts[df_ts['team'] == i[1][1]]\n"
     ]
    }
   ],
   "source": [
    "# [15 Features] -> F_Personal + rest_diff + prev game dist_diff + HAN_A + HAN_B + travel_dist_diff\n",
    "# Total = 20\n",
    "HAN_Home = torch.tensor(1)\n",
    "HAN_Away = torch.tensor(0)\n",
    "\n",
    "prev_trv_dist_diff_list = []\n",
    "for i in inf.iterrows():\n",
    "    # i -> Tuple\n",
    "    # i[0] = Row Index\n",
    "    # i[1] = Rest\n",
    "    # i[1] -> List\n",
    "    team_home = df_ts[df_ts['team'] == i[1][0]]\n",
    "    team_home = team_home.sort_values(by = 'game_date', ascending = False)\n",
    "    team_home = team_home.iloc[0]\n",
    "\n",
    "    team_away = df_ts[df_ts['team'] == i[1][1]]\n",
    "    team_away = team_away.sort_values(by = 'game_date', ascending = False)\n",
    "    team_away = team_away.iloc[0]\n",
    "\n",
    "    prev_travel_dist_home = team_home['travel_dist']\n",
    "    prev_travel_dist_away = team_away['travel_dist']\n",
    "    prev_travel_dist_diff = torch.tensor(np.tanh((prev_travel_dist_home - prev_travel_dist_away + epsilon) / T)) # type: np.float64\n",
    "    prev_trv_dist_diff_list.append(prev_travel_dist_diff)\n",
    "\n",
    "print(prev_trv_dist_diff_list[0])"
   ]
  },
  {
   "cell_type": "code",
   "execution_count": 30,
   "id": "f5609b24",
   "metadata": {
    "execution": {
     "iopub.execute_input": "2025-02-18T05:27:03.985790Z",
     "iopub.status.busy": "2025-02-18T05:27:03.985452Z",
     "iopub.status.idle": "2025-02-18T05:27:03.996333Z",
     "shell.execute_reply": "2025-02-18T05:27:03.995430Z"
    },
    "papermill": {
     "duration": 0.023593,
     "end_time": "2025-02-18T05:27:03.997883",
     "exception": false,
     "start_time": "2025-02-18T05:27:03.974290",
     "status": "completed"
    },
    "tags": []
   },
   "outputs": [
    {
     "data": {
      "text/html": [
       "<div>\n",
       "<style scoped>\n",
       "    .dataframe tbody tr th:only-of-type {\n",
       "        vertical-align: middle;\n",
       "    }\n",
       "\n",
       "    .dataframe tbody tr th {\n",
       "        vertical-align: top;\n",
       "    }\n",
       "\n",
       "    .dataframe thead th {\n",
       "        text-align: right;\n",
       "    }\n",
       "</style>\n",
       "<table border=\"1\" class=\"dataframe\">\n",
       "  <thead>\n",
       "    <tr style=\"text-align: right;\">\n",
       "      <th></th>\n",
       "      <th>team_home</th>\n",
       "      <th>team_away</th>\n",
       "      <th>home_away_NS</th>\n",
       "      <th>travel_dist% (A/B)</th>\n",
       "      <th>rest_days% (A/B)</th>\n",
       "    </tr>\n",
       "  </thead>\n",
       "  <tbody>\n",
       "    <tr>\n",
       "      <th>0</th>\n",
       "      <td>rhode_island_rams</td>\n",
       "      <td>north_carolina_tar_heels</td>\n",
       "      <td>0</td>\n",
       "      <td>-0.045263</td>\n",
       "      <td>2.000000e-09</td>\n",
       "    </tr>\n",
       "    <tr>\n",
       "      <th>1</th>\n",
       "      <td>nc_state_wolfpack</td>\n",
       "      <td>rhode_island_rams</td>\n",
       "      <td>0</td>\n",
       "      <td>0.197375</td>\n",
       "      <td>3.997868e-02</td>\n",
       "    </tr>\n",
       "    <tr>\n",
       "      <th>2</th>\n",
       "      <td>nc_state_wolfpack</td>\n",
       "      <td>north_carolina_tar_heels</td>\n",
       "      <td>0</td>\n",
       "      <td>0.153483</td>\n",
       "      <td>3.997868e-02</td>\n",
       "    </tr>\n",
       "    <tr>\n",
       "      <th>3</th>\n",
       "      <td>liberty_flames</td>\n",
       "      <td>bucknell_bison</td>\n",
       "      <td>0</td>\n",
       "      <td>0.020708</td>\n",
       "      <td>-1.586485e-01</td>\n",
       "    </tr>\n",
       "    <tr>\n",
       "      <th>4</th>\n",
       "      <td>drexel_dragons</td>\n",
       "      <td>delaware_blue_hens</td>\n",
       "      <td>0</td>\n",
       "      <td>-0.039979</td>\n",
       "      <td>2.221857e-02</td>\n",
       "    </tr>\n",
       "    <tr>\n",
       "      <th>5</th>\n",
       "      <td>massachusetts_minutewomen</td>\n",
       "      <td>princeton_tigers</td>\n",
       "      <td>0</td>\n",
       "      <td>0.008416</td>\n",
       "      <td>-1.333254e-02</td>\n",
       "    </tr>\n",
       "    <tr>\n",
       "      <th>6</th>\n",
       "      <td>buffalo_bulls</td>\n",
       "      <td>stony_brook_seawolves</td>\n",
       "      <td>0</td>\n",
       "      <td>-0.189354</td>\n",
       "      <td>-7.541211e-02</td>\n",
       "    </tr>\n",
       "    <tr>\n",
       "      <th>7</th>\n",
       "      <td>fairfield_stags</td>\n",
       "      <td>towson_tigers</td>\n",
       "      <td>0</td>\n",
       "      <td>-0.010163</td>\n",
       "      <td>-1.369125e-01</td>\n",
       "    </tr>\n",
       "    <tr>\n",
       "      <th>8</th>\n",
       "      <td>uconn_huskies</td>\n",
       "      <td>campbell_fighting_camels</td>\n",
       "      <td>0</td>\n",
       "      <td>-0.113078</td>\n",
       "      <td>-7.982977e-02</td>\n",
       "    </tr>\n",
       "    <tr>\n",
       "      <th>9</th>\n",
       "      <td>american_university_eagles</td>\n",
       "      <td>columbia_lions</td>\n",
       "      <td>0</td>\n",
       "      <td>0.040060</td>\n",
       "      <td>-1.150439e-01</td>\n",
       "    </tr>\n",
       "  </tbody>\n",
       "</table>\n",
       "</div>"
      ],
      "text/plain": [
       "                    team_home                 team_away  home_away_NS  \\\n",
       "0           rhode_island_rams  north_carolina_tar_heels             0   \n",
       "1           nc_state_wolfpack         rhode_island_rams             0   \n",
       "2           nc_state_wolfpack  north_carolina_tar_heels             0   \n",
       "3              liberty_flames            bucknell_bison             0   \n",
       "4              drexel_dragons        delaware_blue_hens             0   \n",
       "5   massachusetts_minutewomen          princeton_tigers             0   \n",
       "6               buffalo_bulls     stony_brook_seawolves             0   \n",
       "7             fairfield_stags             towson_tigers             0   \n",
       "8               uconn_huskies  campbell_fighting_camels             0   \n",
       "9  american_university_eagles            columbia_lions             0   \n",
       "\n",
       "   travel_dist% (A/B)  rest_days% (A/B)  \n",
       "0           -0.045263      2.000000e-09  \n",
       "1            0.197375      3.997868e-02  \n",
       "2            0.153483      3.997868e-02  \n",
       "3            0.020708     -1.586485e-01  \n",
       "4           -0.039979      2.221857e-02  \n",
       "5            0.008416     -1.333254e-02  \n",
       "6           -0.189354     -7.541211e-02  \n",
       "7           -0.010163     -1.369125e-01  \n",
       "8           -0.113078     -7.982977e-02  \n",
       "9            0.040060     -1.150439e-01  "
      ]
     },
     "execution_count": 30,
     "metadata": {},
     "output_type": "execute_result"
    }
   ],
   "source": [
    "inf"
   ]
  },
  {
   "cell_type": "code",
   "execution_count": 31,
   "id": "6aaebcec",
   "metadata": {
    "execution": {
     "iopub.execute_input": "2025-02-18T05:27:04.020578Z",
     "iopub.status.busy": "2025-02-18T05:27:04.020241Z",
     "iopub.status.idle": "2025-02-18T05:27:04.031438Z",
     "shell.execute_reply": "2025-02-18T05:27:04.030458Z"
    },
    "papermill": {
     "duration": 0.02421,
     "end_time": "2025-02-18T05:27:04.032895",
     "exception": false,
     "start_time": "2025-02-18T05:27:04.008685",
     "status": "completed"
    },
    "tags": []
   },
   "outputs": [
    {
     "data": {
      "text/plain": [
       "[tensor([[-0.0059, -0.0011,  0.0098,  0.0052, -0.0006,  0.0028,  0.0151, -0.0064,\n",
       "           0.0024,  0.0021,  0.0024, -0.0074,  0.0042, -0.0050,  0.0043]],\n",
       "        grad_fn=<TanhBackward0>),\n",
       " tensor([[ 0.0188,  0.0107,  0.0013,  0.0032, -0.0027,  0.0033, -0.0073,  0.0123,\n",
       "           0.0083, -0.0083, -0.0028,  0.0077, -0.0089, -0.0003, -0.0050]],\n",
       "        grad_fn=<TanhBackward0>),\n",
       " tensor([[ 0.0129,  0.0096,  0.0111,  0.0084, -0.0033,  0.0061,  0.0078,  0.0059,\n",
       "           0.0106, -0.0063, -0.0003,  0.0003, -0.0047, -0.0053, -0.0007]],\n",
       "        grad_fn=<TanhBackward0>),\n",
       " tensor([[ 0.0007,  0.0010,  0.0115,  0.0228,  0.0050,  0.0138,  0.0051,  0.0003,\n",
       "          -0.0025,  0.0117, -0.0010,  0.0246,  0.0122, -0.0027, -0.0018]],\n",
       "        grad_fn=<TanhBackward0>),\n",
       " tensor([[-2.4251e-03, -9.5064e-04, -2.6397e-03,  4.0531e-03, -4.1369e-03,\n",
       "           8.7680e-03,  1.8272e-02, -4.6592e-04, -1.6911e-03, -1.2699e-03,\n",
       "          -1.9338e-02,  4.9190e-03,  5.1918e-05, -5.4430e-03,  5.9254e-04]],\n",
       "        grad_fn=<TanhBackward0>),\n",
       " tensor([[ 0.0194,  0.0090, -0.0051,  0.0136,  0.0155, -0.0032,  0.0156,  0.0142,\n",
       "           0.0036,  0.0159, -0.0025,  0.0064,  0.0147,  0.0009, -0.0064]],\n",
       "        grad_fn=<TanhBackward0>),\n",
       " tensor([[-0.0154,  0.0027, -0.0067, -0.0050,  0.0078,  0.0077,  0.0006,  0.0026,\n",
       "          -0.0205, -0.0096, -0.0005, -0.0096, -0.0109, -0.0002, -0.0016]],\n",
       "        grad_fn=<TanhBackward0>),\n",
       " tensor([[-0.0034, -0.0102,  0.0139,  0.0109,  0.0078,  0.0126, -0.0024, -0.0012,\n",
       "           0.0113,  0.0173, -0.0014,  0.0055,  0.0063,  0.0068,  0.0060]],\n",
       "        grad_fn=<TanhBackward0>),\n",
       " tensor([[-0.0315, -0.0270, -0.0316, -0.0258, -0.0336, -0.0181, -0.0226, -0.0054,\n",
       "           0.0041, -0.0352, -0.0098, -0.0125, -0.0360,  0.0095, -0.0224]],\n",
       "        grad_fn=<TanhBackward0>),\n",
       " tensor([[ 0.0117,  0.0039,  0.0077, -0.0024,  0.0057, -0.0021, -0.0074, -0.0022,\n",
       "           0.0052,  0.0033,  0.0108, -0.0072, -0.0112, -0.0008, -0.0098]],\n",
       "        grad_fn=<TanhBackward0>)]"
      ]
     },
     "execution_count": 31,
     "metadata": {},
     "output_type": "execute_result"
    }
   ],
   "source": [
    "Normalized_X"
   ]
  },
  {
   "cell_type": "code",
   "execution_count": 32,
   "id": "af8d48a9",
   "metadata": {
    "execution": {
     "iopub.execute_input": "2025-02-18T05:27:04.055876Z",
     "iopub.status.busy": "2025-02-18T05:27:04.055527Z",
     "iopub.status.idle": "2025-02-18T05:27:04.063964Z",
     "shell.execute_reply": "2025-02-18T05:27:04.063195Z"
    },
    "papermill": {
     "duration": 0.021657,
     "end_time": "2025-02-18T05:27:04.065538",
     "exception": false,
     "start_time": "2025-02-18T05:27:04.043881",
     "status": "completed"
    },
    "tags": []
   },
   "outputs": [],
   "source": [
    "Ft = []\n",
    "for i in range(len(Normalized_X)):\n",
    "    Ft.append(Normalized_X[i][0])\n",
    "\n",
    "FF = []\n",
    "for i in range(len(Ft)):\n",
    "    Stat = Ft[i]\n",
    "\n",
    "    rest_diff = torch.tensor(inf['rest_days% (A/B)'][i])\n",
    "    travel_diff = torch.tensor(inf['travel_dist% (A/B)'][i])\n",
    "\n",
    "    comb1 = torch.stack((rest_diff, prev_trv_dist_diff_list[0]))\n",
    "\n",
    "    HAN = torch.stack((HAN_Home, HAN_Away))\n",
    "\n",
    "    comb2 = torch.stack((comb1, HAN)).reshape(1, -1)\n",
    "    \n",
    "    comb3 = torch.hstack((comb2, travel_diff.reshape(1, 1)))\n",
    "    final_feature = torch.hstack((Stat.reshape(1, -1), comb3))\n",
    "    FF.append(final_feature)"
   ]
  },
  {
   "cell_type": "code",
   "execution_count": 33,
   "id": "dea8327d",
   "metadata": {
    "execution": {
     "iopub.execute_input": "2025-02-18T05:27:04.088422Z",
     "iopub.status.busy": "2025-02-18T05:27:04.088081Z",
     "iopub.status.idle": "2025-02-18T05:27:04.094857Z",
     "shell.execute_reply": "2025-02-18T05:27:04.093850Z"
    },
    "papermill": {
     "duration": 0.019785,
     "end_time": "2025-02-18T05:27:04.096356",
     "exception": false,
     "start_time": "2025-02-18T05:27:04.076571",
     "status": "completed"
    },
    "tags": []
   },
   "outputs": [
    {
     "name": "stdout",
     "output_type": "stream",
     "text": [
      "tensor([[-5.9330e-03, -1.1484e-03,  9.7819e-03,  5.1622e-03, -6.0143e-04,\n",
      "          2.8063e-03,  1.5135e-02, -6.4062e-03,  2.3529e-03,  2.0561e-03,\n",
      "          2.4422e-03, -7.3865e-03,  4.2125e-03, -4.9841e-03,  4.3132e-03,\n",
      "          2.0000e-09,  2.4804e-02,  1.0000e+00,  0.0000e+00, -4.5263e-02]],\n",
      "       dtype=torch.float64, grad_fn=<CatBackward0>)\n",
      " \n",
      "tensor([-5.9330e-03, -1.1484e-03,  9.7819e-03,  5.1622e-03, -6.0143e-04,\n",
      "         2.8063e-03,  1.5135e-02, -6.4062e-03,  2.3529e-03,  2.0561e-03,\n",
      "         2.4422e-03, -7.3865e-03,  4.2125e-03, -4.9841e-03,  4.3132e-03,\n",
      "         2.0000e-09,  2.4804e-02,  1.0000e+00,  0.0000e+00, -4.5263e-02],\n",
      "       dtype=torch.float64, grad_fn=<SelectBackward0>)\n"
     ]
    }
   ],
   "source": [
    "print(FF[0])\n",
    "print(\" \")\n",
    "print(FF[0][0])"
   ]
  },
  {
   "cell_type": "code",
   "execution_count": 34,
   "id": "4e1fd428",
   "metadata": {
    "execution": {
     "iopub.execute_input": "2025-02-18T05:27:04.120124Z",
     "iopub.status.busy": "2025-02-18T05:27:04.119730Z",
     "iopub.status.idle": "2025-02-18T05:27:04.128624Z",
     "shell.execute_reply": "2025-02-18T05:27:04.127541Z"
    },
    "papermill": {
     "duration": 0.023068,
     "end_time": "2025-02-18T05:27:04.130205",
     "exception": false,
     "start_time": "2025-02-18T05:27:04.107137",
     "status": "completed"
    },
    "tags": []
   },
   "outputs": [
    {
     "name": "stdout",
     "output_type": "stream",
     "text": [
      "<class 'torch.Tensor'>\n",
      "<class 'torch.Tensor'>\n",
      "<class 'torch.Tensor'>\n",
      "<class 'torch.Tensor'>\n",
      "<class 'torch.Tensor'>\n",
      "<class 'torch.Tensor'>\n",
      "<class 'torch.Tensor'>\n",
      "<class 'torch.Tensor'>\n",
      "<class 'torch.Tensor'>\n",
      "<class 'torch.Tensor'>\n",
      "<class 'torch.Tensor'>\n",
      "<class 'torch.Tensor'>\n",
      "<class 'torch.Tensor'>\n",
      "<class 'torch.Tensor'>\n",
      "<class 'torch.Tensor'>\n",
      "<class 'torch.Tensor'>\n",
      "<class 'torch.Tensor'>\n",
      "<class 'torch.Tensor'>\n",
      "<class 'torch.Tensor'>\n",
      "<class 'torch.Tensor'>\n"
     ]
    }
   ],
   "source": [
    "for i in FF[0][0]:\n",
    "    print(type(i))"
   ]
  },
  {
   "cell_type": "code",
   "execution_count": 35,
   "id": "c1f3cffb",
   "metadata": {
    "execution": {
     "iopub.execute_input": "2025-02-18T05:27:04.153797Z",
     "iopub.status.busy": "2025-02-18T05:27:04.153471Z",
     "iopub.status.idle": "2025-02-18T05:27:05.820996Z",
     "shell.execute_reply": "2025-02-18T05:27:05.819780Z"
    },
    "papermill": {
     "duration": 1.681192,
     "end_time": "2025-02-18T05:27:05.822671",
     "exception": false,
     "start_time": "2025-02-18T05:27:04.141479",
     "status": "completed"
    },
    "tags": []
   },
   "outputs": [
    {
     "name": "stdout",
     "output_type": "stream",
     "text": [
      "tensor(0.3612, grad_fn=<SelectBackward0>)\n",
      "tensor(0.9245, grad_fn=<SelectBackward0>)\n",
      "tensor(0.9205, grad_fn=<SelectBackward0>)\n",
      "tensor(0.8000, grad_fn=<SelectBackward0>)\n",
      "tensor(0.6403, grad_fn=<SelectBackward0>)\n",
      "tensor(0.8373, grad_fn=<SelectBackward0>)\n",
      "tensor(0.0940, grad_fn=<SelectBackward0>)\n",
      "tensor(0.5616, grad_fn=<SelectBackward0>)\n",
      "tensor(0.0706, grad_fn=<SelectBackward0>)\n",
      "tensor(0.5982, grad_fn=<SelectBackward0>)\n"
     ]
    }
   ],
   "source": [
    "Winning_pctg = []\n",
    "\n",
    "for i in range(len(FF)):\n",
    "    Features = FF[i][0]\n",
    "    Features = Features.reshape(1, -1)\n",
    "    Features = Features.float()\n",
    "    \n",
    "    Pred = cls_model(Features)\n",
    "    prob = F.softmax(Pred['logits'], dim = -1)\n",
    "    print(prob[0][1])\n",
    "    Winning_pctg.append(prob[0][1])"
   ]
  },
  {
   "cell_type": "code",
   "execution_count": 36,
   "id": "caf0d6aa",
   "metadata": {
    "execution": {
     "iopub.execute_input": "2025-02-18T05:27:05.846815Z",
     "iopub.status.busy": "2025-02-18T05:27:05.846472Z",
     "iopub.status.idle": "2025-02-18T05:27:05.855300Z",
     "shell.execute_reply": "2025-02-18T05:27:05.854465Z"
    },
    "papermill": {
     "duration": 0.022519,
     "end_time": "2025-02-18T05:27:05.856795",
     "exception": false,
     "start_time": "2025-02-18T05:27:05.834276",
     "status": "completed"
    },
    "tags": []
   },
   "outputs": [
    {
     "data": {
      "text/plain": [
       "[tensor(0.3612, grad_fn=<SelectBackward0>),\n",
       " tensor(0.9245, grad_fn=<SelectBackward0>),\n",
       " tensor(0.9205, grad_fn=<SelectBackward0>),\n",
       " tensor(0.8000, grad_fn=<SelectBackward0>),\n",
       " tensor(0.6403, grad_fn=<SelectBackward0>),\n",
       " tensor(0.8373, grad_fn=<SelectBackward0>),\n",
       " tensor(0.0940, grad_fn=<SelectBackward0>),\n",
       " tensor(0.5616, grad_fn=<SelectBackward0>),\n",
       " tensor(0.0706, grad_fn=<SelectBackward0>),\n",
       " tensor(0.5982, grad_fn=<SelectBackward0>)]"
      ]
     },
     "execution_count": 36,
     "metadata": {},
     "output_type": "execute_result"
    }
   ],
   "source": [
    "Winning_pctg"
   ]
  }
 ],
 "metadata": {
  "kaggle": {
   "accelerator": "none",
   "dataSources": [
    {
     "datasetId": 6678396,
     "sourceId": 10765933,
     "sourceType": "datasetVersion"
    },
    {
     "datasetId": 6680976,
     "sourceId": 10769690,
     "sourceType": "datasetVersion"
    }
   ],
   "dockerImageVersionId": 30886,
   "isGpuEnabled": false,
   "isInternetEnabled": true,
   "language": "python",
   "sourceType": "notebook"
  },
  "kernelspec": {
   "display_name": "Python 3",
   "language": "python",
   "name": "python3"
  },
  "language_info": {
   "codemirror_mode": {
    "name": "ipython",
    "version": 3
   },
   "file_extension": ".py",
   "mimetype": "text/x-python",
   "name": "python",
   "nbconvert_exporter": "python",
   "pygments_lexer": "ipython3",
   "version": "3.10.12"
  },
  "papermill": {
   "default_parameters": {},
   "duration": 64.586196,
   "end_time": "2025-02-18T05:27:09.271268",
   "environment_variables": {},
   "exception": null,
   "input_path": "__notebook__.ipynb",
   "output_path": "__notebook__.ipynb",
   "parameters": {},
   "start_time": "2025-02-18T05:26:04.685072",
   "version": "2.6.0"
  },
  "widgets": {
   "application/vnd.jupyter.widget-state+json": {
    "state": {
     "0c5d28a033e24185aa250381a861c261": {
      "model_module": "@jupyter-widgets/controls",
      "model_module_version": "2.0.0",
      "model_name": "HBoxModel",
      "state": {
       "_dom_classes": [],
       "_model_module": "@jupyter-widgets/controls",
       "_model_module_version": "2.0.0",
       "_model_name": "HBoxModel",
       "_view_count": null,
       "_view_module": "@jupyter-widgets/controls",
       "_view_module_version": "2.0.0",
       "_view_name": "HBoxView",
       "box_style": "",
       "children": [
        "IPY_MODEL_22c9ca2355b542e98f31eda1b5a66fdd",
        "IPY_MODEL_f7d04d544cbd42f2ad7731d72a7cc635",
        "IPY_MODEL_40c3477f2bfe4e3ea635b678b19e60e3"
       ],
       "layout": "IPY_MODEL_1baeefd3d823422b8a7ca2d11659486d",
       "tabbable": null,
       "tooltip": null
      }
     },
     "165e45ae1ccb4c4286aa18122436ec53": {
      "model_module": "@jupyter-widgets/controls",
      "model_module_version": "2.0.0",
      "model_name": "HTMLStyleModel",
      "state": {
       "_model_module": "@jupyter-widgets/controls",
       "_model_module_version": "2.0.0",
       "_model_name": "HTMLStyleModel",
       "_view_count": null,
       "_view_module": "@jupyter-widgets/base",
       "_view_module_version": "2.0.0",
       "_view_name": "StyleView",
       "background": null,
       "description_width": "",
       "font_size": null,
       "text_color": null
      }
     },
     "1baeefd3d823422b8a7ca2d11659486d": {
      "model_module": "@jupyter-widgets/base",
      "model_module_version": "2.0.0",
      "model_name": "LayoutModel",
      "state": {
       "_model_module": "@jupyter-widgets/base",
       "_model_module_version": "2.0.0",
       "_model_name": "LayoutModel",
       "_view_count": null,
       "_view_module": "@jupyter-widgets/base",
       "_view_module_version": "2.0.0",
       "_view_name": "LayoutView",
       "align_content": null,
       "align_items": null,
       "align_self": null,
       "border_bottom": null,
       "border_left": null,
       "border_right": null,
       "border_top": null,
       "bottom": null,
       "display": null,
       "flex": null,
       "flex_flow": null,
       "grid_area": null,
       "grid_auto_columns": null,
       "grid_auto_flow": null,
       "grid_auto_rows": null,
       "grid_column": null,
       "grid_gap": null,
       "grid_row": null,
       "grid_template_areas": null,
       "grid_template_columns": null,
       "grid_template_rows": null,
       "height": null,
       "justify_content": null,
       "justify_items": null,
       "left": null,
       "margin": null,
       "max_height": null,
       "max_width": null,
       "min_height": null,
       "min_width": null,
       "object_fit": null,
       "object_position": null,
       "order": null,
       "overflow": null,
       "padding": null,
       "right": null,
       "top": null,
       "visibility": null,
       "width": null
      }
     },
     "22c9ca2355b542e98f31eda1b5a66fdd": {
      "model_module": "@jupyter-widgets/controls",
      "model_module_version": "2.0.0",
      "model_name": "HTMLModel",
      "state": {
       "_dom_classes": [],
       "_model_module": "@jupyter-widgets/controls",
       "_model_module_version": "2.0.0",
       "_model_name": "HTMLModel",
       "_view_count": null,
       "_view_module": "@jupyter-widgets/controls",
       "_view_module_version": "2.0.0",
       "_view_name": "HTMLView",
       "description": "",
       "description_allow_html": false,
       "layout": "IPY_MODEL_4d8093118e10420bbd10c8d6535f7798",
       "placeholder": "​",
       "style": "IPY_MODEL_165e45ae1ccb4c4286aa18122436ec53",
       "tabbable": null,
       "tooltip": null,
       "value": "model.safetensors: 100%"
      }
     },
     "40c3477f2bfe4e3ea635b678b19e60e3": {
      "model_module": "@jupyter-widgets/controls",
      "model_module_version": "2.0.0",
      "model_name": "HTMLModel",
      "state": {
       "_dom_classes": [],
       "_model_module": "@jupyter-widgets/controls",
       "_model_module_version": "2.0.0",
       "_model_name": "HTMLModel",
       "_view_count": null,
       "_view_module": "@jupyter-widgets/controls",
       "_view_module_version": "2.0.0",
       "_view_name": "HTMLView",
       "description": "",
       "description_allow_html": false,
       "layout": "IPY_MODEL_84c5feb9b4954c649b5433123147236f",
       "placeholder": "​",
       "style": "IPY_MODEL_efe9e29809954edd9466c7758303bc76",
       "tabbable": null,
       "tooltip": null,
       "value": " 102M/102M [00:00&lt;00:00, 227MB/s]"
      }
     },
     "4d8093118e10420bbd10c8d6535f7798": {
      "model_module": "@jupyter-widgets/base",
      "model_module_version": "2.0.0",
      "model_name": "LayoutModel",
      "state": {
       "_model_module": "@jupyter-widgets/base",
       "_model_module_version": "2.0.0",
       "_model_name": "LayoutModel",
       "_view_count": null,
       "_view_module": "@jupyter-widgets/base",
       "_view_module_version": "2.0.0",
       "_view_name": "LayoutView",
       "align_content": null,
       "align_items": null,
       "align_self": null,
       "border_bottom": null,
       "border_left": null,
       "border_right": null,
       "border_top": null,
       "bottom": null,
       "display": null,
       "flex": null,
       "flex_flow": null,
       "grid_area": null,
       "grid_auto_columns": null,
       "grid_auto_flow": null,
       "grid_auto_rows": null,
       "grid_column": null,
       "grid_gap": null,
       "grid_row": null,
       "grid_template_areas": null,
       "grid_template_columns": null,
       "grid_template_rows": null,
       "height": null,
       "justify_content": null,
       "justify_items": null,
       "left": null,
       "margin": null,
       "max_height": null,
       "max_width": null,
       "min_height": null,
       "min_width": null,
       "object_fit": null,
       "object_position": null,
       "order": null,
       "overflow": null,
       "padding": null,
       "right": null,
       "top": null,
       "visibility": null,
       "width": null
      }
     },
     "4f62059a9b3e4f439233a62423953e0c": {
      "model_module": "@jupyter-widgets/base",
      "model_module_version": "2.0.0",
      "model_name": "LayoutModel",
      "state": {
       "_model_module": "@jupyter-widgets/base",
       "_model_module_version": "2.0.0",
       "_model_name": "LayoutModel",
       "_view_count": null,
       "_view_module": "@jupyter-widgets/base",
       "_view_module_version": "2.0.0",
       "_view_name": "LayoutView",
       "align_content": null,
       "align_items": null,
       "align_self": null,
       "border_bottom": null,
       "border_left": null,
       "border_right": null,
       "border_top": null,
       "bottom": null,
       "display": null,
       "flex": null,
       "flex_flow": null,
       "grid_area": null,
       "grid_auto_columns": null,
       "grid_auto_flow": null,
       "grid_auto_rows": null,
       "grid_column": null,
       "grid_gap": null,
       "grid_row": null,
       "grid_template_areas": null,
       "grid_template_columns": null,
       "grid_template_rows": null,
       "height": null,
       "justify_content": null,
       "justify_items": null,
       "left": null,
       "margin": null,
       "max_height": null,
       "max_width": null,
       "min_height": null,
       "min_width": null,
       "object_fit": null,
       "object_position": null,
       "order": null,
       "overflow": null,
       "padding": null,
       "right": null,
       "top": null,
       "visibility": null,
       "width": null
      }
     },
     "84c5feb9b4954c649b5433123147236f": {
      "model_module": "@jupyter-widgets/base",
      "model_module_version": "2.0.0",
      "model_name": "LayoutModel",
      "state": {
       "_model_module": "@jupyter-widgets/base",
       "_model_module_version": "2.0.0",
       "_model_name": "LayoutModel",
       "_view_count": null,
       "_view_module": "@jupyter-widgets/base",
       "_view_module_version": "2.0.0",
       "_view_name": "LayoutView",
       "align_content": null,
       "align_items": null,
       "align_self": null,
       "border_bottom": null,
       "border_left": null,
       "border_right": null,
       "border_top": null,
       "bottom": null,
       "display": null,
       "flex": null,
       "flex_flow": null,
       "grid_area": null,
       "grid_auto_columns": null,
       "grid_auto_flow": null,
       "grid_auto_rows": null,
       "grid_column": null,
       "grid_gap": null,
       "grid_row": null,
       "grid_template_areas": null,
       "grid_template_columns": null,
       "grid_template_rows": null,
       "height": null,
       "justify_content": null,
       "justify_items": null,
       "left": null,
       "margin": null,
       "max_height": null,
       "max_width": null,
       "min_height": null,
       "min_width": null,
       "object_fit": null,
       "object_position": null,
       "order": null,
       "overflow": null,
       "padding": null,
       "right": null,
       "top": null,
       "visibility": null,
       "width": null
      }
     },
     "c2ab3d01ed38477199108508636daee1": {
      "model_module": "@jupyter-widgets/controls",
      "model_module_version": "2.0.0",
      "model_name": "ProgressStyleModel",
      "state": {
       "_model_module": "@jupyter-widgets/controls",
       "_model_module_version": "2.0.0",
       "_model_name": "ProgressStyleModel",
       "_view_count": null,
       "_view_module": "@jupyter-widgets/base",
       "_view_module_version": "2.0.0",
       "_view_name": "StyleView",
       "bar_color": null,
       "description_width": ""
      }
     },
     "efe9e29809954edd9466c7758303bc76": {
      "model_module": "@jupyter-widgets/controls",
      "model_module_version": "2.0.0",
      "model_name": "HTMLStyleModel",
      "state": {
       "_model_module": "@jupyter-widgets/controls",
       "_model_module_version": "2.0.0",
       "_model_name": "HTMLStyleModel",
       "_view_count": null,
       "_view_module": "@jupyter-widgets/base",
       "_view_module_version": "2.0.0",
       "_view_name": "StyleView",
       "background": null,
       "description_width": "",
       "font_size": null,
       "text_color": null
      }
     },
     "f7d04d544cbd42f2ad7731d72a7cc635": {
      "model_module": "@jupyter-widgets/controls",
      "model_module_version": "2.0.0",
      "model_name": "FloatProgressModel",
      "state": {
       "_dom_classes": [],
       "_model_module": "@jupyter-widgets/controls",
       "_model_module_version": "2.0.0",
       "_model_name": "FloatProgressModel",
       "_view_count": null,
       "_view_module": "@jupyter-widgets/controls",
       "_view_module_version": "2.0.0",
       "_view_name": "ProgressView",
       "bar_style": "success",
       "description": "",
       "description_allow_html": false,
       "layout": "IPY_MODEL_4f62059a9b3e4f439233a62423953e0c",
       "max": 102469840.0,
       "min": 0.0,
       "orientation": "horizontal",
       "style": "IPY_MODEL_c2ab3d01ed38477199108508636daee1",
       "tabbable": null,
       "tooltip": null,
       "value": 102469840.0
      }
     }
    },
    "version_major": 2,
    "version_minor": 0
   }
  }
 },
 "nbformat": 4,
 "nbformat_minor": 5
}
